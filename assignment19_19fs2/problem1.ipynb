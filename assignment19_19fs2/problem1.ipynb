{
 "cells": [
  {
   "cell_type": "markdown",
   "metadata": {},
   "source": [
    "Before you turn this problem in, make sure everything runs as expected. First, **restart the kernel** (in the menubar, select Kernel$\\rightarrow$Restart) and then **run all cells** (in the menubar, select Cell$\\rightarrow$Run All).\n",
    "\n",
    "Make sure you fill in any place that says `YOUR CODE HERE` or \"YOUR ANSWER HERE\", as well as your name and collaborators below:"
   ]
  },
  {
   "cell_type": "code",
   "execution_count": null,
   "metadata": {},
   "outputs": [],
   "source": [
    "NAME = \"Haitong Lin\"\n",
    "COLLABORATORS = \"\""
   ]
  },
  {
   "cell_type": "markdown",
   "metadata": {},
   "source": [
    "---"
   ]
  },
  {
   "cell_type": "markdown",
   "metadata": {
    "deletable": false,
    "editable": false,
    "nbgrader": {
     "cell_type": "markdown",
     "checksum": "71c0712296693d922c55a38733837754",
     "grade": false,
     "grade_id": "jupyter",
     "locked": true,
     "schema_version": 3,
     "solution": false
    }
   },
   "source": [
    "Problem 1 of Assignment 19, STATS102 Fall2019 Session 2, Duke Kunshan University, Due at Dec 3rd 12：00pm beijing time\n",
    "![](dku.jpg)\n",
    "For this problem set, we'll be using the Jupyter notebook and nbgrader:\n",
    "\n",
    "![](jupyter.png)"
   ]
  },
  {
   "cell_type": "markdown",
   "metadata": {
    "deletable": false,
    "editable": false,
    "nbgrader": {
     "cell_type": "markdown",
     "checksum": "13f48c05a063f1df0b91e9a8c50d923f",
     "grade": false,
     "grade_id": "cell-542b022beb07b3ef",
     "locked": true,
     "schema_version": 3,
     "solution": false
    }
   },
   "source": [
    "# Problem 1\n",
    "\n",
    "If $X$ is a geometric random variable with $p = 0.25$, what is the probability that $X \\geq 4$? Verify your result by performing a computer simulation."
   ]
  },
  {
   "cell_type": "code",
   "execution_count": 100,
   "metadata": {
    "deletable": false,
    "nbgrader": {
     "cell_type": "code",
     "checksum": "dea0c74b449fb628c4ab64c96a2e8451",
     "grade": false,
     "grade_id": "p1",
     "locked": false,
     "schema_version": 3,
     "solution": true,
     "task": false
    }
   },
   "outputs": [
    {
     "data": {
      "text/plain": [
       "0.421875"
      ]
     },
     "execution_count": 100,
     "metadata": {},
     "output_type": "execute_result"
    }
   ],
   "source": [
    "def myfunction1_1():\n",
    "    '''theoretical answer, please illustrate how you calculate the answer'''\n",
    "    # YOUR CODE HERE\n",
    "    return 1-((1-0.25)**(3-1)*0.25)-((1-0.25)**(2-1)*0.25)-((1-0.25)**(1-1)*0.25)\n",
    "myfunction1_1()"
   ]
  },
  {
   "cell_type": "code",
   "execution_count": 102,
   "metadata": {
    "deletable": false,
    "nbgrader": {
     "cell_type": "code",
     "checksum": "9c98457bd5a8ed87da8aae0cee48e90b",
     "grade": false,
     "grade_id": "cell-d8636b36671263b5",
     "locked": false,
     "schema_version": 3,
     "solution": true,
     "task": false
    }
   },
   "outputs": [
    {
     "data": {
      "text/plain": [
       "0.42025"
      ]
     },
     "execution_count": 102,
     "metadata": {},
     "output_type": "execute_result"
    }
   ],
   "source": [
    "import numpy as np\n",
    "\n",
    "def myfunction1_2():\n",
    "    '''simulation answer, please write codes to simulate the random experiments and calculate the answer'''\n",
    "    # YOUR CODE HERE\n",
    "    g=np.random.geometric(p=0.25,size=100000)\n",
    "    p1=(g>=4).sum()/100000\n",
    "    return p1\n",
    "myfunction1_2()"
   ]
  },
  {
   "cell_type": "code",
   "execution_count": 103,
   "metadata": {
    "deletable": false,
    "editable": false,
    "nbgrader": {
     "cell_type": "code",
     "checksum": "c5f69421f84ea4040731817fb3acbf42",
     "grade": true,
     "grade_id": "cell-c1e840c534c6e45a",
     "locked": true,
     "points": 1,
     "schema_version": 3,
     "solution": false,
     "task": false
    }
   },
   "outputs": [
    {
     "name": "stdout",
     "output_type": "stream",
     "text": [
      "Err: 0.0025600000000000067\n"
     ]
    }
   ],
   "source": [
    "print('Err: {}'.format(abs(myfunction1_2() - myfunction1_2())))"
   ]
  },
  {
   "cell_type": "markdown",
   "metadata": {
    "deletable": false,
    "editable": false,
    "nbgrader": {
     "cell_type": "markdown",
     "checksum": "75bc61420403c35ce02720505a18d26f",
     "grade": false,
     "grade_id": "cell-afa1d61534692ca8",
     "locked": true,
     "schema_version": 3,
     "solution": false,
     "task": false
    }
   },
   "source": [
    "If you want to write some explanation, write below: "
   ]
  },
  {
   "cell_type": "markdown",
   "metadata": {
    "deletable": false,
    "nbgrader": {
     "cell_type": "markdown",
     "checksum": "3217c1c29d0a40443cb85e86d5bf355f",
     "grade": true,
     "grade_id": "cell-63fa412f4857720d",
     "locked": false,
     "points": 0,
     "schema_version": 3,
     "solution": true,
     "task": false
    }
   },
   "source": [
    "YOUR ANSWER HERE\n",
    "\n",
    "From geometry distribution we have:\n",
    "\n",
    "P(X=k)=(1-p)^(k-1)* p, p=0.25\n",
    "\n",
    "P(X>=4)=1-P(X=3)-P(X=2)-P(X=1)=0.421875"
   ]
  },
  {
   "cell_type": "markdown",
   "metadata": {
    "deletable": false,
    "editable": false,
    "nbgrader": {
     "cell_type": "markdown",
     "checksum": "f9b635c4b956e392ece5a22d2d44f9e9",
     "grade": false,
     "grade_id": "cell-abb42f9f1d5faf3a",
     "locked": true,
     "schema_version": 3,
     "solution": false,
     "task": false
    }
   },
   "source": [
    "# Problem 2\n",
    "\n",
    "Use Binomial random variable to approximate a Poisson random variable and plot the PMF:\n",
    "- Compare the PMFs for $Pois(1)$ and $bin(100,0.01)$ random variables.\n",
    "- Generate realizations of a $Pois(1)$ random variables by using a binomial approximation."
   ]
  },
  {
   "cell_type": "code",
   "execution_count": 132,
   "metadata": {
    "deletable": false,
    "nbgrader": {
     "cell_type": "code",
     "checksum": "92adf4b8ae622a989d3a6674e63fb92c",
     "grade": false,
     "grade_id": "p2a1",
     "locked": false,
     "schema_version": 3,
     "solution": true,
     "task": false
    }
   },
   "outputs": [],
   "source": [
    "%matplotlib inline\n",
    "import numpy as np\n",
    "import matplotlib.pyplot as plt\n",
    "from scipy.special import comb, perm\n",
    "import scipy.stats as stats\n",
    "\n",
    "def myfunction2():\n",
    "    # YOUR CODE HERE\n",
    "    x= np.arange(10)\n",
    "    plt.subplot(1,2,1)\n",
    "    p1=stats.binom.pmf(x,100,0.01)\n",
    "    plt.plot(x,p1)\n",
    "    plt.title('binomial')\n",
    "    \n",
    "    plt.subplot(1,2,2)\n",
    "    p2=stats.poisson.pmf(x,1)\n",
    "    plt.plot(x,p2)\n",
    "    plt.title('poisson')\n",
    "    \n",
    "    plt.subplots_adjust(wspace=0.5)\n",
    "    \n",
    "    plt.show()"
   ]
  },
  {
   "cell_type": "code",
   "execution_count": 133,
   "metadata": {
    "deletable": false,
    "editable": false,
    "nbgrader": {
     "cell_type": "code",
     "checksum": "658522046c58aa140f6013952b7a7ae8",
     "grade": true,
     "grade_id": "cell-67893c067a1c2d7a",
     "locked": true,
     "points": 0.5,
     "schema_version": 3,
     "solution": false,
     "task": false
    }
   },
   "outputs": [
    {
     "data": {
      "image/png": "[encoded data removed]",
      "text/plain": [
       "<Figure size 432x288 with 2 Axes>"
      ]
     },
     "metadata": {
      "needs_background": "light"
     },
     "output_type": "display_data"
    }
   ],
   "source": [
    "myfunction2()"
   ]
  },
  {
   "cell_type": "markdown",
   "metadata": {
    "deletable": false,
    "editable": false,
    "nbgrader": {
     "cell_type": "markdown",
     "checksum": "c52ddf3f4f16a5d9785fb6a619bf014c",
     "grade": false,
     "grade_id": "cell-02c346ac599a4e1d",
     "locked": true,
     "schema_version": 3,
     "solution": false,
     "task": false
    }
   },
   "source": [
    "# Problem 3\n",
    "\n",
    "If $X \\sim N(\\mu, \\sigma^{2})$, find $P[X > \\mu+a\\sigma]$ for a = 1,2,3, where $\\sigma = \\sqrt[]{\\sigma^{2}}$. Use computer simulation to verify the results. \n",
    "\n",
    "You can take any arbitrary $\\mu$ and $\\sigma$."
   ]
  },
  {
   "cell_type": "code",
   "execution_count": 88,
   "metadata": {
    "deletable": false,
    "nbgrader": {
     "cell_type": "code",
     "checksum": "ba9e7052a9fc6bc4a04bf3897cd4a19b",
     "grade": false,
     "grade_id": "cell-d610c8770aca8bdd",
     "locked": false,
     "schema_version": 3,
     "solution": true,
     "task": false
    }
   },
   "outputs": [],
   "source": [
    "import numpy as np\n",
    "import scipy.stats as stats\n",
    "\n",
    "def myfunction3():\n",
    "    # YOUR CODE HERE\n",
    "    mu=0\n",
    "    sigma=1\n",
    "    a=[1,2,3]\n",
    "\n",
    "    a1=1-stats.norm(mu,sigma).cdf(1)\n",
    "    a2=1-stats.norm(mu,sigma).cdf(2)\n",
    "    a3=1-stats.norm(mu,sigma).cdf(3)\n",
    "    \n",
    "    print('Simulation results: (a=1,a=2,a=3)')\n",
    "    # YOUR CODE HERE\n",
    "    n=10000\n",
    "    count1=0\n",
    "    count2=0\n",
    "    count3=0\n",
    "    times=0\n",
    "    for i in range(n):\n",
    "        x=np.random.uniform(-4,4)\n",
    "        y=np.random.uniform(0,0.5)\n",
    "        if y<=stats.norm.pdf(x):\n",
    "            times+=1\n",
    "        if y<=stats.norm.pdf(x) and x>1:\n",
    "            count1+=1\n",
    "        if y<=stats.norm.pdf(x) and x>2:\n",
    "            count2+=1\n",
    "        if y<=stats.norm.pdf(x) and x>3:\n",
    "            count3+=1\n",
    "            \n",
    "    b1=count1/times\n",
    "    b2=count2/times\n",
    "    b3=count3/times\n",
    "    print([b1,b2,b3])\n",
    "    \n",
    "    print('Target results: (a=1,a=2,a=3)')\n",
    "    # YOUR CODE HERE\n",
    "    print([a1,a2,a3])"
   ]
  },
  {
   "cell_type": "code",
   "execution_count": 89,
   "metadata": {
    "deletable": false,
    "editable": false,
    "nbgrader": {
     "cell_type": "code",
     "checksum": "b04acd686ff8a9cc5cbc8735458a954a",
     "grade": true,
     "grade_id": "cell-7a1256fcf6cc33d7",
     "locked": true,
     "points": 0.5,
     "schema_version": 3,
     "solution": false,
     "task": false
    }
   },
   "outputs": [
    {
     "name": "stdout",
     "output_type": "stream",
     "text": [
      "Simulation results: (a=1,a=2,a=3)\n",
      "[0.1555992141453831, 0.022789783889980354, 0.0011787819253438114]\n",
      "Target results: (a=1,a=2,a=3)\n",
      "[0.15865525393145707, 0.02275013194817921, 0.0013498980316301035]\n"
     ]
    }
   ],
   "source": [
    "myfunction3()"
   ]
  }
 ],
 "metadata": {
  "kernelspec": {
   "display_name": "Python 3",
   "language": "python",
   "name": "python3"
  },
  "language_info": {
   "codemirror_mode": {
    "name": "ipython",
    "version": 3
   },
   "file_extension": ".py",
   "mimetype": "text/x-python",
   "name": "python",
   "nbconvert_exporter": "python",
   "pygments_lexer": "ipython3",
   "version": "3.6.9"
  }
 },
 "nbformat": 4,
 "nbformat_minor": 1
}
