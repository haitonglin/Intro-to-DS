{
 "cells": [
  {
   "cell_type": "markdown",
   "metadata": {},
   "source": [
    "Before you turn this problem in, make sure everything runs as expected. First, **restart the kernel** (in the menubar, select Kernel$\\rightarrow$Restart) and then **run all cells** (in the menubar, select Cell$\\rightarrow$Run All).\n",
    "\n",
    "Make sure you fill in any place that says `YOUR CODE HERE` or \"YOUR ANSWER HERE\", as well as your name and collaborators below:"
   ]
  },
  {
   "cell_type": "code",
   "execution_count": null,
   "metadata": {},
   "outputs": [],
   "source": [
    "NAME = \"Haitong Lin\"\n",
    "COLLABORATORS = \"\""
   ]
  },
  {
   "cell_type": "markdown",
   "metadata": {},
   "source": [
    "---"
   ]
  },
  {
   "cell_type": "markdown",
   "metadata": {
    "deletable": false,
    "editable": false,
    "nbgrader": {
     "cell_type": "markdown",
     "checksum": "06970575413bf7fc6943ebcfef4017c8",
     "grade": false,
     "grade_id": "jupyter",
     "locked": true,
     "schema_version": 3,
     "solution": false
    }
   },
   "source": [
    "Problem 1 of Assignment 5, STATS102 Fall2019 Session 2, Duke Kunshan University, Due at Nov 6th 12：00pm beijing time\n",
    "![](dku.jpg)\n",
    "For this problem set, we'll be using the Jupyter notebook and nbgrader:\n",
    "\n",
    "![](jupyter.png)"
   ]
  },
  {
   "cell_type": "markdown",
   "metadata": {
    "deletable": false,
    "editable": false,
    "nbgrader": {
     "cell_type": "markdown",
     "checksum": "3c2653191243f5800724d03c7b167c51",
     "grade": false,
     "grade_id": "cell-542b022beb07b3ef",
     "locked": true,
     "schema_version": 3,
     "solution": false
    }
   },
   "source": [
    "## Problem1\n",
    "\n",
    "Sort the input list of tuples [(pay_per_day, working_days),(pay_per_day, working_days)...(pay_per_day, working_days)] in an descending order based on the total pay (per_per_day*working_days), and remove the items when working days are less than 7. \n",
    "\n",
    "Try to use sorted function, lambda function and filter function."
   ]
  },
  {
   "cell_type": "code",
   "execution_count": 3,
   "metadata": {
    "deletable": false,
    "nbgrader": {
     "cell_type": "code",
     "checksum": "b0f0e1c8d187199f610ddcdab1a16c36",
     "grade": false,
     "grade_id": "111",
     "locked": false,
     "schema_version": 3,
     "solution": true
    }
   },
   "outputs": [],
   "source": [
    "def sort_total_pay(mylist):\n",
    "    # YOUR CODE HERE\n",
    "    new=list(filter(lambda x:x[1]>=7,mylist))\n",
    "    return sorted(new,key=lambda x:x[0]*x[1],reverse=True)"
   ]
  },
  {
   "cell_type": "code",
   "execution_count": 4,
   "metadata": {
    "deletable": false,
    "editable": false,
    "nbgrader": {
     "cell_type": "code",
     "checksum": "a98d389fdc18d77130681ef1687978e1",
     "grade": true,
     "grade_id": "112",
     "locked": true,
     "points": 1,
     "schema_version": 3,
     "solution": false
    }
   },
   "outputs": [],
   "source": [
    "assert sort_total_pay([(10.0,10),(15.0,3),(3.1,2),(20.4,2),(4.8,7)])==[(10.0,10), (4.8,7)]\n",
    "assert sort_total_pay([(15.0,17),(18.0,8),(8.0,3),(10.0,6),(11.0,8)])==[(15.0,17), (18.0,8), (11.0,8)]"
   ]
  },
  {
   "cell_type": "markdown",
   "metadata": {
    "deletable": false,
    "editable": false,
    "nbgrader": {
     "cell_type": "markdown",
     "checksum": "5a7c24bf7e5b9c434ba7efc171a0f6ee",
     "grade": false,
     "grade_id": "cell-f682636c57489579",
     "locked": true,
     "schema_version": 3,
     "solution": false
    }
   },
   "source": [
    "# Problem 2\n",
    "\n",
    "Given a string, find all possible positons of a substring in it.   "
   ]
  },
  {
   "cell_type": "code",
   "execution_count": 10,
   "metadata": {
    "deletable": false,
    "nbgrader": {
     "cell_type": "code",
     "checksum": "f4f1216f521cb0f4c8a0b45813f30f34",
     "grade": false,
     "grade_id": "cell-97ff5d8d38665f39",
     "locked": false,
     "schema_version": 3,
     "solution": true
    }
   },
   "outputs": [],
   "source": [
    "def findSubstr(string, substr):\n",
    "    \n",
    "    # YOUR CODE HERE\n",
    "    list=[]\n",
    "    for i in range(len(string)):\n",
    "        if string[i:i+len(substr)]==substr:\n",
    "            list.append(i)\n",
    "    return list"
   ]
  },
  {
   "cell_type": "code",
   "execution_count": 11,
   "metadata": {
    "deletable": false,
    "editable": false,
    "nbgrader": {
     "cell_type": "code",
     "checksum": "bf4a94871cbff23505f5ec909058db21",
     "grade": true,
     "grade_id": "cell-6a3765707b8aa908",
     "locked": true,
     "points": 1,
     "schema_version": 3,
     "solution": false
    }
   },
   "outputs": [],
   "source": [
    "assert findSubstr('Hello', 'l')==[2, 3]\n",
    "assert findSubstr('I love python', 'o')==[3, 11]\n",
    "assert findSubstr('Banana', 'na')==[2, 4]\n",
    "assert findSubstr('Good job', 'o')==[1, 2, 6]"
   ]
  }
 ],
 "metadata": {
  "kernelspec": {
   "display_name": "Python 3",
   "language": "python",
   "name": "python3"
  },
  "language_info": {
   "codemirror_mode": {
    "name": "ipython",
    "version": 3
   },
   "file_extension": ".py",
   "mimetype": "text/x-python",
   "name": "python",
   "nbconvert_exporter": "python",
   "pygments_lexer": "ipython3",
   "version": "3.6.9"
  }
 },
 "nbformat": 4,
 "nbformat_minor": 1
}
