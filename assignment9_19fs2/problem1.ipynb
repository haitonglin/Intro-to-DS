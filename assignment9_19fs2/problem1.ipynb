{
 "cells": [
  {
   "cell_type": "markdown",
   "metadata": {},
   "source": [
    "Before you turn this problem in, make sure everything runs as expected. First, **restart the kernel** (in the menubar, select Kernel$\\rightarrow$Restart) and then **run all cells** (in the menubar, select Cell$\\rightarrow$Run All).\n",
    "\n",
    "Make sure you fill in any place that says `YOUR CODE HERE` or \"YOUR ANSWER HERE\", as well as your name and collaborators below:"
   ]
  },
  {
   "cell_type": "code",
   "execution_count": null,
   "metadata": {},
   "outputs": [],
   "source": [
    "NAME = \"Haitong Lin\"\n",
    "COLLABORATORS = \"\""
   ]
  },
  {
   "cell_type": "markdown",
   "metadata": {},
   "source": [
    "---"
   ]
  },
  {
   "cell_type": "markdown",
   "metadata": {
    "deletable": false,
    "editable": false,
    "nbgrader": {
     "cell_type": "markdown",
     "checksum": "b0b14c64383dc36c7c08c744325a4a47",
     "grade": false,
     "grade_id": "jupyter",
     "locked": true,
     "schema_version": 3,
     "solution": false
    }
   },
   "source": [
    "Problem 1 of Assignment 9, STATS102 Fall2019 Session 2, Duke Kunshan University, Due at Nov 13th 12：00pm beijing time\n",
    "![](dku.jpg)\n",
    "For this problem set, we'll be using the Jupyter notebook and nbgrader:\n",
    "\n",
    "![](jupyter.png)"
   ]
  },
  {
   "cell_type": "markdown",
   "metadata": {
    "deletable": false,
    "editable": false,
    "nbgrader": {
     "cell_type": "markdown",
     "checksum": "04bdbc418c99139cb6e19d56888505e4",
     "grade": false,
     "grade_id": "cell-542b022beb07b3ef",
     "locked": true,
     "schema_version": 3,
     "solution": false
    }
   },
   "source": [
    "# Problem 1\n",
    "\n",
    "Insert three zeros between each two adjacent numbers in the array $[1, 2, 3, 4, 5, 6]$, such that the returned matrix is \n",
    "$[1, 0, 0, 0, 2, 0, 0, 0, 3, 0, 0, 0, 4, 0, 0, 0, 5, 0, 0, 0, 6]$."
   ]
  },
  {
   "cell_type": "code",
   "execution_count": 37,
   "metadata": {
    "deletable": false,
    "nbgrader": {
     "cell_type": "code",
     "checksum": "79bfdefe09b435d005d9162e88ba49fd",
     "grade": false,
     "grade_id": "mysin",
     "locked": false,
     "schema_version": 3,
     "solution": true
    }
   },
   "outputs": [],
   "source": [
    "import numpy as np\n",
    "\n",
    "def insertZeros(mat):\n",
    "    # YOUR CODE HERE\n",
    "    a=np.zeros((len(mat)-1)*4+1)\n",
    "    a[::4]=mat\n",
    "    return a"
   ]
  },
  {
   "cell_type": "code",
   "execution_count": 36,
   "metadata": {
    "deletable": false,
    "editable": false,
    "nbgrader": {
     "cell_type": "code",
     "checksum": "33ebde40b96da76c5ead56d3c4711eee",
     "grade": true,
     "grade_id": "cell-044b32eea7f84461",
     "locked": true,
     "points": 0.6,
     "schema_version": 3,
     "solution": false
    }
   },
   "outputs": [
    {
     "name": "stdout",
     "output_type": "stream",
     "text": [
      "[0. 0. 0. 0. 0. 0.]\n"
     ]
    }
   ],
   "source": [
    "import numpy as np\n",
    "\n",
    "a = np.arange(1,7)\n",
    "\n",
    "assert (insertZeros(a) == np.array([1, 0, 0, 0, 2, 0, 0, 0, 3, 0, 0, 0, 4, 0, 0, 0, 5, 0, 0, 0, 6])).all()"
   ]
  },
  {
   "cell_type": "markdown",
   "metadata": {
    "deletable": false,
    "editable": false,
    "nbgrader": {
     "cell_type": "markdown",
     "checksum": "3f3c921255aef42086510a775957a12c",
     "grade": false,
     "grade_id": "cell-ce2dfdf2cd4901d4",
     "locked": true,
     "schema_version": 3,
     "solution": false,
     "task": false
    }
   },
   "source": [
    "Sort an 2D matrix by the nth column. For example:\n",
    "\n",
    "Input A:\n",
    "$$\n",
    " \\begin{bmatrix}\n",
    "   4 & 5 & 9 \\\\\n",
    "   2 & 7 & 5 \\\\\n",
    "   1 & 3 & 4 \\\\\n",
    " \\end{bmatrix}\n",
    "$$\n",
    "\n",
    "after sorting A by the 2nd column, output:\n",
    "$$\n",
    " \\begin{bmatrix}\n",
    "   1 & 3 & 4 \\\\\n",
    "   4 & 5 & 9 \\\\\n",
    "   2 & 7 & 5 \\\\\n",
    " \\end{bmatrix}\n",
    "$$"
   ]
  },
  {
   "cell_type": "code",
   "execution_count": 45,
   "metadata": {
    "deletable": false,
    "nbgrader": {
     "cell_type": "code",
     "checksum": "fb24551702ad1ff00ed56fa1c1bd9df8",
     "grade": false,
     "grade_id": "cell-45ef485b9a06219e",
     "locked": false,
     "schema_version": 3,
     "solution": true,
     "task": false
    }
   },
   "outputs": [],
   "source": [
    "import numpy as np\n",
    "\n",
    "def myfunction(A, n):\n",
    "    # YOUR CODE HERE\n",
    "    return A[np.argsort(A[:,n])]"
   ]
  },
  {
   "cell_type": "code",
   "execution_count": 46,
   "metadata": {
    "deletable": false,
    "editable": false,
    "nbgrader": {
     "cell_type": "code",
     "checksum": "73472c1bfa2127c4ffc5df44f0abef13",
     "grade": true,
     "grade_id": "cell-d5175c3e37339ebe",
     "locked": true,
     "points": 0.6,
     "schema_version": 3,
     "solution": false,
     "task": false
    }
   },
   "outputs": [],
   "source": [
    "import numpy as np\n",
    "\n",
    "A = np.arange(0,9)[::-1].reshape(3,3)\n",
    "assert (myfunction(A, 1) == np.array([[2, 1, 0],\n",
    "                                       [5, 4, 3],\n",
    "                                       [8, 7, 6]])).all()"
   ]
  },
  {
   "cell_type": "markdown",
   "metadata": {
    "deletable": false,
    "editable": false,
    "nbgrader": {
     "cell_type": "markdown",
     "checksum": "09f2db158963a8cd25f3d2aad14f620d",
     "grade": false,
     "grade_id": "cell-fa2bc126249cfb9b",
     "locked": true,
     "schema_version": 3,
     "solution": false,
     "task": false
    }
   },
   "source": [
    "Estimated Tuition and Fees for the 2019-2020 Academic Year (pending approval) for our ECE master program.\n",
    "\n",
    "https://dukekunshan.edu.cn/en/ece/admission/cost-of-attendance\n",
    "\n",
    "please create and return one DataFrame shown as follows:\n",
    "\n",
    "![](ece.png)"
   ]
  },
  {
   "cell_type": "code",
   "execution_count": 43,
   "metadata": {
    "deletable": false,
    "nbgrader": {
     "cell_type": "code",
     "checksum": "d0e5f1592da83c0d223b0570590d201a",
     "grade": false,
     "grade_id": "cell-3193d32e7142075b",
     "locked": false,
     "schema_version": 3,
     "solution": true,
     "task": false
    }
   },
   "outputs": [
    {
     "data": {
      "text/html": [
       "<div>\n",
       "<style scoped>\n",
       "    .dataframe tbody tr th:only-of-type {\n",
       "        vertical-align: middle;\n",
       "    }\n",
       "\n",
       "    .dataframe tbody tr th {\n",
       "        vertical-align: top;\n",
       "    }\n",
       "\n",
       "    .dataframe thead th {\n",
       "        text-align: right;\n",
       "    }\n",
       "</style>\n",
       "<table border=\"1\" class=\"dataframe\">\n",
       "  <thead>\n",
       "    <tr style=\"text-align: right;\">\n",
       "      <th></th>\n",
       "      <th></th>\n",
       "      <th>International students</th>\n",
       "      <th>Domesitic Students</th>\n",
       "    </tr>\n",
       "    <tr>\n",
       "      <th>year</th>\n",
       "      <th>where</th>\n",
       "      <th></th>\n",
       "      <th></th>\n",
       "    </tr>\n",
       "  </thead>\n",
       "  <tbody>\n",
       "    <tr>\n",
       "      <td>1</td>\n",
       "      <td>DKU</td>\n",
       "      <td>64500USD</td>\n",
       "      <td>237000RMB</td>\n",
       "    </tr>\n",
       "    <tr>\n",
       "      <td rowspan=\"2\" valign=\"top\">2</td>\n",
       "      <td>DKU</td>\n",
       "      <td>64500USD</td>\n",
       "      <td>237000RMB</td>\n",
       "    </tr>\n",
       "    <tr>\n",
       "      <td>Duke</td>\n",
       "      <td>77250USD</td>\n",
       "      <td>77250USD</td>\n",
       "    </tr>\n",
       "  </tbody>\n",
       "</table>\n",
       "</div>"
      ],
      "text/plain": [
       "           International students Domesitic Students\n",
       "year where                                          \n",
       "1    DKU                 64500USD          237000RMB\n",
       "2    DKU                 64500USD          237000RMB\n",
       "     Duke                77250USD           77250USD"
      ]
     },
     "execution_count": 43,
     "metadata": {},
     "output_type": "execute_result"
    }
   ],
   "source": [
    "import numpy as np\n",
    "import pandas as pd\n",
    "def myfunction():\n",
    "    # YOUR CODE HERE\n",
    "    array=[[1,2,2],['DKU','DKU','Duke']]\n",
    "    index=pd.MultiIndex.from_arrays(array,names=('year','where'))\n",
    "    domestic=['237000RMB','237000RMB','77250USD']\n",
    "    international=['64500USD','64500USD','77250USD']\n",
    "    tuition=pd.DataFrame({'International students':international,'Domesitic Students':domestic},index=index)\n",
    "    return tuition\n",
    "\n",
    "myfunction()"
   ]
  },
  {
   "cell_type": "code",
   "execution_count": 44,
   "metadata": {
    "deletable": false,
    "editable": false,
    "nbgrader": {
     "cell_type": "code",
     "checksum": "e1d645e6841d310df1a2c366cc417bea",
     "grade": true,
     "grade_id": "cell-407f491ab7b2c1c8",
     "locked": true,
     "points": 0.8,
     "schema_version": 3,
     "solution": false,
     "task": false
    }
   },
   "outputs": [],
   "source": [
    "#test 1 0.3pts\n",
    "import numpy as np\n",
    "import pandas as pd\n",
    "tuition=myfunction()\n",
    "assert len(tuition.index.levels)==2\n",
    "assert len(tuition.index.names)==2\n",
    "assert len(tuition.columns)==2\n",
    "assert tuition['International students'][1]['DKU']=='64500USD'"
   ]
  }
 ],
 "metadata": {
  "kernelspec": {
   "display_name": "Python 3",
   "language": "python",
   "name": "python3"
  },
  "language_info": {
   "codemirror_mode": {
    "name": "ipython",
    "version": 3
   },
   "file_extension": ".py",
   "mimetype": "text/x-python",
   "name": "python",
   "nbconvert_exporter": "python",
   "pygments_lexer": "ipython3",
   "version": "3.6.9"
  }
 },
 "nbformat": 4,
 "nbformat_minor": 1
}
