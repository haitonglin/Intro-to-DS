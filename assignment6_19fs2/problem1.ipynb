{
 "cells": [
  {
   "cell_type": "markdown",
   "metadata": {},
   "source": [
    "Before you turn this problem in, make sure everything runs as expected. First, **restart the kernel** (in the menubar, select Kernel$\\rightarrow$Restart) and then **run all cells** (in the menubar, select Cell$\\rightarrow$Run All).\n",
    "\n",
    "Make sure you fill in any place that says `YOUR CODE HERE` or \"YOUR ANSWER HERE\", as well as your name and collaborators below:"
   ]
  },
  {
   "cell_type": "code",
   "execution_count": null,
   "metadata": {},
   "outputs": [],
   "source": [
    "NAME = \"Haitong Lin\"\n",
    "COLLABORATORS = \"\""
   ]
  },
  {
   "cell_type": "markdown",
   "metadata": {},
   "source": [
    "---"
   ]
  },
  {
   "cell_type": "markdown",
   "metadata": {
    "deletable": false,
    "editable": false,
    "nbgrader": {
     "cell_type": "markdown",
     "checksum": "ac0028033d1fcac86775a170675db308",
     "grade": false,
     "grade_id": "jupyter",
     "locked": true,
     "schema_version": 3,
     "solution": false
    }
   },
   "source": [
    "Problem 1 of Assignment 6, STATS102 Fall2019 Session 2, Duke Kunshan University, Due at Nov 7th 12：00pm beijing time\n",
    "![](dku.jpg)\n",
    "For this problem set, we'll be using the Jupyter notebook and nbgrader:\n",
    "\n",
    "![](jupyter.png)"
   ]
  },
  {
   "cell_type": "markdown",
   "metadata": {
    "deletable": false,
    "editable": false,
    "nbgrader": {
     "cell_type": "markdown",
     "checksum": "99a10a9044948dfd82d23924994c6ee4",
     "grade": false,
     "grade_id": "cell-542b022beb07b3ef",
     "locked": true,
     "schema_version": 3,
     "solution": false
    }
   },
   "source": [
    "# Problem1\n",
    "\n",
    "Given an array of integers where 1 ≤ a[i] ≤ n (n = size of array), some elements may appear twice. Find all the elements of [1, n] inclusive that do not appear in this array. (Return `[]`, when n < 1.)"
   ]
  },
  {
   "cell_type": "code",
   "execution_count": 34,
   "metadata": {
    "deletable": false,
    "nbgrader": {
     "cell_type": "code",
     "checksum": "58df7fd5a837ed6a350236ab6301b010",
     "grade": false,
     "grade_id": "111",
     "locked": false,
     "schema_version": 3,
     "solution": true
    }
   },
   "outputs": [],
   "source": [
    "def findDisappearedNumbers(nums):\n",
    "    # YOUR CODE HERE\n",
    "    list=[]\n",
    "    for i in range(1,len(nums)+1):\n",
    "        if i not in nums:\n",
    "            list.append(i)\n",
    "    return list\n",
    "    if len(nums)==0:\n",
    "        return []"
   ]
  },
  {
   "cell_type": "code",
   "execution_count": 36,
   "metadata": {
    "deletable": false,
    "editable": false,
    "nbgrader": {
     "cell_type": "code",
     "checksum": "0bfd7362bdb0bce5a639311b38b87e1b",
     "grade": true,
     "grade_id": "112",
     "locked": true,
     "points": 0.5,
     "schema_version": 3,
     "solution": false
    }
   },
   "outputs": [],
   "source": [
    "assert findDisappearedNumbers([4,3,2,7,8,2,3,1,5]) == [6, 9]\n",
    "assert findDisappearedNumbers([10,9,4,7,8,8,8,1,2,1,1,1,1]) == [3, 5, 6, 11, 12, 13]\n",
    "assert findDisappearedNumbers([6,7,8,1,2,3,3,3,3,10]) == [4, 5, 9]\n",
    "assert findDisappearedNumbers([]) == []"
   ]
  },
  {
   "cell_type": "markdown",
   "metadata": {
    "deletable": false,
    "editable": false,
    "nbgrader": {
     "cell_type": "markdown",
     "checksum": "94ed354fdc6ae92ed80663405305b211",
     "grade": false,
     "grade_id": "cell-1f77bda5c69a2e59",
     "locked": true,
     "schema_version": 3,
     "solution": false,
     "task": false
    }
   },
   "source": [
    "# Problem 2\n",
    "\n",
    "Write a program to encode a string(only containing 26 letters) using symbols of international Morse code.\n",
    "\n",
    "Reference: https://en.wikipedia.org/wiki/Morse_code\n",
    "\n",
    "For your convienice, you can use the morse code of 26 letters below:\n",
    "\n",
    "[\".-\",\"-...\",\"-.-.\",\"-..\",\".\",\"..-.\",\"--.\",\"....\",\"..\",\".---\",\"-.-\",\".-..\",\"--\",\"-.\",\"---\",\".--.\",\"--.-\",\".-.\",\"...\",\"-\",\"..-\",\"...-\",\".--\",\"-..-\",\"-.--\",\"--..\"]"
   ]
  },
  {
   "cell_type": "code",
   "execution_count": 54,
   "metadata": {
    "deletable": false,
    "nbgrader": {
     "cell_type": "code",
     "checksum": "6e992abd5337cf7dd4e270e32d738baf",
     "grade": false,
     "grade_id": "cell-755281e5365d0e99",
     "locked": false,
     "schema_version": 3,
     "solution": true,
     "task": false
    }
   },
   "outputs": [],
   "source": [
    "def encodeString(ori_str):\n",
    "    # YOUR CODE HERE\n",
    "    list=[\".-\",\"-...\",\"-.-.\",\"-..\",\".\",\"..-.\",\"--.\",\"....\",\"..\",\".---\",\"-.-\",\".-..\",\"--\",\"-.\",\"---\",\".--.\",\"--.-\",\".-.\",\"...\",\"-\",\"..-\",\"...-\",\".--\",\"-..-\",\"-.--\",\"--..\"]\n",
    "    letters=['A','B','C','D','E','F','G','H','I','J','K','L','M','N','O','P','Q','R','S','T','U','V','W','X','Y','Z']\n",
    "    output=''\n",
    "    for i in ori_str:\n",
    "        if i in letters:\n",
    "            output+=list[letters.index(i)]\n",
    "    return output"
   ]
  },
  {
   "cell_type": "code",
   "execution_count": 55,
   "metadata": {
    "deletable": false,
    "editable": false,
    "nbgrader": {
     "cell_type": "code",
     "checksum": "6603199f1597ad907fc50f9c22ac6b7e",
     "grade": true,
     "grade_id": "cell-1c8bbdc679689311",
     "locked": true,
     "points": 0.5,
     "schema_version": 3,
     "solution": false,
     "task": false
    }
   },
   "outputs": [],
   "source": [
    "assert encodeString('CUL') == '-.-...-.-..'\n",
    "assert encodeString('GA') == '--..-'\n",
    "assert encodeString('SIG') == '.....--.'\n",
    "assert encodeString('TU') == '-..-'"
   ]
  },
  {
   "cell_type": "markdown",
   "metadata": {
    "deletable": false,
    "editable": false,
    "nbgrader": {
     "cell_type": "markdown",
     "checksum": "8ab1ded551a084defe17bb5c41c0811e",
     "grade": false,
     "grade_id": "cell-511a78319115fbcf",
     "locked": true,
     "schema_version": 3,
     "solution": false,
     "task": false
    }
   },
   "source": [
    "# Problem 3\n",
    "\n",
    "Given an input string (s) and a pattern (p), using regular expressions to judge whether s completely matches with p.\n",
    "\n",
    "Try to think about the result first in your mind."
   ]
  },
  {
   "cell_type": "code",
   "execution_count": 78,
   "metadata": {
    "deletable": false,
    "nbgrader": {
     "cell_type": "code",
     "checksum": "9573d4ce5316621b6483911b02112fa5",
     "grade": false,
     "grade_id": "cell-6aabdfdfdfc07390",
     "locked": false,
     "schema_version": 3,
     "solution": true,
     "task": false
    }
   },
   "outputs": [],
   "source": [
    "import re\n",
    "\n",
    "def isMatch(s, p):\n",
    "    # YOUR CODE HERE\n",
    "    return re.search(p,s).span()==(0,len(s))"
   ]
  },
  {
   "cell_type": "code",
   "execution_count": 80,
   "metadata": {
    "deletable": false,
    "editable": false,
    "nbgrader": {
     "cell_type": "code",
     "checksum": "80a2a9cf472445c240008ad2fb4917c0",
     "grade": true,
     "grade_id": "cell-f6a41d77294c95dd",
     "locked": true,
     "points": 1,
     "schema_version": 3,
     "solution": false,
     "task": false
    }
   },
   "outputs": [],
   "source": [
    "assert isMatch(\"aa\",\"a\") == False \n",
    "assert isMatch(\"aa\",\"a*\") == True \n",
    "assert isMatch(\"ab\",\".\") == False \n",
    "assert isMatch(\"ab\",\".*\") == True\n",
    "assert isMatch(\"aab\",\"a*\") == False\n",
    "assert isMatch(\"aab\",\".*\") == True\n",
    "assert isMatch(\"aab\",\".*\") == True\n",
    "assert isMatch(\"aabbcccddd\",\".*\") == True\n",
    "assert isMatch(\"aabbcccddd\",\"a*b*.*\") == True\n",
    "assert isMatch(\"aabbcccddd\",\"a*b*.\") == False\n",
    "assert isMatch(\"aabbcccddd\",\"a*b*c.d.\") == False\n",
    "assert isMatch(\"aabbcccddd\",\"a*b*c.*d\") == True"
   ]
  }
 ],
 "metadata": {
  "kernelspec": {
   "display_name": "Python 3",
   "language": "python",
   "name": "python3"
  },
  "language_info": {
   "codemirror_mode": {
    "name": "ipython",
    "version": 3
   },
   "file_extension": ".py",
   "mimetype": "text/x-python",
   "name": "python",
   "nbconvert_exporter": "python",
   "pygments_lexer": "ipython3",
   "version": "3.6.9"
  }
 },
 "nbformat": 4,
 "nbformat_minor": 1
}
