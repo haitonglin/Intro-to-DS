{
 "cells": [
  {
   "cell_type": "markdown",
   "metadata": {},
   "source": [
    "Before you turn this problem in, make sure everything runs as expected. First, **restart the kernel** (in the menubar, select Kernel$\\rightarrow$Restart) and then **run all cells** (in the menubar, select Cell$\\rightarrow$Run All).\n",
    "\n",
    "Make sure you fill in any place that says `YOUR CODE HERE` or \"YOUR ANSWER HERE\", as well as your name and collaborators below:"
   ]
  },
  {
   "cell_type": "code",
   "execution_count": null,
   "metadata": {},
   "outputs": [],
   "source": [
    "NAME = \"Haitong Lin\"\n",
    "COLLABORATORS = \"\""
   ]
  },
  {
   "cell_type": "markdown",
   "metadata": {},
   "source": [
    "---"
   ]
  },
  {
   "cell_type": "markdown",
   "metadata": {
    "deletable": false,
    "editable": false,
    "nbgrader": {
     "cell_type": "markdown",
     "checksum": "faa4f211d662282af01008537f7de967",
     "grade": false,
     "grade_id": "jupyter",
     "locked": true,
     "schema_version": 3,
     "solution": false
    }
   },
   "source": [
    "Problem 1 of Assignment 16, STATS102 Fall2019 Session 2, Duke Kunshan University, Due at Nov 27th 12：00pm beijing time\n",
    "![](dku.jpg)\n",
    "For this problem set, we'll be using the Jupyter notebook and nbgrader:\n",
    "\n",
    "![](jupyter.png)"
   ]
  },
  {
   "cell_type": "markdown",
   "metadata": {
    "deletable": false,
    "editable": false,
    "nbgrader": {
     "cell_type": "markdown",
     "checksum": "ac16126a8ea8e56fa68bfb0a01fa4738",
     "grade": false,
     "grade_id": "cell-542b022beb07b3ef",
     "locked": true,
     "schema_version": 3,
     "solution": false
    }
   },
   "source": [
    "# Problem 1\n",
    "\n",
    "Prove the following formula with derivation:\n",
    "$$\n",
    "P((A\\cap B^{c})\\cup (A^{c}\\cap B))=P(A)+P(B)-2P(A\\cap B)\n",
    "$$\n",
    "\n",
    "Your derivation should be step by step with justification."
   ]
  },
  {
   "cell_type": "markdown",
   "metadata": {
    "deletable": false,
    "nbgrader": {
     "cell_type": "code",
     "checksum": "c94fda7416046648f35d816380b0c47e",
     "grade": true,
     "grade_id": "p1",
     "locked": false,
     "points": 0.5,
     "schema_version": 3,
     "solution": true
    }
   },
   "source": [
    "#### #YOUR CODE HERE:\n",
    "$$\n",
    "We\\ know\\ that\\ P((A\\cap B^{c})\\cup (A^{c}\\cap B))=P(A\\cap B^{c})+P(A^{c}\\cap B)\n",
    "$$\n",
    "$$\n",
    "Because: P(A)=P(A\\cap B^{c})+P(A\\cap B),\\  which\\ means\\  P(A\\cap B^{c})=P(A)-P(A\\cap B)\n",
    "$$\n",
    "$$\n",
    "Similarly,\\ P(B\\cap A^{c})=P(B)-P(B\\cap A)\n",
    "$$\n",
    "$$\n",
    "Therefore,\\ P(A\\cap B^{c})+P(B\\cap A^{c})=P(A)-P(A\\cap B)+P(B)-P(B\\cap A)\\ and\\ P(A\\cap B)=P(B\\cap A)\n",
    "$$\n",
    "$$\n",
    "P((A\\cap B^{c})\\cup (A^{c}\\cap B))=P(A)+P(B)-2P(A\\cap B)\n",
    "$$"
   ]
  },
  {
   "cell_type": "markdown",
   "metadata": {},
   "source": [
    "# Problem 2\n",
    "\n",
    "A player is randomly dealt 13 cards from a standard 52-card deck. \n",
    "\n",
    "(a) what is the probability the 13th card dealt is a king?"
   ]
  },
  {
   "cell_type": "code",
   "execution_count": 2,
   "metadata": {
    "deletable": false,
    "nbgrader": {
     "cell_type": "code",
     "checksum": "236e869969559f2f7fb3b66066597533",
     "grade": true,
     "grade_id": "cell-d476191e49e65a04",
     "locked": false,
     "points": 0.5,
     "schema_version": 3,
     "solution": true
    }
   },
   "outputs": [
    {
     "data": {
      "text/plain": [
       "0.07692307692307691"
      ]
     },
     "execution_count": 2,
     "metadata": {},
     "output_type": "execute_result"
    }
   ],
   "source": [
    "# YOUR CODE HERE\n",
    "from scipy.special import perm\n",
    "a=int(perm(51,12))\n",
    "b=int(perm(52,13))\n",
    "p=4*a/b\n",
    "p"
   ]
  },
  {
   "cell_type": "markdown",
   "metadata": {},
   "source": [
    "(b) what is the probability the 13th card dealt is the first king dealt?"
   ]
  },
  {
   "cell_type": "code",
   "execution_count": 3,
   "metadata": {
    "deletable": false,
    "nbgrader": {
     "cell_type": "code",
     "checksum": "a286345822066506b3b6db03f1bfd86d",
     "grade": true,
     "grade_id": "cell-6e0c82d76b9a141a",
     "locked": false,
     "points": 1,
     "schema_version": 3,
     "solution": true
    }
   },
   "outputs": [
    {
     "data": {
      "text/plain": [
       "0.03375750300120048"
      ]
     },
     "execution_count": 3,
     "metadata": {},
     "output_type": "execute_result"
    }
   ],
   "source": [
    "# YOUR CODE HERE\n",
    "a=int(perm(48,12))\n",
    "b=int(perm(52,13))\n",
    "p=4*a/b\n",
    "p"
   ]
  }
 ],
 "metadata": {
  "kernelspec": {
   "display_name": "Python 3",
   "language": "python",
   "name": "python3"
  },
  "language_info": {
   "codemirror_mode": {
    "name": "ipython",
    "version": 3
   },
   "file_extension": ".py",
   "mimetype": "text/x-python",
   "name": "python",
   "nbconvert_exporter": "python",
   "pygments_lexer": "ipython3",
   "version": "3.7.4"
  }
 },
 "nbformat": 4,
 "nbformat_minor": 1
}
