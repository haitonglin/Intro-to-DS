{
 "cells": [
  {
   "cell_type": "markdown",
   "metadata": {},
   "source": [
    "Before you turn this problem in, make sure everything runs as expected. First, **restart the kernel** (in the menubar, select Kernel$\\rightarrow$Restart) and then **run all cells** (in the menubar, select Cell$\\rightarrow$Run All).\n",
    "\n",
    "Make sure you fill in any place that says `YOUR CODE HERE` or \"YOUR ANSWER HERE\", as well as your name and collaborators below:"
   ]
  },
  {
   "cell_type": "code",
   "execution_count": null,
   "metadata": {},
   "outputs": [],
   "source": [
    "NAME = \"Haitong Lin\"\n",
    "COLLABORATORS = \"\""
   ]
  },
  {
   "cell_type": "markdown",
   "metadata": {},
   "source": [
    "---"
   ]
  },
  {
   "cell_type": "markdown",
   "metadata": {
    "deletable": false,
    "editable": false,
    "nbgrader": {
     "cell_type": "markdown",
     "checksum": "2f0398e132eb49c8f4e4c8ab12cbdad7",
     "grade": false,
     "grade_id": "jupyter",
     "locked": true,
     "schema_version": 3,
     "solution": false
    }
   },
   "source": [
    "Problem 1 of Assignment 13, STATS102 Fall2019 Session 2, Duke Kunshan University, Due at Nov 20th 12：00pm beijing time\n",
    "![](dku.jpg)\n",
    "For this problem set, we'll be using the Jupyter notebook and nbgrader:\n",
    "\n",
    "![](jupyter.png)"
   ]
  },
  {
   "cell_type": "markdown",
   "metadata": {
    "deletable": false,
    "editable": false,
    "nbgrader": {
     "cell_type": "markdown",
     "checksum": "689c00e1cb6bba3541731eab5b60ffaa",
     "grade": false,
     "grade_id": "cell-542b022beb07b3ef",
     "locked": true,
     "schema_version": 3,
     "solution": false
    }
   },
   "source": [
    "# Problem 1\n",
    "\n",
    "Load <b>WorldCupMatches.csv</b>, calculate and return a DataFrame representing the top 5 teams descendingly ordered by the number of goals in a single world cup.\n",
    "\n",
    "![](assignment13.png)"
   ]
  },
  {
   "cell_type": "code",
   "execution_count": 14,
   "metadata": {
    "deletable": false,
    "nbgrader": {
     "cell_type": "code",
     "checksum": "4a4b9653477d9ae3055d74387a8cf81a",
     "grade": false,
     "grade_id": "myfunction",
     "locked": false,
     "schema_version": 3,
     "solution": true
    }
   },
   "outputs": [],
   "source": [
    "import numpy as np\n",
    "import pandas as pd\n",
    "\n",
    "def myfunction():\n",
    "    # YOUR CODE HERE\n",
    "    data=pd.DataFrame(pd.read_csv('WorldCupMatches.csv')).dropna().drop_duplicates()\n",
    "    \n",
    "    df1=data[['Year','Home Team Name','Home Team Goals']]\n",
    "    df1.columns=['Year','Team Name','Goals']\n",
    "    df2=data[['Year','Away Team Name','Away Team Goals']]\n",
    "    df2.columns=['Year','Team Name','Goals']\n",
    "    \n",
    "    df=pd.concat([df1,df2])\n",
    "    df=df.groupby(['Year','Team Name'])['Goals'].sum().sort_values(ascending=False)\n",
    "    \n",
    "    return pd.DataFrame(df[:5])"
   ]
  },
  {
   "cell_type": "code",
   "execution_count": 15,
   "metadata": {
    "deletable": false,
    "editable": false,
    "nbgrader": {
     "cell_type": "code",
     "checksum": "a257bb2ddb290a57af03b9b0752fa486",
     "grade": true,
     "grade_id": "cell-044b32eea7f84461",
     "locked": true,
     "points": 1.5,
     "schema_version": 3,
     "solution": false
    }
   },
   "outputs": [
    {
     "data": {
      "text/html": [
       "<div>\n",
       "<style scoped>\n",
       "    .dataframe tbody tr th:only-of-type {\n",
       "        vertical-align: middle;\n",
       "    }\n",
       "\n",
       "    .dataframe tbody tr th {\n",
       "        vertical-align: top;\n",
       "    }\n",
       "\n",
       "    .dataframe thead th {\n",
       "        text-align: right;\n",
       "    }\n",
       "</style>\n",
       "<table border=\"1\" class=\"dataframe\">\n",
       "  <thead>\n",
       "    <tr style=\"text-align: right;\">\n",
       "      <th></th>\n",
       "      <th></th>\n",
       "      <th>Goals</th>\n",
       "    </tr>\n",
       "    <tr>\n",
       "      <th>Year</th>\n",
       "      <th>Team Name</th>\n",
       "      <th></th>\n",
       "    </tr>\n",
       "  </thead>\n",
       "  <tbody>\n",
       "    <tr>\n",
       "      <td rowspan=\"2\" valign=\"top\">1954.0</td>\n",
       "      <td>Hungary</td>\n",
       "      <td>27.0</td>\n",
       "    </tr>\n",
       "    <tr>\n",
       "      <td>Germany FR</td>\n",
       "      <td>25.0</td>\n",
       "    </tr>\n",
       "    <tr>\n",
       "      <td>1958.0</td>\n",
       "      <td>France</td>\n",
       "      <td>23.0</td>\n",
       "    </tr>\n",
       "    <tr>\n",
       "      <td>1950.0</td>\n",
       "      <td>Brazil</td>\n",
       "      <td>22.0</td>\n",
       "    </tr>\n",
       "    <tr>\n",
       "      <td>1970.0</td>\n",
       "      <td>Brazil</td>\n",
       "      <td>19.0</td>\n",
       "    </tr>\n",
       "  </tbody>\n",
       "</table>\n",
       "</div>"
      ],
      "text/plain": [
       "                   Goals\n",
       "Year   Team Name        \n",
       "1954.0 Hungary      27.0\n",
       "       Germany FR   25.0\n",
       "1958.0 France       23.0\n",
       "1950.0 Brazil       22.0\n",
       "1970.0 Brazil       19.0"
      ]
     },
     "execution_count": 15,
     "metadata": {},
     "output_type": "execute_result"
    }
   ],
   "source": [
    "res=myfunction()\n",
    "assert res.shape==(5,1)\n",
    "assert (res.values==np.array([[27.],[25.],[23.],[22.],[19.]])).all()\n",
    "assert int(res.loc[1954,'Hungary'])==27\n",
    "assert int(res.loc[1954,'Germany FR'])==25\n",
    "assert int(res.loc[1958,'France'])==23\n",
    "assert int(res.loc[1950,'Brazil'])==22\n",
    "assert int(res.loc[1970,'Brazil'])==19\n",
    "res"
   ]
  },
  {
   "cell_type": "markdown",
   "metadata": {},
   "source": [
    "# Problem 2\n",
    "\n",
    "Load <b>artists.csv</b>, calculate and return how many artists's lifespans are 30 to 60 years (excluding 30).\n",
    "\n",
    "Data reference: https://www.kaggle.com/ikarus777/best-artworks-of-all-time\n",
    "\n",
    "Hint:\n",
    "![](assignment13_2.png)"
   ]
  },
  {
   "cell_type": "code",
   "execution_count": 20,
   "metadata": {
    "deletable": false,
    "nbgrader": {
     "cell_type": "code",
     "checksum": "cdbbfbcdf0f97899b7c76ffcb23bec22",
     "grade": false,
     "grade_id": "cell-598931e3074a3182",
     "locked": false,
     "schema_version": 3,
     "solution": true,
     "task": false
    }
   },
   "outputs": [],
   "source": [
    "import numpy as np\n",
    "import pandas as pd\n",
    "\n",
    "def myfunction():\n",
    "    # YOUR CODE HERE\n",
    "    data=pd.read_csv('artists.csv')\n",
    "    data['years']=data['years'].str.replace('–','-')\n",
    "    data['born']=data['years'].str.extract('(\\d+)').astype(int)\n",
    "    data['dead']=data['years'].str.extract('-\\s(\\d+)').astype(int)\n",
    "    data['lifespan']=data['dead']-data['born']\n",
    "    output=np.sum((data['lifespan']>30)&(data['lifespan']<=60))\n",
    "    return output"
   ]
  },
  {
   "cell_type": "code",
   "execution_count": 21,
   "metadata": {
    "deletable": false,
    "editable": false,
    "nbgrader": {
     "cell_type": "code",
     "checksum": "3f16c02797d6a39343b76b3efa93d08c",
     "grade": true,
     "grade_id": "cell-e10c724844514f74",
     "locked": true,
     "points": 0.5,
     "schema_version": 3,
     "solution": false,
     "task": false
    }
   },
   "outputs": [],
   "source": [
    "assert myfunction()==19"
   ]
  }
 ],
 "metadata": {
  "kernelspec": {
   "display_name": "Python 3",
   "language": "python",
   "name": "python3"
  },
  "language_info": {
   "codemirror_mode": {
    "name": "ipython",
    "version": 3
   },
   "file_extension": ".py",
   "mimetype": "text/x-python",
   "name": "python",
   "nbconvert_exporter": "python",
   "pygments_lexer": "ipython3",
   "version": "3.6.9"
  }
 },
 "nbformat": 4,
 "nbformat_minor": 1
}
