{
 "cells": [
  {
   "cell_type": "markdown",
   "metadata": {},
   "source": [
    "Before you turn this problem in, make sure everything runs as expected. First, **restart the kernel** (in the menubar, select Kernel$\\rightarrow$Restart) and then **run all cells** (in the menubar, select Cell$\\rightarrow$Run All).\n",
    "\n",
    "Make sure you fill in any place that says `YOUR CODE HERE` or \"YOUR ANSWER HERE\", as well as your name and collaborators below:"
   ]
  },
  {
   "cell_type": "code",
   "execution_count": null,
   "metadata": {},
   "outputs": [],
   "source": [
    "NAME = \"Haitong Lin\"\n",
    "COLLABORATORS = \"\""
   ]
  },
  {
   "cell_type": "markdown",
   "metadata": {},
   "source": [
    "---"
   ]
  },
  {
   "cell_type": "markdown",
   "metadata": {
    "deletable": false,
    "editable": false,
    "nbgrader": {
     "cell_type": "markdown",
     "checksum": "6a7b839ad557bfd171967d6e17abdd04",
     "grade": false,
     "grade_id": "jupyter",
     "locked": true,
     "schema_version": 3,
     "solution": false
    }
   },
   "source": [
    "Problem 1 of Assignment 17, STATS102 Fall2019 Session 2, Duke Kunshan University, Due at Nov 28th 12：00pm beijing time\n",
    "![](dku.jpg)\n",
    "For this problem set, we'll be using the Jupyter notebook and nbgrader:\n",
    "\n",
    "![](jupyter.png)"
   ]
  },
  {
   "cell_type": "markdown",
   "metadata": {
    "deletable": false,
    "editable": false,
    "nbgrader": {
     "cell_type": "markdown",
     "checksum": "24a45cd2f2f81d3f109d0760c8f176dc",
     "grade": false,
     "grade_id": "cell-542b022beb07b3ef",
     "locked": true,
     "schema_version": 3,
     "solution": false
    }
   },
   "source": [
    "# Problem 1\n",
    "\n",
    "Use Example 2.3 in the textbook to simulate the Buffon’s Needle experiments.\n",
    "\n",
    "Please calculate and store the estimated number of $\\pi$ using 100,1000,10000,100000 trials, and plot the estimated numbers to visualize the convergence."
   ]
  },
  {
   "cell_type": "code",
   "execution_count": 22,
   "metadata": {
    "deletable": false,
    "nbgrader": {
     "cell_type": "code",
     "checksum": "5a3a42655783a91b795a21d9a7c0d7f4",
     "grade": true,
     "grade_id": "p1",
     "locked": false,
     "points": 1,
     "schema_version": 3,
     "solution": true
    }
   },
   "outputs": [
    {
     "name": "stdout",
     "output_type": "stream",
     "text": [
      "[2.857142857142857, 3.2206119162640903, 3.155071777882947, 3.155619369191688]\n"
     ]
    },
    {
     "data": {
      "image/png": "[encoded data removed]",
      "text/plain": [
       "<Figure size 432x288 with 1 Axes>"
      ]
     },
     "metadata": {
      "needs_background": "light"
     },
     "output_type": "display_data"
    }
   ],
   "source": [
    "# YOUR CODE HERE\n",
    "import numpy as np\n",
    "import matplotlib.pyplot as plt\n",
    "list=[]\n",
    "a=1\n",
    "times=[100,1000,10000,100000]\n",
    "for n in times:\n",
    "    i=0\n",
    "    for z in range(n): \n",
    "        x=np.random.uniform(0,a/2)\n",
    "        y=np.random.uniform(0,np.pi/2)\n",
    "        if x<(np.sin(y))/2:\n",
    "            i+=1\n",
    "    p=i/n\n",
    "    list.append(2/p)\n",
    "print(list)\n",
    "\n",
    "plt.plot(times,list)\n",
    "plt.hlines(np.pi,100,100000,color='grey',linestyle=':')\n",
    "plt.xlabel('times')\n",
    "plt.ylabel('esitimated number of pi')\n",
    "plt.show()"
   ]
  },
  {
   "cell_type": "markdown",
   "metadata": {
    "deletable": false,
    "editable": false,
    "nbgrader": {
     "cell_type": "markdown",
     "checksum": "3b8fc2dcb139658ad070c78cdbe08150",
     "grade": false,
     "grade_id": "cell-abb42f9f1d5faf3a",
     "locked": true,
     "schema_version": 3,
     "solution": false,
     "task": false
    }
   },
   "source": [
    "# Problem 2\n",
    "\n",
    "Textbook page 150 exercise 2, coin problem.\n",
    "\n",
    "Please calculate the mathmatical solution first and then use simulation to verify the answer."
   ]
  },
  {
   "cell_type": "markdown",
   "metadata": {
    "deletable": false,
    "nbgrader": {
     "cell_type": "code",
     "checksum": "134fbfc58ec37c10d63694ddf0ff5fb3",
     "grade": true,
     "grade_id": "p2",
     "locked": false,
     "points": 1,
     "schema_version": 3,
     "solution": true
    }
   },
   "source": [
    "#### #YOUR CODE HERE\n",
    "The probablity of both outcomes are both 1/2, denoted as $P(H)=P(T)=1/2$, denote the flips as T1,T2,T3\n",
    "\n",
    "According to Bayes' formular, $P(H_i|E)=P(H_i\\cap E)/P(E)$\n",
    "\n",
    "$a. P(2H|T1=H)=1/2$\n",
    "\n",
    "$b. P(2H|T1=T)=1/4$\n",
    "\n",
    "$c. P(2H|T1=H,T2=H)=1/2$\n",
    "\n",
    "$d. P(2H|T1=T,T2=T)=0$\n",
    "\n",
    "$e. P(2H|T1=H,T3=H)=1/2$"
   ]
  },
  {
   "cell_type": "code",
   "execution_count": 31,
   "metadata": {},
   "outputs": [
    {
     "data": {
      "text/plain": [
       "0.50208"
      ]
     },
     "execution_count": 31,
     "metadata": {},
     "output_type": "execute_result"
    }
   ],
   "source": [
    "#denote head as 1, tail as 0\n",
    "#(a)\n",
    "m=0\n",
    "N=100000\n",
    "for i in range(N):\n",
    "    x2=np.random.randint(0,2)\n",
    "    x3=np.random.randint(0,2)\n",
    "    if x2+x3==1:\n",
    "        m+=1\n",
    "    i=i+1\n",
    "p=m/i\n",
    "p"
   ]
  },
  {
   "cell_type": "code",
   "execution_count": 32,
   "metadata": {},
   "outputs": [
    {
     "data": {
      "text/plain": [
       "0.24717"
      ]
     },
     "execution_count": 32,
     "metadata": {},
     "output_type": "execute_result"
    }
   ],
   "source": [
    "#(b)\n",
    "m=0\n",
    "N=100000\n",
    "for i in range(N):\n",
    "    x2=np.random.randint(0,2)\n",
    "    x3=np.random.randint(0,2)\n",
    "    if x2+x3==2:\n",
    "        m+=1\n",
    "    i=i+1\n",
    "p=m/i\n",
    "p"
   ]
  },
  {
   "cell_type": "code",
   "execution_count": 33,
   "metadata": {},
   "outputs": [
    {
     "data": {
      "text/plain": [
       "0.50109"
      ]
     },
     "execution_count": 33,
     "metadata": {},
     "output_type": "execute_result"
    }
   ],
   "source": [
    "#(c)\n",
    "m=0\n",
    "N=100000\n",
    "for i in range(N):\n",
    "    x3=np.random.randint(0,2)\n",
    "    if x2+x3==0:\n",
    "        m+=1\n",
    "    i=i+1\n",
    "p=m/i\n",
    "p"
   ]
  },
  {
   "cell_type": "code",
   "execution_count": 34,
   "metadata": {},
   "outputs": [
    {
     "data": {
      "text/plain": [
       "0.0"
      ]
     },
     "execution_count": 34,
     "metadata": {},
     "output_type": "execute_result"
    }
   ],
   "source": [
    "#(d)\n",
    "m=0\n",
    "N=100000\n",
    "for i in range(N):\n",
    "    x3=np.random.randint(0,2)\n",
    "    if x3==2:\n",
    "        m+=1\n",
    "    i=i+1\n",
    "p=m/i\n",
    "p"
   ]
  },
  {
   "cell_type": "code",
   "execution_count": 35,
   "metadata": {},
   "outputs": [
    {
     "data": {
      "text/plain": [
       "0.49841"
      ]
     },
     "execution_count": 35,
     "metadata": {},
     "output_type": "execute_result"
    }
   ],
   "source": [
    "#(e)\n",
    "m=0\n",
    "N=100000\n",
    "for i in range(N):\n",
    "    x3=np.random.randint(0,2)\n",
    "    if x3==0:\n",
    "        m+=1\n",
    "    i=i+1\n",
    "p=m/i\n",
    "p"
   ]
  }
 ],
 "metadata": {
  "kernelspec": {
   "display_name": "Python 3",
   "language": "python",
   "name": "python3"
  },
  "language_info": {
   "codemirror_mode": {
    "name": "ipython",
    "version": 3
   },
   "file_extension": ".py",
   "mimetype": "text/x-python",
   "name": "python",
   "nbconvert_exporter": "python",
   "pygments_lexer": "ipython3",
   "version": "3.7.4"
  }
 },
 "nbformat": 4,
 "nbformat_minor": 1
}
