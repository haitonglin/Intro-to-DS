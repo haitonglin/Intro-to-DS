{
 "cells": [
  {
   "cell_type": "markdown",
   "metadata": {},
   "source": [
    "Before you turn this problem in, make sure everything runs as expected. First, **restart the kernel** (in the menubar, select Kernel$\\rightarrow$Restart) and then **run all cells** (in the menubar, select Cell$\\rightarrow$Run All).\n",
    "\n",
    "Make sure you fill in any place that says `YOUR CODE HERE` or \"YOUR ANSWER HERE\", as well as your name and collaborators below:"
   ]
  },
  {
   "cell_type": "code",
   "execution_count": null,
   "metadata": {},
   "outputs": [],
   "source": [
    "NAME = \"Haitong Lin\"\n",
    "COLLABORATORS = \"\""
   ]
  },
  {
   "cell_type": "markdown",
   "metadata": {},
   "source": [
    "---"
   ]
  },
  {
   "cell_type": "markdown",
   "metadata": {
    "deletable": false,
    "editable": false,
    "nbgrader": {
     "cell_type": "markdown",
     "checksum": "cddd9c293cb5e65b1dc2593f4b2d0507",
     "grade": false,
     "grade_id": "cell-9f1f9ac6cd7b8166",
     "locked": true,
     "schema_version": 3,
     "solution": false
    }
   },
   "source": [
    "Weekly mini-project 2, STATS102 Fall2019 Session 2, Duke Kunshan University, Due at Nov 11th 12:00pm Shanghai time\n",
    "![](dku.jpg)\n",
    "For this problem set, we'll be using the Jupyter notebook:\n",
    "![](jupyter.png) "
   ]
  },
  {
   "cell_type": "markdown",
   "metadata": {
    "deletable": false,
    "editable": false,
    "nbgrader": {
     "cell_type": "markdown",
     "checksum": "d721986953adf8bffb1ee3ebb51a3650",
     "grade": false,
     "grade_id": "cell-38c46d1897f33426",
     "locked": true,
     "schema_version": 3,
     "solution": false
    }
   },
   "source": [
    "# problem 1 (0.5 point) \n",
    "There are 13 lamps on the table. Starting from 1, we turn off the lamp at every 5th, when the count reach 13, start from 1 again. Write a function that return the order of lamps being turned off. In this case, the return list would be [5, 10, 2, 8, 1, 9, 4, 13, 12, 3, 7, 11, 6]. Note that the turn-off lamps would not count again."
   ]
  },
  {
   "cell_type": "code",
   "execution_count": 241,
   "metadata": {
    "deletable": false,
    "nbgrader": {
     "cell_type": "code",
     "checksum": "36e996f496754cd4bebc76ce7607a8f1",
     "grade": false,
     "grade_id": "cell-06952d5f38104138",
     "locked": false,
     "schema_version": 3,
     "solution": true
    }
   },
   "outputs": [],
   "source": [
    "def turn_off_order():\n",
    "    # YOUR CODE HERE\n",
    "    l=[i for i in range(1,14)]\n",
    "    result=[]\n",
    "    idx=1\n",
    "    while len(l)>1:\n",
    "        idx=idx+4\n",
    "        while idx>len(l):\n",
    "            idx-=len(l) #idx = idx - len(l)\n",
    "        result.append(l[idx-1])\n",
    "        l.pop(idx-1)\n",
    "    result.append(l[0])\n",
    "    return result\n",
    "    "
   ]
  },
  {
   "cell_type": "code",
   "execution_count": 242,
   "metadata": {
    "deletable": false,
    "editable": false,
    "nbgrader": {
     "cell_type": "code",
     "checksum": "51a8bd4e6b850c0b3d2b689fb438390b",
     "grade": true,
     "grade_id": "cell-bf13653d315bd398",
     "locked": true,
     "points": 0.5,
     "schema_version": 3,
     "solution": false
    }
   },
   "outputs": [],
   "source": [
    "assert turn_off_order() == [5, 10, 2, 8, 1, 9, 4, 13, 12, 3, 7, 11, 6]"
   ]
  },
  {
   "cell_type": "markdown",
   "metadata": {
    "deletable": false,
    "editable": false,
    "nbgrader": {
     "cell_type": "markdown",
     "checksum": "0b0ede2c076d14ab04c72c19fc33c469",
     "grade": false,
     "grade_id": "cell-b44fda9abf6d3588",
     "locked": true,
     "schema_version": 3,
     "solution": false
    }
   },
   "source": [
    "# problem 2 (0.4 point) \n",
    "According to problem 1, what if we have different number of lamps, and start at a lamp other than the first lamp. Even more, when we turn off the lamp at every kth. Write a function that aquire 3 numbers, represented the number of lamps, start from which lamp, when to turn off a lamp, and return the turn-off order."
   ]
  },
  {
   "cell_type": "code",
   "execution_count": 243,
   "metadata": {
    "deletable": false,
    "nbgrader": {
     "cell_type": "code",
     "checksum": "b6c3a606fdc20ef7aeb77190354dec8f",
     "grade": false,
     "grade_id": "cell-b47caf9d62efd4e1",
     "locked": false,
     "schema_version": 3,
     "solution": true
    }
   },
   "outputs": [],
   "source": [
    "def turn_off_order_upgrade(lamps_num, start, k):\n",
    "    ''' lamps_num : the number of lamps\n",
    "       start: the start lamp\n",
    "       k: turn off the lamp at every k-th lamp\n",
    "    '''\n",
    "    # YOUR CODE HERE\n",
    "    l=[i for i in range(1,lamps_num+1)]\n",
    "    result=[]\n",
    "    idx=start\n",
    "    while len(l)>1:\n",
    "        idx=idx+(k-1)\n",
    "        while idx>len(l):\n",
    "            idx-=len(l) \n",
    "        result.append(l[idx-1])\n",
    "        l.pop(idx-1)\n",
    "    result.append(l[0])\n",
    "    return result"
   ]
  },
  {
   "cell_type": "code",
   "execution_count": 240,
   "metadata": {
    "deletable": false,
    "editable": false,
    "nbgrader": {
     "cell_type": "code",
     "checksum": "e44726eb1a9f8086b1cca313de9c3767",
     "grade": true,
     "grade_id": "cell-aac34bc3384ca811",
     "locked": true,
     "points": 0.4,
     "schema_version": 3,
     "solution": false
    }
   },
   "outputs": [],
   "source": [
    "assert turn_off_order_upgrade(13, 2, 6) == [7, 13, 6, 1, 9, 4, 2, 12, 3, 8, 5, 11, 10]\n",
    "assert turn_off_order_upgrade(13, 1, 5) == [5, 10, 2, 8, 1, 9, 4, 13, 12, 3, 7, 11, 6]\n",
    "assert turn_off_order_upgrade(23, 12, 4) == [15, 19, 23, 4, 8, 12, 17, 22, 5, 10, 16, 1, 7, 14, 2, 11, 21, 13, 6, 3, 9, 20, 18]"
   ]
  },
  {
   "cell_type": "markdown",
   "metadata": {
    "deletable": false,
    "editable": false,
    "nbgrader": {
     "cell_type": "markdown",
     "checksum": "81daa16ec30103be6fbf4b8f682717c9",
     "grade": false,
     "grade_id": "cell-895ff9ee18aa27f4",
     "locked": true,
     "schema_version": 3,
     "solution": false,
     "task": false
    }
   },
   "source": [
    "# Problem 3 (0.3 point) \n",
    "\n",
    "Find the minimum value of each row for a given 2D matrix."
   ]
  },
  {
   "cell_type": "code",
   "execution_count": 61,
   "metadata": {
    "deletable": false,
    "nbgrader": {
     "cell_type": "code",
     "checksum": "3c617fa94234d128f9f555a992af9cc7",
     "grade": false,
     "grade_id": "cell-413652036a3b4661",
     "locked": false,
     "schema_version": 3,
     "solution": true,
     "task": false
    }
   },
   "outputs": [],
   "source": [
    "import numpy as np\n",
    "\n",
    "def findMin(mat):\n",
    "    # YOUR CODE HERE\n",
    "    return np.amin(mat,1)"
   ]
  },
  {
   "cell_type": "code",
   "execution_count": 62,
   "metadata": {
    "deletable": false,
    "editable": false,
    "nbgrader": {
     "cell_type": "code",
     "checksum": "45ef653c51f33e1482adc9454474d839",
     "grade": true,
     "grade_id": "cell-4851a061070d469d",
     "locked": true,
     "points": 0.3,
     "schema_version": 3,
     "solution": false,
     "task": false
    }
   },
   "outputs": [],
   "source": [
    "import numpy as np\n",
    "\n",
    "a = np.arange(1,10).reshape((3,3))\n",
    "assert (findMin(a) == np.array([1, 4, 7])).all\n",
    "\n",
    "b = np.linspace(0, 10, 21).reshape((7,3))\n",
    "assert (findMin(b) == np.array([0., 1.5, 3., 4.5, 6., 7.5, 9.])).all()\n",
    "\n",
    "c = np.linspace(0, 10, 20).reshape((4,5))\n",
    "assert ~(findMin(c) == np.array([0., 2.63157895, 5.26315789, 7.89473684])).all()"
   ]
  },
  {
   "cell_type": "markdown",
   "metadata": {
    "deletable": false,
    "editable": false,
    "nbgrader": {
     "cell_type": "markdown",
     "checksum": "55e851f81cd724ca730c0d41fb6b9fd9",
     "grade": false,
     "grade_id": "cell-6c5e72ce8280f059",
     "locked": true,
     "schema_version": 3,
     "solution": false,
     "task": false
    }
   },
   "source": [
    "# Problem 4 (0.3 point)\n",
    "\n",
    "Given two 2D matrices, write a function to judge whether they have the same shape."
   ]
  },
  {
   "cell_type": "code",
   "execution_count": 107,
   "metadata": {
    "deletable": false,
    "nbgrader": {
     "cell_type": "code",
     "checksum": "a29e5a1bccc94232e45b28f2aa9a5e6a",
     "grade": false,
     "grade_id": "cell-6da4d6fe553f2c3a",
     "locked": false,
     "schema_version": 3,
     "solution": true,
     "task": false
    }
   },
   "outputs": [],
   "source": [
    "import numpy as np\n",
    "\n",
    "def judgeShape(A, B):\n",
    "    # YOUR CODE HERE\n",
    "    return np.shape(A)==np.shape(B)"
   ]
  },
  {
   "cell_type": "code",
   "execution_count": 108,
   "metadata": {
    "deletable": false,
    "editable": false,
    "nbgrader": {
     "cell_type": "code",
     "checksum": "9cde3b23449348aa7b423447bed9a52f",
     "grade": true,
     "grade_id": "cell-4b461a8e76c611b7",
     "locked": true,
     "points": 0.3,
     "schema_version": 3,
     "solution": false,
     "task": false
    }
   },
   "outputs": [],
   "source": [
    "import numpy as np\n",
    "\n",
    "A1 = np.arange(25).reshape(5,5)\n",
    "B1 = np.arange(20).reshape(4,5)\n",
    "assert judgeShape(A1, B1) == False\n",
    "\n",
    "A2 = np.arange(40).reshape(8,5)\n",
    "B2 = np.arange(8).reshape(8,1)\n",
    "assert judgeShape(A2, B2) == False\n",
    "\n",
    "A3 = np.arange(25).reshape(5,5)\n",
    "B3 = np.arange(0,50,2).reshape(5,5)\n",
    "assert judgeShape(A3, B3) == True"
   ]
  },
  {
   "cell_type": "markdown",
   "metadata": {
    "deletable": false,
    "editable": false,
    "nbgrader": {
     "cell_type": "markdown",
     "checksum": "0d9520a0513fb30c8025cce5f271035b",
     "grade": false,
     "grade_id": "cell-27454763dbdd8085",
     "locked": true,
     "schema_version": 3,
     "solution": false,
     "task": false
    }
   },
   "source": [
    "# Problem5 (0.4 point)\n",
    "\n",
    "Given an array `strList` of strings made only from lowercase letters, return a list of all characters that show up in all strings within the list (no duplicates).\n",
    "\n",
    "The answer is in sorted order."
   ]
  },
  {
   "cell_type": "code",
   "execution_count": 217,
   "metadata": {
    "deletable": false,
    "nbgrader": {
     "cell_type": "code",
     "checksum": "f8c242b922c1d0c5c222f052a27a77df",
     "grade": false,
     "grade_id": "cell-82e2f5928a22758d",
     "locked": false,
     "schema_version": 3,
     "solution": true,
     "task": false
    }
   },
   "outputs": [],
   "source": [
    "def commonChars(strList):\n",
    "    # YOUR CODE HERE\n",
    "    output=[]\n",
    "    for i in strList[0]:\n",
    "        if i in strList[1] and i in strList[2] and i not in output:\n",
    "            output.append(i)\n",
    "    return sorted(output)"
   ]
  },
  {
   "cell_type": "code",
   "execution_count": 220,
   "metadata": {
    "deletable": false,
    "editable": false,
    "nbgrader": {
     "cell_type": "code",
     "checksum": "fe6d2fa24e25cdc408c89c7d872900c8",
     "grade": true,
     "grade_id": "cell-447d90122b0aaf79",
     "locked": true,
     "points": 0.4,
     "schema_version": 3,
     "solution": false,
     "task": false
    }
   },
   "outputs": [],
   "source": [
    "assert commonChars([\"bella\",\"label\",\"roller\"]) == [\"e\",\"l\"]\n",
    "assert commonChars([\"cool\",\"lock\",\"cook\"]) == ['c', 'o']\n",
    "assert commonChars([\"apple\",\"banana\",\"peach\"]) == ['a']\n",
    "assert commonChars([\"book\",\"cook\",\"look\"]) == ['k', 'o']"
   ]
  },
  {
   "cell_type": "markdown",
   "metadata": {
    "deletable": false,
    "editable": false,
    "nbgrader": {
     "cell_type": "markdown",
     "checksum": "65428d5eb1d5f56c8d62840c26ace43b",
     "grade": false,
     "grade_id": "cell-5e3e967521d20da1",
     "locked": true,
     "schema_version": 3,
     "solution": false,
     "task": false
    }
   },
   "source": [
    "# Problem6 (0.4 point)\n",
    "\n",
    "Find the product of the maximum and minimum numbers occuring in `regex_sum_320982.txt` and `regex_sum_42.txt`.\n",
    "\n",
    "（modified from Python for everyone regular expression assignments）"
   ]
  },
  {
   "cell_type": "code",
   "execution_count": 223,
   "metadata": {
    "deletable": false,
    "nbgrader": {
     "cell_type": "code",
     "checksum": "0faf1b814052b8ab09079c6bef272fb5",
     "grade": false,
     "grade_id": "cell-1cb5eb02bead76e2",
     "locked": false,
     "schema_version": 3,
     "solution": true,
     "task": false
    }
   },
   "outputs": [],
   "source": [
    "import re\n",
    "\n",
    "def find_product(file):\n",
    "    # YOUR CODE HERE\n",
    "    alist=[]\n",
    "    handle=open(file)\n",
    "    for line in handle:\n",
    "        num=re.findall('[0-9]+',line)\n",
    "        alist.extend(num)\n",
    "    for n in range(len(alist)):\n",
    "        alist[n]=int(alist[n])\n",
    "    return max(alist)*min(alist)"
   ]
  },
  {
   "cell_type": "code",
   "execution_count": 227,
   "metadata": {
    "deletable": false,
    "editable": false,
    "nbgrader": {
     "cell_type": "code",
     "checksum": "20e22a060d87b3c7365f29200771c8ba",
     "grade": true,
     "grade_id": "cell-82183aa329825131",
     "locked": true,
     "points": 0.4,
     "schema_version": 3,
     "solution": false,
     "task": false
    }
   },
   "outputs": [],
   "source": [
    "assert find_product('regex_sum_42.txt') == 29385\n",
    "assert find_product('regex_sum_320982.txt') == 29682"
   ]
  },
  {
   "cell_type": "markdown",
   "metadata": {
    "deletable": false,
    "editable": false,
    "nbgrader": {
     "cell_type": "markdown",
     "checksum": "ef028ab5b40dedf874d19cc02e5991c2",
     "grade": false,
     "grade_id": "cell-6285b8854e244db2",
     "locked": true,
     "schema_version": 3,
     "solution": false,
     "task": false
    }
   },
   "source": [
    "# Problem 7 (0.3 point)\n",
    "\n",
    "A shift on a string consists of taking the string and moving the leftmost character to the rightmost position. For example, if Str(A) = `abcde`, then it will be `bcdea` after one shift on it.\n",
    "\n",
    "Given two strings: A and B, please write a function to judge whether A can become B after some number of shifts on A."
   ]
  },
  {
   "cell_type": "code",
   "execution_count": 186,
   "metadata": {
    "deletable": false,
    "nbgrader": {
     "cell_type": "code",
     "checksum": "b4af09799dafc4dbc17f165d596d2669",
     "grade": false,
     "grade_id": "cell-d9d13bb04a63a0ec",
     "locked": false,
     "schema_version": 3,
     "solution": true,
     "task": false
    }
   },
   "outputs": [],
   "source": [
    "def str_shift(A, B):\n",
    "    # YOUR CODE HERE\n",
    "    if len(A)!=len(B):\n",
    "        return False\n",
    "\n",
    "    while A!=B:\n",
    "        a=A[0]\n",
    "        A=A+a\n",
    "        A=A[1:]\n",
    "        if A==B:\n",
    "            return True"
   ]
  },
  {
   "cell_type": "code",
   "execution_count": 188,
   "metadata": {
    "deletable": false,
    "editable": false,
    "nbgrader": {
     "cell_type": "code",
     "checksum": "7cc2360d3c84eca5370107d2395a85d1",
     "grade": true,
     "grade_id": "cell-de462268a22cf6cd",
     "locked": true,
     "points": 0.3,
     "schema_version": 3,
     "solution": false,
     "task": false
    }
   },
   "outputs": [],
   "source": [
    "# assert str_shift('aa','a') == False\n",
    "assert str_shift('ab','a') == False\n",
    "assert str_shift('aeiou','ouaei') == True\n",
    "assert str_shift('bdffff','ffffbd') == True"
   ]
  },
  {
   "cell_type": "markdown",
   "metadata": {
    "deletable": false,
    "editable": false,
    "nbgrader": {
     "cell_type": "markdown",
     "checksum": "990f945c89675a2def68b8048a2853e9",
     "grade": false,
     "grade_id": "cell-edac64c123bd84ee",
     "locked": true,
     "schema_version": 3,
     "solution": false,
     "task": false
    }
   },
   "source": [
    "# Problem 8 (0.4 point)\n",
    "\n",
    "Write a program to encode the string by spliting it by the middle and reverse the two substrings."
   ]
  },
  {
   "cell_type": "code",
   "execution_count": 236,
   "metadata": {
    "deletable": false,
    "nbgrader": {
     "cell_type": "code",
     "checksum": "efe08dcbc6c0a61b954251c19a2a3633",
     "grade": false,
     "grade_id": "cell-0b95d1b83eb37a8c",
     "locked": false,
     "schema_version": 3,
     "solution": true,
     "task": false
    }
   },
   "outputs": [],
   "source": [
    "def encodeString(ori_str):\n",
    "    # YOUR CODE HERE\n",
    "    if int(len(ori_str))%2==0:\n",
    "        \n",
    "        a1=ori_str[0:int(len(ori_str))//2]\n",
    "        a1=a1[::-1]\n",
    "        \n",
    "        a2=ori_str[int(len(ori_str))//2:]\n",
    "        a2=a2[::-1]\n",
    "        \n",
    "        return a1+a2\n",
    "     \n",
    "    if int(len(ori_str))%2!=0:\n",
    "        \n",
    "        b1=ori_str[0:(int(len(ori_str))-1)//2]\n",
    "        b1=b1[::-1]\n",
    "        \n",
    "        b2=ori_str[(int(len(ori_str))-1)//2:]\n",
    "        b2=b2[::-1]\n",
    "        \n",
    "        return b1+b2"
   ]
  },
  {
   "cell_type": "code",
   "execution_count": 238,
   "metadata": {
    "deletable": false,
    "editable": false,
    "nbgrader": {
     "cell_type": "code",
     "checksum": "fc783ddbfa12cad1b2ac332e78741bf7",
     "grade": true,
     "grade_id": "cell-9f5764dd7239884e",
     "locked": true,
     "points": 0.4,
     "schema_version": 3,
     "solution": false,
     "task": false
    }
   },
   "outputs": [],
   "source": [
    "assert encodeString('AaAaBbBb') == 'aAaAbBbB'\n",
    "assert encodeString('This lines must be printed backwards and splitted in the middle.') \\\n",
    "    == 'wkcab detnirp eb tsum senil sihT.elddim eht ni dettilps dna sdra'\n",
    "assert encodeString(encodeString('This lines must be printed backwards and splitted in the middle.')) \\\n",
    "    == 'This lines must be printed backwards and splitted in the middle.'\n",
    "assert encodeString('This is a very secret message!') \\\n",
    "    == ' yrev a si sihT!egassem terces'\n",
    "assert encodeString(encodeString('This is a very secret message!')) \\\n",
    "    == 'This is a very secret message!'\n",
    "assert encodeString('Happy programming~') \\\n",
    "    == 'orp yppaH~gnimmarg'\n",
    "assert encodeString(encodeString('Happy programming~')) \\\n",
    "    == 'Happy programming~'"
   ]
  }
 ],
 "metadata": {
  "kernelspec": {
   "display_name": "Python 3",
   "language": "python",
   "name": "python3"
  },
  "language_info": {
   "codemirror_mode": {
    "name": "ipython",
    "version": 3
   },
   "file_extension": ".py",
   "mimetype": "text/x-python",
   "name": "python",
   "nbconvert_exporter": "python",
   "pygments_lexer": "ipython3",
   "version": "3.6.9"
  }
 },
 "nbformat": 4,
 "nbformat_minor": 2
}
