{
 "cells": [
  {
   "cell_type": "markdown",
   "metadata": {},
   "source": [
    "Before you turn this problem in, make sure everything runs as expected. First, **restart the kernel** (in the menubar, select Kernel$\\rightarrow$Restart) and then **run all cells** (in the menubar, select Cell$\\rightarrow$Run All).\n",
    "\n",
    "Make sure you fill in any place that says `YOUR CODE HERE` or \"YOUR ANSWER HERE\", as well as your name and collaborators below:"
   ]
  },
  {
   "cell_type": "code",
   "execution_count": null,
   "metadata": {},
   "outputs": [],
   "source": [
    "NAME = \"Haitong Lin\"\n",
    "COLLABORATORS = \"\""
   ]
  },
  {
   "cell_type": "markdown",
   "metadata": {},
   "source": [
    "---"
   ]
  },
  {
   "cell_type": "markdown",
   "metadata": {
    "deletable": false,
    "editable": false,
    "nbgrader": {
     "cell_type": "markdown",
     "checksum": "69a33d6c10d28d217124144657ea46e7",
     "grade": false,
     "grade_id": "jupyter",
     "locked": true,
     "schema_version": 3,
     "solution": false
    }
   },
   "source": [
    "Problem 1 of Assignment 4, STATS102 Fall2019 Session 2, Duke Kunshan University, Due at Nov 5th 12：00pm beijing time\n",
    "![](dku.jpg)\n",
    "For this problem set, we'll be using the Jupyter notebook and nbgrader:\n",
    "\n",
    "![](jupyter.png)"
   ]
  },
  {
   "cell_type": "markdown",
   "metadata": {
    "deletable": false,
    "editable": false,
    "nbgrader": {
     "cell_type": "markdown",
     "checksum": "1d23f166c1bcab6b776901192a38b824",
     "grade": false,
     "grade_id": "cell-542b022beb07b3ef",
     "locked": true,
     "schema_version": 3,
     "solution": false
    }
   },
   "source": [
    "Problem A (1 point)\n",
    "\n",
    "Write a program to calculate the value of the following piecewise function:\n",
    "\n",
    "$$f(x)= \\begin{cases} -9|x|+16 & \\quad x \\le 0 \\\\\n",
    "            x^2+x+2  & \\quad 0 \\lt x \\lt 21 \\\\\n",
    "            x^3-9x & \\quad x\\ge 21\n",
    "      \\end{cases}$$\n",
    "  \n",
    "If the input is not an integer or a float number, then raise ValueError."
   ]
  },
  {
   "cell_type": "code",
   "execution_count": 20,
   "metadata": {
    "deletable": false,
    "nbgrader": {
     "cell_type": "code",
     "checksum": "9bcaf5b597663c91e857f527476a6845",
     "grade": false,
     "grade_id": "111",
     "locked": false,
     "schema_version": 3,
     "solution": true
    }
   },
   "outputs": [],
   "source": [
    "def myPiecewiseFunction(x):\n",
    "    # YOUR CODE HERE\n",
    "    \n",
    "    if type(x)==int or type(x)==float:\n",
    "        if x<=0:\n",
    "            return -9*abs(x)+16\n",
    "        elif x in range(1,21):\n",
    "            return x**2+x+2\n",
    "        else:\n",
    "            return x**3-9*x\n",
    "    else:\n",
    "        raise ValueError\n",
    "    "
   ]
  },
  {
   "cell_type": "code",
   "execution_count": 21,
   "metadata": {
    "deletable": false,
    "editable": false,
    "nbgrader": {
     "cell_type": "code",
     "checksum": "602d3da9c8ea92f034a47263e768bd18",
     "grade": true,
     "grade_id": "112",
     "locked": true,
     "points": 0.5,
     "schema_version": 3,
     "solution": false
    }
   },
   "outputs": [],
   "source": [
    "assert myPiecewiseFunction(0) == 16\n",
    "assert myPiecewiseFunction(10) == 112\n",
    "assert myPiecewiseFunction(21) == 9072\n",
    "assert myPiecewiseFunction(-10) == -74\n",
    "assert myPiecewiseFunction(-5) == -29"
   ]
  },
  {
   "cell_type": "code",
   "execution_count": 22,
   "metadata": {
    "deletable": false,
    "editable": false,
    "nbgrader": {
     "cell_type": "code",
     "checksum": "a424d31abebdf38e67597f6b2bfc720e",
     "grade": true,
     "grade_id": "cell-b4b829a6d56dcc50",
     "locked": true,
     "points": 0.5,
     "schema_version": 3,
     "solution": false,
     "task": false
    }
   },
   "outputs": [],
   "source": [
    "try:\n",
    "    myPiecewiseFunction(\"5\")\n",
    "except ValueError:\n",
    "    pass\n",
    "else:\n",
    "    raise AssertionError(\"Error input\")"
   ]
  },
  {
   "cell_type": "markdown",
   "metadata": {},
   "source": [
    "Problem B (1 point)\n",
    "\n",
    "Given a string containing just the characters `'('`, `')'`, `'{'`, `'}'`, `'['` and `']'`, determine whether the input string is complete parenthesis combination. (Empty string is also valid.)\n",
    "\n",
    "Some correct cases:\n",
    "`{[()]}`, `[]{}()`, `[()]`, `{}` ..."
   ]
  },
  {
   "cell_type": "code",
   "execution_count": 38,
   "metadata": {
    "deletable": false,
    "nbgrader": {
     "cell_type": "code",
     "checksum": "576d832e82168be70ad96a9a99a6d697",
     "grade": false,
     "grade_id": "cell-83d04a5d99c61960",
     "locked": false,
     "schema_version": 3,
     "solution": true,
     "task": false
    }
   },
   "outputs": [],
   "source": [
    "def isValid(s):\n",
    "\n",
    "    # YOUR CODE HERE\n",
    "    dic = {'{': '}',  '[': ']', '(': ')','?':'?'}\n",
    "    stack = [\"?\"]\n",
    "    for i in s:\n",
    "        if i in dic: \n",
    "            stack.append(i)\n",
    "        elif dic[stack.pop()] != i: \n",
    "            return False \n",
    "    return len(stack) == 1\n",
    "        "
   ]
  },
  {
   "cell_type": "code",
   "execution_count": 39,
   "metadata": {
    "deletable": false,
    "editable": false,
    "nbgrader": {
     "cell_type": "code",
     "checksum": "f88669b355bfead7eb0b08fe8c98f97a",
     "grade": true,
     "grade_id": "cell-6947179739c5ffcd",
     "locked": true,
     "points": 1,
     "schema_version": 3,
     "solution": false,
     "task": false
    }
   },
   "outputs": [],
   "source": [
    "\"\"\"Check that isValid function returns the correct output\"\"\"\n",
    "assert (isValid(\"[[[]]{}}\") == False)\n",
    "assert (isValid(\"[](){}{[]}()[[]]\") == True)\n",
    "assert (isValid(\"[{}]\") == True)\n",
    "assert (isValid(\"([)]\") == False)\n",
    "assert (isValid(\"((((())]\") == False)"
   ]
  }
 ],
 "metadata": {
  "kernelspec": {
   "display_name": "Python 3",
   "language": "python",
   "name": "python3"
  },
  "language_info": {
   "codemirror_mode": {
    "name": "ipython",
    "version": 3
   },
   "file_extension": ".py",
   "mimetype": "text/x-python",
   "name": "python",
   "nbconvert_exporter": "python",
   "pygments_lexer": "ipython3",
   "version": "3.6.9"
  }
 },
 "nbformat": 4,
 "nbformat_minor": 1
}
