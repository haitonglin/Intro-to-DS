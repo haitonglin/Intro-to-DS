{
 "cells": [
  {
   "cell_type": "markdown",
   "metadata": {},
   "source": [
    "Before you turn this problem in, make sure everything runs as expected. First, **restart the kernel** (in the menubar, select Kernel$\\rightarrow$Restart) and then **run all cells** (in the menubar, select Cell$\\rightarrow$Run All).\n",
    "\n",
    "Make sure you fill in any place that says `YOUR CODE HERE` or \"YOUR ANSWER HERE\", as well as your name and collaborators below:"
   ]
  },
  {
   "cell_type": "code",
   "execution_count": null,
   "metadata": {},
   "outputs": [],
   "source": [
    "NAME = \"Haitong Lin\"\n",
    "COLLABORATORS = \"\""
   ]
  },
  {
   "cell_type": "markdown",
   "metadata": {},
   "source": [
    "---"
   ]
  },
  {
   "cell_type": "markdown",
   "metadata": {
    "deletable": false,
    "editable": false,
    "nbgrader": {
     "cell_type": "markdown",
     "checksum": "d49483dec0658c838bcbcaf1f681a6dd",
     "grade": false,
     "grade_id": "cell-9f1f9ac6cd7b8166",
     "locked": true,
     "schema_version": 3,
     "solution": false
    }
   },
   "source": [
    "Lab 4, STATS102 Fall2019 Session 2, Duke Kunshan University, Nov 21th\n",
    "![](dku.jpg)\n",
    "For this problem set, we'll be using the Jupyter notebook:\n",
    "![](jupyter.png) "
   ]
  },
  {
   "cell_type": "markdown",
   "metadata": {
    "deletable": false,
    "editable": false,
    "nbgrader": {
     "cell_type": "markdown",
     "checksum": "bec0d6c9331fb0750ffff42ba7ea7515",
     "grade": false,
     "grade_id": "cell-269160bc4fc6e4c3",
     "locked": true,
     "schema_version": 3,
     "solution": false,
     "task": false
    }
   },
   "source": [
    "Data reference: https://www.kaggle.com/ramamet4/app-store-apple-data-set-10k-apps\n",
    "\n",
    "Matplotlib reference: https://matplotlib.org/gallery/index.html"
   ]
  },
  {
   "cell_type": "markdown",
   "metadata": {
    "deletable": false,
    "editable": false,
    "nbgrader": {
     "cell_type": "markdown",
     "checksum": "e74a137bbef057d97c8242865a1ce607",
     "grade": false,
     "grade_id": "cell-5449c5dd23252508",
     "locked": true,
     "schema_version": 3,
     "solution": false
    }
   },
   "source": [
    "# Problem 1\n",
    "\n",
    "How do you visualize price distribution of all apps?\n",
    "\n",
    "![](Fig_1.jpg) "
   ]
  },
  {
   "cell_type": "code",
   "execution_count": 46,
   "metadata": {
    "deletable": false,
    "nbgrader": {
     "cell_type": "code",
     "checksum": "068d2d9877c5165413e441e632252cb5",
     "grade": false,
     "grade_id": "strictly_ascending_list",
     "locked": false,
     "schema_version": 3,
     "solution": true
    }
   },
   "outputs": [],
   "source": [
    "%matplotlib inline\n",
    "import numpy as np\n",
    "import pandas as pd\n",
    "from matplotlib import pyplot as plt\n",
    "import seaborn as sns\n",
    "\n",
    "def myfunction():\n",
    "    # YOUR CODE HERE\n",
    "    df=pd.read_csv('AppleStoreData.csv')\n",
    "    x=df['price'].values\n",
    "    \n",
    "    plt.hist(x,bins=1000,alpha=0.5) #一维的hist只输入一组数据\n",
    "    plt.xlim(0,30)\n",
    "    plt.ylim(0,1500)\n",
    "    \n",
    "    plt.title('Price distribution of apps')\n",
    "    plt.xlabel('Price Distributions in ($)')\n",
    "    plt.show()"
   ]
  },
  {
   "cell_type": "code",
   "execution_count": 47,
   "metadata": {
    "deletable": false,
    "editable": false,
    "nbgrader": {
     "cell_type": "code",
     "checksum": "f0e8f406dd5cc4972119ec9e3b70c003",
     "grade": true,
     "grade_id": "strictly_ascending_list1",
     "locked": true,
     "points": 0,
     "schema_version": 3,
     "solution": false,
     "task": false
    }
   },
   "outputs": [
    {
     "data": {
      "image/png": "[encoded data removed]",
      "text/plain": [
       "<Figure size 432x288 with 1 Axes>"
      ]
     },
     "metadata": {
      "needs_background": "light"
     },
     "output_type": "display_data"
    }
   ],
   "source": [
    "myfunction()"
   ]
  },
  {
   "cell_type": "markdown",
   "metadata": {
    "deletable": false,
    "editable": false,
    "nbgrader": {
     "cell_type": "markdown",
     "checksum": "0d109abee08ebba2f54114d202b45420",
     "grade": false,
     "grade_id": "cell-56fc2811967417ab",
     "locked": true,
     "schema_version": 3,
     "solution": false,
     "task": false
    }
   },
   "source": [
    "# Problem 2\n",
    "\n",
    "What about Paid apps VS Free apps (for Games, Education, Entertainment, Photo & Video, Utilities categories)?\n",
    "\n",
    "![](Fig_2.jpg) "
   ]
  },
  {
   "cell_type": "code",
   "execution_count": 33,
   "metadata": {
    "deletable": false,
    "nbgrader": {
     "cell_type": "code",
     "checksum": "0cf31e4c61cf82b9e0a02071a952f422",
     "grade": false,
     "grade_id": "cell-e0009896e4596007",
     "locked": false,
     "schema_version": 3,
     "solution": true,
     "task": false
    }
   },
   "outputs": [],
   "source": [
    "%matplotlib inline\n",
    "import numpy as np\n",
    "import pandas as pd\n",
    "from matplotlib import pyplot as plt\n",
    "import seaborn as sns\n",
    "\n",
    "def myfunction():\n",
    "    # YOUR CODE HERE\n",
    "    data=pd.read_csv('AppleStoreData.csv')\n",
    "    \n",
    "    free=data[data['price']==0.00].groupby('prime_genre').count()\n",
    "    free_data=(free.loc['Games'][0],free.loc['Education'][0],free.loc['Entertainment'][0],free.loc['Photo & Video'][0],free.loc['Utilities'][0])\n",
    "    \n",
    "    paid=data[data['price']!=0.00].groupby('prime_genre').count()\n",
    "    paid_data=(paid.loc['Games'][0],paid.loc['Education'][0],paid.loc['Entertainment'][0],paid.loc['Photo & Video'][0],paid.loc['Utilities'][0])\n",
    "    \n",
    "    index=['Games','Education','Entertainment','Photo & Video','Utilities']\n",
    "    width=0.55\n",
    "    plt_free=plt.bar(index,free_data,width,color='green',alpha=0.6,label='free')\n",
    "    plt_paid=plt.bar(index,paid_data,width,bottom=free_data,color='orange',alpha=0.6,label='paid')\n",
    "    plt.legend()\n",
    "    plt.title('Paid apps VS Free apps')\n",
    "    plt.xticks(index,rotation=20)\n",
    "    \n",
    "    return plt.show()"
   ]
  },
  {
   "cell_type": "code",
   "execution_count": 34,
   "metadata": {
    "deletable": false,
    "editable": false,
    "nbgrader": {
     "cell_type": "code",
     "checksum": "67675f770e0800014ec5c02ed75d79e3",
     "grade": true,
     "grade_id": "cell-7debb17a223463d1",
     "locked": true,
     "points": 0,
     "schema_version": 3,
     "solution": false,
     "task": false
    }
   },
   "outputs": [
    {
     "data": {
      "image/png": "[encoded data removed]",
      "text/plain": [
       "<Figure size 432x288 with 1 Axes>"
      ]
     },
     "metadata": {
      "needs_background": "light"
     },
     "output_type": "display_data"
    }
   ],
   "source": [
    "myfunction()"
   ]
  },
  {
   "cell_type": "markdown",
   "metadata": {
    "deletable": false,
    "editable": false,
    "nbgrader": {
     "cell_type": "markdown",
     "checksum": "becadec4cb793177ebd805946e22f0fa",
     "grade": false,
     "grade_id": "cell-be58148f417cc60b",
     "locked": true,
     "schema_version": 3,
     "solution": false,
     "task": false
    }
   },
   "source": [
    "# Problem 3.1\n",
    "\n",
    "How are the apps distributed category wise?\n",
    "\n",
    "![](Fig_3.jpg) "
   ]
  },
  {
   "cell_type": "code",
   "execution_count": 11,
   "metadata": {
    "deletable": false,
    "nbgrader": {
     "cell_type": "code",
     "checksum": "0ee859ca82ea38d334b3f34a87ff0f9d",
     "grade": false,
     "grade_id": "cell-be2566487c305f77",
     "locked": false,
     "schema_version": 3,
     "solution": true,
     "task": false
    }
   },
   "outputs": [],
   "source": [
    "%matplotlib inline\n",
    "import numpy as np\n",
    "import pandas as pd\n",
    "from matplotlib import pyplot as plt\n",
    "import seaborn as sns\n",
    "\n",
    "def myfunction():\n",
    "    # YOUR CODE HERE\n",
    "    app=pd.read_csv('AppleStoreData.csv')\n",
    "    app=app[(app['prime_genre']=='Games')^(app['prime_genre']=='Education')^(app['prime_genre']=='Entertainment')^(app['prime_genre']=='Photo & Video')^(app['prime_genre']=='Utilities')]\n",
    "    app=app.groupby('prime_genre').count().sort_values(by='id',ascending=False)\n",
    "    x=list(app['id'])\n",
    "    label=['Games','Education','Entertainment','Photo & Video', 'Utilities']\n",
    "    plt.pie(x,labels=label)\n",
    "    plt.title('App category distribution')\n",
    "    return plt.show()"
   ]
  },
  {
   "cell_type": "code",
   "execution_count": 12,
   "metadata": {
    "deletable": false,
    "editable": false,
    "nbgrader": {
     "cell_type": "code",
     "checksum": "0b8db8349437921f942ddbce32dd9422",
     "grade": true,
     "grade_id": "cell-f8b6f3af9b05ae45",
     "locked": true,
     "points": 0,
     "schema_version": 3,
     "solution": false,
     "task": false
    }
   },
   "outputs": [
    {
     "data": {
      "image/png": "[encoded data removed]",
      "text/plain": [
       "<Figure size 432x288 with 1 Axes>"
      ]
     },
     "metadata": {},
     "output_type": "display_data"
    }
   ],
   "source": [
    "myfunction()"
   ]
  },
  {
   "cell_type": "markdown",
   "metadata": {
    "deletable": false,
    "editable": false,
    "nbgrader": {
     "cell_type": "markdown",
     "checksum": "59c0fed496c510534235cd1ec00ceddc",
     "grade": false,
     "grade_id": "cell-66bb9183e069f9e0",
     "locked": true,
     "schema_version": 3,
     "solution": false,
     "task": false
    }
   },
   "source": [
    "# Problem 3.2\n",
    "\n",
    "![](Fig_4.jpg) "
   ]
  },
  {
   "cell_type": "code",
   "execution_count": 17,
   "metadata": {
    "deletable": false,
    "nbgrader": {
     "cell_type": "code",
     "checksum": "bbb46a9d90ed540f49dee7562ac87662",
     "grade": false,
     "grade_id": "cell-2dd857483e104c7d",
     "locked": false,
     "schema_version": 3,
     "solution": true,
     "task": false
    }
   },
   "outputs": [],
   "source": [
    "%matplotlib inline\n",
    "import numpy as np\n",
    "import pandas as pd\n",
    "from matplotlib import pyplot as plt\n",
    "import seaborn as sns\n",
    "\n",
    "def myfunction():\n",
    "    # YOUR CODE HERE\n",
    "    app=pd.read_csv('AppleStoreData.csv')\n",
    "    app=app[(app['prime_genre']=='Games')^(app['prime_genre']=='Education')^(app['prime_genre']=='Entertainment')^(app['prime_genre']=='Photo & Video')^(app['prime_genre']=='Utilities')]\n",
    "    app=app.groupby('prime_genre').count().sort_values(by='id',ascending=False)\n",
    "    x=list(app['id'])\n",
    "    y=[1,0,0,0,0] #❓这一行是什么意思？\n",
    "    label=['Games','Education','Entertainment','Photo & Video', 'Utilities']\n",
    "    plt.pie(x,labels=label)\n",
    "    plt.pie(y,radius=0.5,colors='w')\n",
    "    plt.title('App category distribution')\n",
    "    return plt.show()"
   ]
  },
  {
   "cell_type": "code",
   "execution_count": 16,
   "metadata": {
    "deletable": false,
    "editable": false,
    "nbgrader": {
     "cell_type": "code",
     "checksum": "333bc75b12fdd37148903144899fc156",
     "grade": true,
     "grade_id": "cell-751309db16b03a89",
     "locked": true,
     "points": 0,
     "schema_version": 3,
     "solution": false,
     "task": false
    }
   },
   "outputs": [
    {
     "data": {
      "image/png": "[encoded data removed]",
      "text/plain": [
       "<Figure size 432x288 with 1 Axes>"
      ]
     },
     "metadata": {},
     "output_type": "display_data"
    }
   ],
   "source": [
    "myfunction()"
   ]
  }
 ],
 "metadata": {
  "kernelspec": {
   "display_name": "Python 3",
   "language": "python",
   "name": "python3"
  },
  "language_info": {
   "codemirror_mode": {
    "name": "ipython",
    "version": 3
   },
   "file_extension": ".py",
   "mimetype": "text/x-python",
   "name": "python",
   "nbconvert_exporter": "python",
   "pygments_lexer": "ipython3",
   "version": "3.6.9"
  }
 },
 "nbformat": 4,
 "nbformat_minor": 2
}
