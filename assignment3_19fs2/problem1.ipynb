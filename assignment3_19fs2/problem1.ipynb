{
 "cells": [
  {
   "cell_type": "markdown",
   "metadata": {},
   "source": [
    "Before you turn this problem in, make sure everything runs as expected. First, **restart the kernel** (in the menubar, select Kernel$\\rightarrow$Restart) and then **run all cells** (in the menubar, select Cell$\\rightarrow$Run All).\n",
    "\n",
    "Make sure you fill in any place that says `YOUR CODE HERE` or \"YOUR ANSWER HERE\", as well as your name and collaborators below:"
   ]
  },
  {
   "cell_type": "code",
   "execution_count": null,
   "metadata": {},
   "outputs": [],
   "source": [
    "NAME = \"Haitong Lin\"\n",
    "COLLABORATORS = \"\""
   ]
  },
  {
   "cell_type": "markdown",
   "metadata": {},
   "source": [
    "---"
   ]
  },
  {
   "cell_type": "markdown",
   "metadata": {
    "deletable": false,
    "editable": false,
    "nbgrader": {
     "cell_type": "markdown",
     "checksum": "13277067eb69f47c32cc4c8b5f0c662b",
     "grade": false,
     "grade_id": "jupyter",
     "locked": true,
     "schema_version": 3,
     "solution": false
    }
   },
   "source": [
    "Problem 1 of Assignment 3, STATS102 Fall2019 Session 2, Duke Kunshan University, Due at Nov 1st 12：00pm beijing time\n",
    "![](dku.jpg)\n",
    "For this problem set, we'll be using the Jupyter notebook and nbgrader:\n",
    "\n",
    "![](jupyter.png)"
   ]
  },
  {
   "cell_type": "markdown",
   "metadata": {
    "deletable": false,
    "editable": false,
    "nbgrader": {
     "cell_type": "markdown",
     "checksum": "dc78ab7776cf117dc9103bf4be1f3dbd",
     "grade": false,
     "grade_id": "cell-542b022beb07b3ef",
     "locked": true,
     "schema_version": 3,
     "solution": false
    }
   },
   "source": [
    "## Part A (1.5 points)\n",
    "\n",
    "The criminal investigation brigade are now finding criminal for a criminal case. There are 8 suspects and here are the preliminary conclusions:\n",
    "1. There is at least one criminal in A and B;\n",
    "2. There are at least two criminals among A, C, D and E;\n",
    "3. B and E may be both criminals or they are both innocent;\n",
    "4. There are at least three criminals among C, D, F and G;\n",
    "5. There is only one criminals in G and H;\n",
    "6. If E is innocent, H is also innocent.\n",
    "\n",
    "Write a program to find out there are how many possible combinations of eight suspects' positions.\n",
    "\n",
    "Hint: each combination can be expressed by a list like `[1,0,0,0,1,1,1,0]`, where the \\\\(i^{th}\\\\) element of the list is 0 if the \\\\(i^{th}\\\\) suspect is not a criminal, and the \\\\(i^{th}\\\\) element of this list is 1 if the \\\\(i^{th}\\\\) suspect is a criminal."
   ]
  },
  {
   "cell_type": "code",
   "execution_count": 3,
   "metadata": {
    "deletable": false,
    "nbgrader": {
     "cell_type": "code",
     "checksum": "c2ac4a14879818e053307268df2c06e5",
     "grade": false,
     "grade_id": "sort_dict",
     "locked": false,
     "schema_version": 3,
     "solution": true
    }
   },
   "outputs": [],
   "source": [
    "def whoIsCriminals():\n",
    "    # YOUR CODE HERE\n",
    "    n=0\n",
    "    for a in range(2):\n",
    "        for b in range(2):\n",
    "            for c in range(2):\n",
    "                for d in range(2):\n",
    "                    for e in range(2):\n",
    "                        for f in range(2):\n",
    "                            for g in range(2):\n",
    "                                for h in range(2):\n",
    "                                    if a+b>=1 and a+c+d+e>=2 and c+d+f+g>=3 and g+h==1 and b==e and (not(e==0 and h==1)):\n",
    "                                        n=n+1\n",
    "    return n\n",
    "    "
   ]
  },
  {
   "cell_type": "code",
   "execution_count": null,
   "metadata": {
    "deletable": false,
    "editable": false,
    "nbgrader": {
     "cell_type": "code",
     "checksum": "05d47a7d7cd2ef9878876a2a18cb0dd8",
     "grade": true,
     "grade_id": "sort_dict_test",
     "locked": true,
     "points": 1.5,
     "schema_version": 3,
     "solution": false
    }
   },
   "outputs": [],
   "source": [
    "assert whoIsCriminals() == 14"
   ]
  },
  {
   "cell_type": "markdown",
   "metadata": {},
   "source": [
    "## Part B (0.5 points)\n",
    "\n",
    "Given a string `s` consists of alphabets and empty space characters `' '`, return the length of the penultimate word in the string.\n",
    "\n",
    "If the penultimate word does not exist, return `-1`."
   ]
  },
  {
   "cell_type": "code",
   "execution_count": 2,
   "metadata": {
    "deletable": false,
    "nbgrader": {
     "cell_type": "code",
     "checksum": "c2fefe4f446d7728c708ed729f2ab85f",
     "grade": false,
     "grade_id": "cell-9fc0fc8ab751a5c6",
     "locked": false,
     "schema_version": 3,
     "solution": true,
     "task": false
    }
   },
   "outputs": [],
   "source": [
    "def myString(s):\n",
    "    # YOUR CODE HERE\n",
    "    list=s.split()\n",
    "    if len(list)<2:\n",
    "        x=-1\n",
    "    else:\n",
    "        penu=list[-2]\n",
    "        x=len(penu)\n",
    "    return x"
   ]
  },
  {
   "cell_type": "code",
   "execution_count": null,
   "metadata": {
    "deletable": false,
    "editable": false,
    "nbgrader": {
     "cell_type": "code",
     "checksum": "a88f2f333e833aabb56fb0477706de34",
     "grade": true,
     "grade_id": "cell-afe83db1fdefe84b",
     "locked": true,
     "points": 0.5,
     "schema_version": 3,
     "solution": false,
     "task": false
    }
   },
   "outputs": [],
   "source": [
    "assert myString('Hi everyone') == 2\n",
    "assert myString('I love Python') == 4\n",
    "assert myString('Oops!') == -1"
   ]
  }
 ],
 "metadata": {
  "kernelspec": {
   "display_name": "Python 3",
   "language": "python",
   "name": "python3"
  },
  "language_info": {
   "codemirror_mode": {
    "name": "ipython",
    "version": 3
   },
   "file_extension": ".py",
   "mimetype": "text/x-python",
   "name": "python",
   "nbconvert_exporter": "python",
   "pygments_lexer": "ipython3",
   "version": "3.6.9"
  }
 },
 "nbformat": 4,
 "nbformat_minor": 1
}
