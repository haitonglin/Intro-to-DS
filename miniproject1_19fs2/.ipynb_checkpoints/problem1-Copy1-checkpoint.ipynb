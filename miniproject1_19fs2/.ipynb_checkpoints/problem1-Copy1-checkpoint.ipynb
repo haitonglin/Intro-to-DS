{
 "cells": [
  {
   "cell_type": "markdown",
   "metadata": {},
   "source": [
    "Before you turn this problem in, make sure everything runs as expected. First, **restart the kernel** (in the menubar, select Kernel$\\rightarrow$Restart) and then **run all cells** (in the menubar, select Cell$\\rightarrow$Run All).\n",
    "\n",
    "Make sure you fill in any place that says `YOUR CODE HERE` or \"YOUR ANSWER HERE\", as well as your name and collaborators below:"
   ]
  },
  {
   "cell_type": "code",
   "execution_count": null,
   "metadata": {},
   "outputs": [],
   "source": [
    "NAME = \"Haitong Lin\"\n",
    "COLLABORATORS = \"\""
   ]
  },
  {
   "cell_type": "markdown",
   "metadata": {},
   "source": [
    "---"
   ]
  },
  {
   "cell_type": "markdown",
   "metadata": {
    "deletable": false,
    "editable": false,
    "nbgrader": {
     "cell_type": "markdown",
     "checksum": "0b934f429621096ee9988403efe9999d",
     "grade": false,
     "grade_id": "cell-9f1f9ac6cd7b8166",
     "locked": true,
     "schema_version": 3,
     "solution": false
    }
   },
   "source": [
    "Weekly mini-project 1, STATS102 Fall2019 Session 2, Duke Kunshan University, Due at Nov 4th 12:pm Shanghai time\n",
    "![](dku.jpg)\n",
    "For this problem set, we'll be using the Jupyter notebook:\n",
    "![](jupyter.png) "
   ]
  },
  {
   "cell_type": "markdown",
   "metadata": {
    "deletable": false,
    "editable": false,
    "nbgrader": {
     "cell_type": "markdown",
     "checksum": "2103b4d16c679be99307883c63244cee",
     "grade": false,
     "grade_id": "cell-38c46d1897f33426",
     "locked": true,
     "schema_version": 3,
     "solution": false
    }
   },
   "source": [
    "# problem 1 (0.5 point) \n",
    "Given a list of integers, return indices of the two numbers such that they add up to a specific target.\n",
    "\n",
    "Indices should be in an increasing order\n",
    "\n",
    "You may assume that each input would have exactly one solution, and you may not use the same element twice."
   ]
  },
  {
   "cell_type": "code",
   "execution_count": 26,
   "metadata": {
    "deletable": false,
    "nbgrader": {
     "cell_type": "code",
     "checksum": "e39182ec00ea9af12aa66081a4aa1672",
     "grade": false,
     "grade_id": "TwoSum",
     "locked": false,
     "schema_version": 3,
     "solution": true
    }
   },
   "outputs": [],
   "source": [
    "def TwoSum(nums, target):\n",
    "    \"\"\"\n",
    "    :type nums: List[int]\n",
    "    :type target: int\n",
    "    :rtype: List[int]\n",
    "    \"\"\"\n",
    "    # YOUR CODE HERE \n",
    "    \n",
    "    for a in range(0,len(nums)): \n",
    "        for b in range(a+1,len(nums)):\n",
    "         \n",
    "            if nums[a]+nums[b]==target:\n",
    "                return [a,b]"
   ]
  },
  {
   "cell_type": "code",
   "execution_count": 27,
   "metadata": {
    "deletable": false,
    "editable": false,
    "nbgrader": {
     "cell_type": "code",
     "checksum": "79d946f63938e149f163eac0025372f0",
     "grade": true,
     "grade_id": "TwoSum_test",
     "locked": true,
     "points": 0.5,
     "schema_version": 3,
     "solution": false
    }
   },
   "outputs": [],
   "source": [
    "'''this TwoSum function should pass the following tests'''\n",
    "assert (TwoSum([2, 7, 11, 15],9)==[0,1])\n",
    "assert (TwoSum([3,2,4],6)==[1,2])\n",
    "assert (TwoSum([0,4,3,0],0)==[0,3])\n",
    "assert (TwoSum([-1,-2,-3,-4,-5],-8)==[2,4])\n",
    "\n"
   ]
  },
  {
   "cell_type": "markdown",
   "metadata": {
    "deletable": false,
    "editable": false,
    "nbgrader": {
     "cell_type": "markdown",
     "checksum": "a77d741a9f95640e5957762f8d937d10",
     "grade": false,
     "grade_id": "cell-b9ded7066fd543aa",
     "locked": true,
     "schema_version": 3,
     "solution": false,
     "task": false
    }
   },
   "source": [
    "# problem 2 (0.5 point) \n",
    "Given a 32-bit signed integer, reverse digits of an integer.\n",
    "If the return number is outside this range \\\\( [-2^{31},2^{31}-1] \\\\), then return 0\n",
    "\n",
    "example:  input 12345  output 54321"
   ]
  },
  {
   "cell_type": "code",
   "execution_count": 11,
   "metadata": {},
   "outputs": [
    {
     "name": "stdout",
     "output_type": "stream",
     "text": [
      "402r82938r5y1724\n"
     ]
    }
   ],
   "source": [
    "a='4271y5r83928r204'\n",
    "print(a[::-1])"
   ]
  },
  {
   "cell_type": "code",
   "execution_count": 83,
   "metadata": {
    "deletable": false,
    "nbgrader": {
     "cell_type": "code",
     "checksum": "de605ded0820dcb35fe18c2d981184d5",
     "grade": false,
     "grade_id": "myreverse",
     "locked": false,
     "schema_version": 3,
     "solution": true
    }
   },
   "outputs": [],
   "source": [
    "def myreverse(x):\n",
    "    ''':type x: int\n",
    "       :rtype: int\n",
    "    '''\n",
    "    # YOUR CODE HERE\n",
    "    \n",
    "    if x<0:\n",
    "        x=-x\n",
    "        string=str(x)\n",
    "        string=string[::-1]\n",
    "        if int(string) in range(0,2**31):\n",
    "            return int(\"-\"+string) \n",
    "        else:\n",
    "            return(0)\n",
    "            \n",
    "    if x>=0:\n",
    "        string=str(x)\n",
    "        string=string[::-1]\n",
    "        if int(string) in range(0,2**31):\n",
    "            return int(string)\n",
    "        else:\n",
    "            return(0)\n",
    "     "
   ]
  },
  {
   "cell_type": "code",
   "execution_count": 85,
   "metadata": {
    "deletable": false,
    "editable": false,
    "nbgrader": {
     "cell_type": "code",
     "checksum": "120cc1108fb50611818e6325b89d4054",
     "grade": true,
     "grade_id": "myreverse_test",
     "locked": true,
     "points": 0.5,
     "schema_version": 3,
     "solution": false
    }
   },
   "outputs": [],
   "source": [
    "assert(myreverse(120)==21)\n",
    "assert(myreverse(123)==321)\n",
    "assert(myreverse(-123)==-321)\n",
    "assert(myreverse(1534236469)==0)"
   ]
  },
  {
   "cell_type": "markdown",
   "metadata": {
    "deletable": false,
    "editable": false,
    "nbgrader": {
     "cell_type": "markdown",
     "checksum": "4663542086929a492c793f3b41ddf794",
     "grade": false,
     "grade_id": "cell-673cd33fbd2d88fd",
     "locked": true,
     "schema_version": 3,
     "solution": false,
     "task": false
    }
   },
   "source": [
    "# Problem 3 (0.5 point) \n",
    "Write a function to find the longest common prefix string amongst a list of strings.\n",
    "\n",
    "If there is no common prefix, return an empty string ''.\n",
    "\n",
    "example: input ['what','where','who']     output 'wh'"
   ]
  },
  {
   "cell_type": "code",
   "execution_count": 108,
   "metadata": {
    "deletable": false,
    "nbgrader": {
     "cell_type": "code",
     "checksum": "b20c14deba6d1cbd413e5f07b0540a62",
     "grade": false,
     "grade_id": "longestCommonPrefix",
     "locked": false,
     "schema_version": 3,
     "solution": true
    }
   },
   "outputs": [],
   "source": [
    "def longestCommonPrefix(strs):\n",
    "    \"\"\"\n",
    "    :type strs: List[str]\n",
    "    :rtype: str\n",
    "    \"\"\"\n",
    "    # YOUR CODE HERE\n",
    "    s=''\n",
    "    for i in range(len(strs[0])):\n",
    "        for word in strs[1:]:\n",
    "            try:\n",
    "                if strs[0][i]!=word[i]:\n",
    "                    return s\n",
    "            except:\n",
    "                return s\n",
    "        s=s+strs[0][i]\n",
    "                "
   ]
  },
  {
   "cell_type": "code",
   "execution_count": 111,
   "metadata": {
    "deletable": false,
    "editable": false,
    "nbgrader": {
     "cell_type": "code",
     "checksum": "d092cc3eb295b4c83cfa086a6c77989c",
     "grade": true,
     "grade_id": "longestCommonPrefix_test",
     "locked": true,
     "points": 0.5,
     "schema_version": 3,
     "solution": false
    }
   },
   "outputs": [],
   "source": [
    "assert longestCommonPrefix([\"flower\",\"flow\",\"flight\"])=='fl'\n",
    "assert longestCommonPrefix(['what','where','who'] )=='wh'"
   ]
  },
  {
   "cell_type": "markdown",
   "metadata": {
    "deletable": false,
    "editable": false,
    "nbgrader": {
     "cell_type": "markdown",
     "checksum": "3215772e41c6b25164adef90295d8550",
     "grade": false,
     "grade_id": "cell-02e4ce6d6f44a65e",
     "locked": true,
     "schema_version": 3,
     "solution": false,
     "task": false
    }
   },
   "source": [
    "# Problem 4 (0.5 point) \n",
    "Find the median of an integer list."
   ]
  },
  {
   "cell_type": "code",
   "execution_count": 133,
   "metadata": {
    "deletable": false,
    "nbgrader": {
     "cell_type": "code",
     "checksum": "f038c082e99469273e2c93fa3782e827",
     "grade": false,
     "grade_id": "cell-87d12d67d86866ab",
     "locked": false,
     "schema_version": 3,
     "solution": true,
     "task": false
    }
   },
   "outputs": [],
   "source": [
    "def myMedian(int_list):\n",
    "    \"\"\"\n",
    "    :type int_list: List[int]\n",
    "    :rtype: float\n",
    "    \"\"\"\n",
    "    # YOUR CODE HERE\n",
    "    int_list.sort()\n",
    "    \n",
    "    if len(int_list)%2==0:\n",
    "        n=(len(int_list))//2\n",
    "        output=(int_list[n]+int_list[n-1])/2\n",
    "        return output\n",
    "    \n",
    "    if len(int_list)%2!=0:\n",
    "        n=(len(int_list)+1)//2\n",
    "        output=int_list[n-1]\n",
    "        return output"
   ]
  },
  {
   "cell_type": "code",
   "execution_count": 134,
   "metadata": {
    "deletable": false,
    "editable": false,
    "nbgrader": {
     "cell_type": "code",
     "checksum": "a59a1777e17785c4cdbfbd05bd168894",
     "grade": true,
     "grade_id": "cell-54d5a6421110bfda",
     "locked": true,
     "points": 0.5,
     "schema_version": 3,
     "solution": false,
     "task": false
    }
   },
   "outputs": [],
   "source": [
    "assert myMedian([1,2,3,4]) == 2.5\n",
    "assert myMedian([9,7,8]) == 8\n",
    "assert myMedian([10]) == 10\n",
    "assert myMedian([-1,2,-3,4]) == 0.5"
   ]
  },
  {
   "cell_type": "markdown",
   "metadata": {
    "deletable": false,
    "editable": false,
    "nbgrader": {
     "cell_type": "markdown",
     "checksum": "46e2ae8cb00470b4b56b6a06aee700b3",
     "grade": false,
     "grade_id": "cell-627d44d37a74388a",
     "locked": true,
     "schema_version": 3,
     "solution": false,
     "task": false
    }
   },
   "source": [
    "# Problem 5 (0.5 point) \n",
    "\n",
    "Given a list of characters letters containing only lowercase letters and a target letter, write a function to find the smallest element in the list that is larger than the given target."
   ]
  },
  {
   "cell_type": "code",
   "execution_count": 142,
   "metadata": {
    "deletable": false,
    "nbgrader": {
     "cell_type": "code",
     "checksum": "380da1fa16838afd2290fcd3b8f9a604",
     "grade": false,
     "grade_id": "cell-2bc93ebbf1d591fe",
     "locked": false,
     "schema_version": 3,
     "solution": true,
     "task": false
    }
   },
   "outputs": [],
   "source": [
    "def findLetter(letters, target):\n",
    "    \"\"\"\n",
    "    :type letters: List[str]\n",
    "    :type target: str\n",
    "    :rtype: str\n",
    "    \"\"\"\n",
    "    # YOUR CODE HERE\n",
    "    if target not in letters:\n",
    "        letters.append(target)\n",
    "    letters.sort()\n",
    "    i=letters.index(target)\n",
    "    while letters[i]==letters[i+1]:\n",
    "        i=i+1\n",
    "    output=letters[i+1]\n",
    "    return output"
   ]
  },
  {
   "cell_type": "code",
   "execution_count": 145,
   "metadata": {
    "deletable": false,
    "editable": false,
    "nbgrader": {
     "cell_type": "code",
     "checksum": "ba57b3ade3eac5a6ef31b0ad12b7e425",
     "grade": true,
     "grade_id": "cell-e00f009e6ec3b5c1",
     "locked": true,
     "points": 0.5,
     "schema_version": 3,
     "solution": false,
     "task": false
    }
   },
   "outputs": [],
   "source": [
    "'''this findLetter function should pass the following tests'''\n",
    "assert (findLetter(['a', 'b', 'c', 'd'],'a')=='b')\n",
    "assert (findLetter(['g','i','j'],'h')=='i')\n",
    "assert (findLetter(['c','c','p','o'],'c')=='o')\n",
    "assert (findLetter(['d','c','f','k','g'],'a')=='c')"
   ]
  },
  {
   "cell_type": "markdown",
   "metadata": {
    "deletable": false,
    "editable": false,
    "nbgrader": {
     "cell_type": "markdown",
     "checksum": "ed485d16f673970068f456be7c8c7407",
     "grade": false,
     "grade_id": "cell-dc88373269ef885c",
     "locked": true,
     "schema_version": 3,
     "solution": false,
     "task": false
    }
   },
   "source": [
    "# Problem 6 (0.5 point) \n",
    "\n",
    "In the file `questions.txt`, there are 9095 questions from the Stanford Question Answering Dataset, whose question words are in the list `['what', 'who', 'when', 'where', 'how', 'how_many', 'how_much', 'how_old']`. \n",
    "\n",
    "Now, please write a program to calculate the frequency of each question word and output a list containing the top 3 question words with high frequency in the occurance decending order.\n",
    "\n",
    "Notice: For question like \"How old are you?\", we consider its question word is \"how_old\" rather than \"how\"."
   ]
  },
  {
   "cell_type": "code",
   "execution_count": 168,
   "metadata": {
    "deletable": false,
    "nbgrader": {
     "cell_type": "code",
     "checksum": "d6d536f1ba4c9eb9b0bd0077af306454",
     "grade": false,
     "grade_id": "cell-0e66dd4b0399b72a",
     "locked": false,
     "schema_version": 3,
     "solution": true,
     "task": false
    }
   },
   "outputs": [],
   "source": [
    "def sort_list_question_words():\n",
    "    '''return a list of strs'''\n",
    "    question_words = ['what', 'who', 'when', 'where', 'how', 'how_many', 'how_much', 'how_old']\n",
    "    handle = open('questions.txt')\n",
    "    \n",
    "    # YOUR CODE HERE\n",
    "    \n",
    "    counts={}\n",
    "    words=[]\n",
    "    qword=[]\n",
    "    \n",
    "    for lines in handle:\n",
    "        lines=lines.lower()\n",
    "        lines=lines.replace('how many','how_many')\n",
    "        lines=lines.replace('how much','how_much')\n",
    "        lines=lines.replace('how old','how_old')\n",
    "        \n",
    "        words=lines.split()\n",
    "        qword=words[0]\n",
    "        \n",
    "        counts[qword]=counts.get(qword,0)+1\n",
    "    \n",
    "    list=[]\n",
    "    for k,v in counts.items():\n",
    "        list.append([v,k])\n",
    "    list=sorted(list,reverse=True)\n",
    "    return [list[0][1],list[1][1],list[2][1]]\n",
    "        "
   ]
  },
  {
   "cell_type": "code",
   "execution_count": 169,
   "metadata": {},
   "outputs": [
    {
     "data": {
      "text/plain": [
       "['what', 'who', 'when']"
      ]
     },
     "execution_count": 169,
     "metadata": {},
     "output_type": "execute_result"
    }
   ],
   "source": [
    "sort_list_question_words()"
   ]
  },
  {
   "cell_type": "code",
   "execution_count": 170,
   "metadata": {
    "deletable": false,
    "editable": false,
    "nbgrader": {
     "cell_type": "code",
     "checksum": "cf4ade78c4252962d65c9f070cf57892",
     "grade": true,
     "grade_id": "cell-85b522502604976a",
     "locked": true,
     "points": 0.5,
     "schema_version": 3,
     "solution": false,
     "task": false
    }
   },
   "outputs": [],
   "source": [
    "assert sort_list_question_words()==['what', 'who', 'when']"
   ]
  },
  {
   "cell_type": "markdown",
   "metadata": {
    "deletable": false,
    "editable": false,
    "nbgrader": {
     "cell_type": "markdown",
     "checksum": "300d58b8311120160594f90badcced0a",
     "grade": false,
     "grade_id": "cell-4573b7b356befc93",
     "locked": true,
     "schema_version": 3,
     "solution": false
    }
   },
   "source": [
    "congratulations! Have a nice weekend!"
   ]
  }
 ],
 "metadata": {
  "kernelspec": {
   "display_name": "Python 3",
   "language": "python",
   "name": "python3"
  },
  "language_info": {
   "codemirror_mode": {
    "name": "ipython",
    "version": 3
   },
   "file_extension": ".py",
   "mimetype": "text/x-python",
   "name": "python",
   "nbconvert_exporter": "python",
   "pygments_lexer": "ipython3",
   "version": "3.6.9"
  }
 },
 "nbformat": 4,
 "nbformat_minor": 2
}
