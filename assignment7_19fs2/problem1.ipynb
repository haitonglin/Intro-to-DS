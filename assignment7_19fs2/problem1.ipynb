{
 "cells": [
  {
   "cell_type": "markdown",
   "metadata": {},
   "source": [
    "Before you turn this problem in, make sure everything runs as expected. First, **restart the kernel** (in the menubar, select Kernel$\\rightarrow$Restart) and then **run all cells** (in the menubar, select Cell$\\rightarrow$Run All).\n",
    "\n",
    "Make sure you fill in any place that says `YOUR CODE HERE` or \"YOUR ANSWER HERE\", as well as your name and collaborators below:"
   ]
  },
  {
   "cell_type": "code",
   "execution_count": null,
   "metadata": {},
   "outputs": [],
   "source": [
    "NAME = \"Haitong Lin\"\n",
    "COLLABORATORS = \"\""
   ]
  },
  {
   "cell_type": "markdown",
   "metadata": {},
   "source": [
    "---"
   ]
  },
  {
   "cell_type": "markdown",
   "metadata": {
    "deletable": false,
    "editable": false,
    "nbgrader": {
     "cell_type": "markdown",
     "checksum": "86de0eb893c0c853f1762475c10040b1",
     "grade": false,
     "grade_id": "jupyter",
     "locked": true,
     "schema_version": 3,
     "solution": false
    }
   },
   "source": [
    "Problem 1 of Assignment 7, STATS102 Fall2019 Session 2, Duke Kunshan University, Due at Nov 8th 12：00pm beijing time\n",
    "![](dku.jpg)\n",
    "For this problem set, we'll be using the Jupyter notebook and nbgrader:\n",
    "\n",
    "![](jupyter.png)"
   ]
  },
  {
   "cell_type": "markdown",
   "metadata": {
    "deletable": false,
    "editable": false,
    "nbgrader": {
     "cell_type": "markdown",
     "checksum": "6c16f9044b496d94992a77a732d64e1c",
     "grade": false,
     "grade_id": "cell-542b022beb07b3ef",
     "locked": true,
     "schema_version": 3,
     "solution": false
    }
   },
   "source": [
    "## Problem1\n",
    "\n",
    "swap the first two rows of the input matrix and return the resulted matrix"
   ]
  },
  {
   "cell_type": "code",
   "execution_count": 20,
   "metadata": {
    "deletable": false,
    "nbgrader": {
     "cell_type": "code",
     "checksum": "42804e78c8ff719508c40021d0ad394c",
     "grade": false,
     "grade_id": "111",
     "locked": false,
     "schema_version": 3,
     "solution": true
    }
   },
   "outputs": [],
   "source": [
    "import numpy as np\n",
    "def swap_row12(A):\n",
    "    # YOUR CODE HERE\n",
    "    B=np.insert(A,2,A[0],axis=0)\n",
    "    B=np.delete(B,0,axis=0)\n",
    "    return B   "
   ]
  },
  {
   "cell_type": "code",
   "execution_count": 22,
   "metadata": {
    "deletable": false,
    "editable": false,
    "nbgrader": {
     "cell_type": "code",
     "checksum": "1b40c803f6d636c00b94bca2084635fd",
     "grade": true,
     "grade_id": "112",
     "locked": true,
     "points": 1,
     "schema_version": 3,
     "solution": false
    }
   },
   "outputs": [],
   "source": [
    "import numpy as np\n",
    "A = np.arange(25).reshape(5,5)\n",
    "B=swap_row12(A)\n",
    "#assert(sum(sum(abs(np.array([[ 5,  6,  7,  8,  9],[ 0,  1,  2,  3,  4],[10, 11, 12, 13, 14],[15, 16, 17, 18, 19],[20, 21, 22, 23, 24]])-B)))==0)\n",
    "assert((np.array([[ 5,  6,  7,  8,  9],[ 0,  1,  2,  3,  4],[10, 11, 12, 13, 14],[15, 16, 17, 18, 19],[20, 21, 22, 23, 24]])==B).all())"
   ]
  },
  {
   "cell_type": "markdown",
   "metadata": {},
   "source": [
    "# Problem 2\n",
    "\n",
    "Create a $9*9$ matrix:\n",
    "$$\n",
    " \\begin{bmatrix}\n",
    "   1 & 0 & 3 & 0 & 5 & 0 & 7 & 0 & 9\\\\\n",
    "   0 & 2 & 0 & 4 & 0 & 6 & 0 & 8 & 0\\\\\n",
    "   11 & 0 & 13 & 0 & 15 & 0 & 17 & 0 & 19\\\\\n",
    "   0 & 10 & 0 & 12 & 0 & 14 & 0 & 16 & 0\\\\\n",
    "   21 & 0 & 23 & 0 & 25 & 0 & 27 & 0 & 29\\\\\n",
    "   0 & 18 & 0 & 20 & 0 & 22 & 0 & 24 & 0\\\\\n",
    "   31 & 0 & 33 & 0 & 35 & 0 & 37 & 0 & 39\\\\\n",
    "   0 & 26 & 0 & 28 & 0 & 30 & 0 & 32 & 0\\\\\n",
    "   41 & 0 & 43 & 0 & 45 & 0 & 47 & 0 & 49\\\n",
    "  \\end{bmatrix}\n",
    "$$\n",
    "\n",
    "write a function to output this matrix"
   ]
  },
  {
   "cell_type": "code",
   "execution_count": 93,
   "metadata": {
    "deletable": false,
    "nbgrader": {
     "cell_type": "code",
     "checksum": "3a46b55932c765a6eb5b6d2122cd1940",
     "grade": false,
     "grade_id": "cell-41d7c4010d18b8dd",
     "locked": false,
     "schema_version": 3,
     "solution": true,
     "task": false
    }
   },
   "outputs": [],
   "source": [
    "import numpy as np\n",
    "\n",
    "def createMatrix():\n",
    "    # YOUR CODE HERE\n",
    "    A1=np.arange(1,50,2).reshape(-1,1)\n",
    "    A1=np.insert(A1,1,0,axis=1).reshape(5,10)\n",
    "    A1=np.delete(A1,9,axis=1)\n",
    "    \n",
    "    A2=np.arange(2,33,2).reshape(-1,1)\n",
    "    A2=np.insert(A2,0,0,axis=1).reshape(4,8)\n",
    "    A2=np.insert(A2,8,0,axis=1)\n",
    "    \n",
    "    A=np.insert(A1,1,A2[0],axis=0)\n",
    "    A=np.insert(A,3,A2[1],axis=0)\n",
    "    A=np.insert(A,5,A2[2],axis=0)\n",
    "    A=np.insert(A,7,A2[3],axis=0)\n",
    "    \n",
    "    return A\n",
    "    "
   ]
  },
  {
   "cell_type": "code",
   "execution_count": 95,
   "metadata": {
    "deletable": false,
    "editable": false,
    "nbgrader": {
     "cell_type": "code",
     "checksum": "9df809287772e6763041e03c244361ba",
     "grade": true,
     "grade_id": "cell-e496b617d982bdd1",
     "locked": true,
     "points": 1,
     "schema_version": 3,
     "solution": false,
     "task": false
    }
   },
   "outputs": [],
   "source": [
    "import numpy as np\n",
    "\n",
    "assert (createMatrix() == np.array([[ 1,  0,  3,  0,  5,  0,  7,  0,  9],\n",
    "                                       [ 0,  2,  0,  4,  0,  6,  0,  8,  0],\n",
    "                                       [11,  0, 13,  0, 15,  0, 17,  0, 19],\n",
    "                                       [ 0, 10,  0, 12,  0, 14,  0, 16,  0],\n",
    "                                       [21,  0, 23,  0, 25,  0, 27,  0, 29],\n",
    "                                       [ 0, 18,  0, 20,  0, 22,  0, 24,  0],\n",
    "                                       [31,  0, 33,  0, 35,  0, 37,  0, 39],\n",
    "                                       [ 0, 26,  0, 28,  0, 30,  0, 32,  0],\n",
    "                                       [41,  0, 43,  0, 45,  0, 47,  0, 49]])).all()"
   ]
  }
 ],
 "metadata": {
  "kernelspec": {
   "display_name": "Python 3",
   "language": "python",
   "name": "python3"
  },
  "language_info": {
   "codemirror_mode": {
    "name": "ipython",
    "version": 3
   },
   "file_extension": ".py",
   "mimetype": "text/x-python",
   "name": "python",
   "nbconvert_exporter": "python",
   "pygments_lexer": "ipython3",
   "version": "3.6.9"
  }
 },
 "nbformat": 4,
 "nbformat_minor": 1
}
