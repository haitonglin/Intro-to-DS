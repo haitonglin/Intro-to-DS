{
 "cells": [
  {
   "cell_type": "markdown",
   "metadata": {},
   "source": [
    "Before you turn this problem in, make sure everything runs as expected. First, **restart the kernel** (in the menubar, select Kernel$\\rightarrow$Restart) and then **run all cells** (in the menubar, select Cell$\\rightarrow$Run All).\n",
    "\n",
    "Make sure you fill in any place that says `YOUR CODE HERE` or \"YOUR ANSWER HERE\", as well as your name and collaborators below:"
   ]
  },
  {
   "cell_type": "code",
   "execution_count": null,
   "metadata": {},
   "outputs": [],
   "source": [
    "NAME = \"Haitong Lin\"\n",
    "COLLABORATORS = \"\""
   ]
  },
  {
   "cell_type": "markdown",
   "metadata": {},
   "source": [
    "---"
   ]
  },
  {
   "cell_type": "markdown",
   "metadata": {
    "deletable": false,
    "editable": false,
    "nbgrader": {
     "cell_type": "markdown",
     "checksum": "518beceaeb742ad886219f88feff43be",
     "grade": false,
     "grade_id": "cell-9f1f9ac6cd7b8166",
     "locked": true,
     "schema_version": 3,
     "solution": false
    }
   },
   "source": [
    "Problem 1 of quiz 7, STATS102 Fall2018 Session 1, Duke Kunshan University,Sep11th\n",
    "![](dku.jpg)\n",
    "For this problem set, we'll be using the Jupyter notebook:\n",
    "![](jupyter.png) "
   ]
  },
  {
   "cell_type": "markdown",
   "metadata": {
    "deletable": false,
    "editable": false,
    "nbgrader": {
     "cell_type": "markdown",
     "checksum": "d521f4ee92d2a978c94b3b035aab6571",
     "grade": false,
     "grade_id": "cell-5449c5dd23252508",
     "locked": true,
     "schema_version": 3,
     "solution": false
    }
   },
   "source": [
    "For an input numpy array x, return a string in the following format:\n",
    "\n",
    "'the input numpy array has xxx rows, xxx columns!'\n",
    "\n",
    "xxx should be replaced by the real integer number.\n",
    "\n",
    "For example:\n",
    "\n",
    "\n",
    "the input \n",
    "\n",
    "array([[0, 1, 2],\n",
    "       [3, 4, 5],\n",
    "       [6, 7, 8]])\n",
    "       \n",
    "the output\n",
    "\n",
    "'the input numpy array has 3 rows, 3 columns!'"
   ]
  },
  {
   "cell_type": "code",
   "execution_count": 28,
   "metadata": {
    "deletable": false,
    "nbgrader": {
     "cell_type": "code",
     "checksum": "eed230bacb0fac50780b2bf40d8ddd39",
     "grade": false,
     "grade_id": "strictly_ascending_list",
     "locked": false,
     "schema_version": 3,
     "solution": true
    }
   },
   "outputs": [],
   "source": [
    "import numpy as np\n",
    "def tell_the_shape(x):\n",
    "    # YOUR CODE HERE\n",
    "    a=np.shape(x)\n",
    "    num1=a[0]\n",
    "    num2=a[1]\n",
    "    return('the input numpy array has {} rows, {} columns!'.format(num1,num2))"
   ]
  },
  {
   "cell_type": "code",
   "execution_count": 29,
   "metadata": {
    "deletable": false,
    "editable": false,
    "nbgrader": {
     "cell_type": "code",
     "checksum": "40b7a6881ead57d6ce4772ad21fe24e0",
     "grade": true,
     "grade_id": "strictly_ascending_list1",
     "locked": true,
     "points": 0.5,
     "schema_version": 3,
     "solution": false
    }
   },
   "outputs": [],
   "source": [
    "import numpy as np\n",
    "data=np.arange(12).reshape(3,4)\n",
    "assert tell_the_shape(data)=='the input numpy array has 3 rows, 4 columns!'\n",
    "data=np.arange(15).reshape(3,5)\n",
    "assert tell_the_shape(data)=='the input numpy array has 3 rows, 5 columns!'\n",
    "data=np.empty((4,4))\n",
    "assert tell_the_shape(data)=='the input numpy array has 4 rows, 4 columns!'"
   ]
  }
 ],
 "metadata": {
  "kernelspec": {
   "display_name": "Python 3",
   "language": "python",
   "name": "python3"
  },
  "language_info": {
   "codemirror_mode": {
    "name": "ipython",
    "version": 3
   },
   "file_extension": ".py",
   "mimetype": "text/x-python",
   "name": "python",
   "nbconvert_exporter": "python",
   "pygments_lexer": "ipython3",
   "version": "3.6.9"
  }
 },
 "nbformat": 4,
 "nbformat_minor": 2
}
