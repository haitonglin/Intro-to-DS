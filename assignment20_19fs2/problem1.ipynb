{
 "cells": [
  {
   "cell_type": "markdown",
   "metadata": {},
   "source": [
    "Before you turn this problem in, make sure everything runs as expected. First, **restart the kernel** (in the menubar, select Kernel$\\rightarrow$Restart) and then **run all cells** (in the menubar, select Cell$\\rightarrow$Run All).\n",
    "\n",
    "Make sure you fill in any place that says `YOUR CODE HERE` or \"YOUR ANSWER HERE\", as well as your name and collaborators below:"
   ]
  },
  {
   "cell_type": "code",
   "execution_count": null,
   "metadata": {},
   "outputs": [],
   "source": [
    "NAME = \"Haitong Lin\"\n",
    "COLLABORATORS = \"\""
   ]
  },
  {
   "cell_type": "markdown",
   "metadata": {},
   "source": [
    "---"
   ]
  },
  {
   "cell_type": "markdown",
   "metadata": {
    "deletable": false,
    "editable": false,
    "nbgrader": {
     "cell_type": "markdown",
     "checksum": "8a8a43ef67ff82e80f57861070409fc2",
     "grade": false,
     "grade_id": "jupyter",
     "locked": true,
     "schema_version": 3,
     "solution": false
    }
   },
   "source": [
    "Problem 1 of Assignment 19, STATS102 Fall2019 Session 2, Duke Kunshan University, Due at Dec 5th 12：00pm beijing time\n",
    "![](dku.jpg)\n",
    "For this problem set, we'll be using the Jupyter notebook and nbgrader:\n",
    "\n",
    "![](jupyter.png)"
   ]
  },
  {
   "cell_type": "markdown",
   "metadata": {
    "deletable": false,
    "editable": false,
    "nbgrader": {
     "cell_type": "markdown",
     "checksum": "6e27d15bb6eb50b7f1cfafcecc81e748",
     "grade": false,
     "grade_id": "cell-542b022beb07b3ef",
     "locked": true,
     "schema_version": 3,
     "solution": false
    }
   },
   "source": [
    "# Problem 1 \n",
    "\n",
    "<b> Naive Bayes Classification </b>\n",
    "\n",
    "For the given digit dataset, perform Bayesian classification training on X_train data and y_train labels, and predict labels on X_test data for different assumptions. "
   ]
  },
  {
   "cell_type": "markdown",
   "metadata": {
    "deletable": false,
    "editable": false,
    "nbgrader": {
     "cell_type": "markdown",
     "checksum": "5139b8b53aafb28e0604244e89aa287f",
     "grade": false,
     "grade_id": "cell-01e2043abcb5504c",
     "locked": true,
     "schema_version": 3,
     "solution": false,
     "task": false
    }
   },
   "source": [
    "<b>Analyzing and visualizing data</b>"
   ]
  },
  {
   "cell_type": "code",
   "execution_count": 3,
   "metadata": {
    "deletable": false,
    "editable": false,
    "nbgrader": {
     "cell_type": "code",
     "checksum": "600057d1ea032df49655134edae54119",
     "grade": false,
     "grade_id": "cell-dec218f0d541762a",
     "locked": true,
     "schema_version": 3,
     "solution": false,
     "task": false
    }
   },
   "outputs": [
    {
     "name": "stdout",
     "output_type": "stream",
     "text": [
      ".. _digits_dataset:\n",
      "\n",
      "Optical recognition of handwritten digits dataset\n",
      "--------------------------------------------------\n",
      "\n",
      "**Data Set Characteristics:**\n",
      "\n",
      "    :Number of Instances: 5620\n",
      "    :Number of Attributes: 64\n",
      "    :Attribute Information: 8x8 image of integer pixels in the range 0..16.\n",
      "    :Missing Attribute Values: None\n",
      "    :Creator: E. Alpaydin (alpaydin '@' boun.edu.tr)\n",
      "    :Date: July; 1998\n",
      "\n",
      "This is a copy of the test set of the UCI ML hand-written digits datasets\n",
      "https://archive.ics.uci.edu/ml/datasets/Optical+Recognition+of+Handwritten+Digits\n",
      "\n",
      "The data set contains images of hand-written digits: 10 classes where\n",
      "each class refers to a digit.\n",
      "\n",
      "Preprocessing programs made available by NIST were used to extract\n",
      "normalized bitmaps of handwritten digits from a preprinted form. From a\n",
      "total of 43 people, 30 contributed to the training set and different 13\n",
      "to the test set. 32x32 bitmaps are divided into nonoverlapping blocks of\n",
      "4x4 and the number of on pixels are counted in each block. This generates\n",
      "an input matrix of 8x8 where each element is an integer in the range\n",
      "0..16. This reduces dimensionality and gives invariance to small\n",
      "distortions.\n",
      "\n",
      "For info on NIST preprocessing routines, see M. D. Garris, J. L. Blue, G.\n",
      "T. Candela, D. L. Dimmick, J. Geist, P. J. Grother, S. A. Janet, and C.\n",
      "L. Wilson, NIST Form-Based Handprint Recognition System, NISTIR 5469,\n",
      "1994.\n",
      "\n",
      ".. topic:: References\n",
      "\n",
      "  - C. Kaynak (1995) Methods of Combining Multiple Classifiers and Their\n",
      "    Applications to Handwritten Digit Recognition, MSc Thesis, Institute of\n",
      "    Graduate Studies in Science and Engineering, Bogazici University.\n",
      "  - E. Alpaydin, C. Kaynak (1998) Cascading Classifiers, Kybernetika.\n",
      "  - Ken Tang and Ponnuthurai N. Suganthan and Xi Yao and A. Kai Qin.\n",
      "    Linear dimensionalityreduction using relevance weighted LDA. School of\n",
      "    Electrical and Electronic Engineering Nanyang Technological University.\n",
      "    2005.\n",
      "  - Claudio Gentile. A New Approximate Maximal Margin Classification\n",
      "    Algorithm. NIPS. 2000.\n"
     ]
    }
   ],
   "source": [
    "%matplotlib inline\n",
    "from sklearn import datasets, model_selection, naive_bayes\n",
    "import matplotlib.pyplot as plt\n",
    "import seaborn as sns; sns.set()\n",
    "import pandas as pd\n",
    "import numpy as np\n",
    "\n",
    "def show_data_description():\n",
    "    digits=datasets.load_digits()\n",
    "    print(digits.DESCR)\n",
    "    \n",
    "show_data_description()"
   ]
  },
  {
   "cell_type": "code",
   "execution_count": 4,
   "metadata": {
    "deletable": false,
    "editable": false,
    "nbgrader": {
     "cell_type": "code",
     "checksum": "9e5465198ebe2fcc4879ffa0ef725818",
     "grade": false,
     "grade_id": "cell-ba5b48fc0241b0a4",
     "locked": true,
     "schema_version": 3,
     "solution": false,
     "task": false
    }
   },
   "outputs": [
    {
     "name": "stdout",
     "output_type": "stream",
     "text": [
      "Vector from images 0:\n",
      " [ 0.  0.  5. 13.  9.  1.  0.  0.  0.  0. 13. 15. 10. 15.  5.  0.  0.  3.\n",
      " 15.  2.  0. 11.  8.  0.  0.  4. 12.  0.  0.  8.  8.  0.  0.  5.  8.  0.\n",
      "  0.  9.  8.  0.  0.  4. 11.  0.  1. 12.  7.  0.  0.  2. 14.  5. 10. 12.\n",
      "  0.  0.  0.  0.  6. 13. 10.  0.  0.  0.]\n"
     ]
    },
    {
     "data": {
      "image/png": "[encoded data removed]",
      "text/plain": [
       "<Figure size 432x288 with 25 Axes>"
      ]
     },
     "metadata": {
      "needs_background": "light"
     },
     "output_type": "display_data"
    }
   ],
   "source": [
    "def show_digits():\n",
    "    digits=datasets.load_digits()\n",
    "    fig=plt.figure()\n",
    "    print(\"Vector from images 0:\\n\",digits.data[0])\n",
    "    for i in range(25):\n",
    "        ax=fig.add_subplot(5,5,i+1)\n",
    "        ax.imshow(digits.images[i], cmap=plt.cm.gray_r, interpolation='nearest')\n",
    "        plt.axis('off')\n",
    "    plt.show()\n",
    "    \n",
    "show_digits()"
   ]
  },
  {
   "cell_type": "markdown",
   "metadata": {
    "deletable": false,
    "editable": false,
    "nbgrader": {
     "cell_type": "markdown",
     "checksum": "6a9f776adc84992e190203edc65d9382",
     "grade": false,
     "grade_id": "cell-9b567d04142a4c87",
     "locked": true,
     "schema_version": 3,
     "solution": false,
     "task": false
    }
   },
   "source": [
    "Use <b>load_data</b> to obtain training and testing data."
   ]
  },
  {
   "cell_type": "code",
   "execution_count": 5,
   "metadata": {
    "deletable": false,
    "editable": false,
    "nbgrader": {
     "cell_type": "code",
     "checksum": "66e70119c0888018372cb745b0cdc369",
     "grade": false,
     "grade_id": "cell-afc4e9bc3410c973",
     "locked": true,
     "schema_version": 3,
     "solution": false,
     "task": false
    }
   },
   "outputs": [],
   "source": [
    "def load_data():\n",
    "    digits = datasets.load_digits()\n",
    "    return model_selection.train_test_split(digits.data, digits.target,\n",
    "                                             test_size=0.25, random_state=0, stratify=digits.target)"
   ]
  },
  {
   "cell_type": "markdown",
   "metadata": {
    "deletable": false,
    "editable": false,
    "nbgrader": {
     "cell_type": "markdown",
     "checksum": "43bb5104618e8da71b1109d7b6cc7f64",
     "grade": false,
     "grade_id": "cell-365df6ebd4677f9c",
     "locked": true,
     "schema_version": 3,
     "solution": false,
     "task": false
    }
   },
   "source": [
    "## Problem 1.1\n",
    "\n",
    "Return the mean accuracy on the X_train and y_train, and X_test and y_test for different assumptions in a DataFrame.\n",
    "\n",
    "| | Bernoulli Naive Bayes | Multinomial Naive Bayes | Gaussian Naive Bayes|\n",
    "|:----: | :----:| :----: | :----: |\n",
    "| Training Score |  |  |  |\n",
    "| Testing Score |  |  |  |\n",
    "\n",
    "Hints: sklearn.naive_bayes.BernoulliNB/MultinomialNB/GaussianNB.score"
   ]
  },
  {
   "cell_type": "code",
   "execution_count": 44,
   "metadata": {
    "deletable": false,
    "nbgrader": {
     "cell_type": "code",
     "checksum": "aabac72a5112140e25330df9fb3df367",
     "grade": false,
     "grade_id": "cell-09247576e2d907c1",
     "locked": false,
     "schema_version": 3,
     "solution": true,
     "task": false
    }
   },
   "outputs": [],
   "source": [
    "from sklearn.naive_bayes import BernoulliNB\n",
    "from sklearn.naive_bayes import MultinomialNB\n",
    "from sklearn.naive_bayes import GaussianNB\n",
    "\n",
    "def myfunction_1():\n",
    "    X_train, X_test, y_train, y_test = load_data()\n",
    "    # YOUR CODE HERE\n",
    "    b=BernoulliNB().fit(X_train,y_train)\n",
    "    b1=b.score(X_train,y_train)\n",
    "    b2=b.score(X_test,y_test)\n",
    "    \n",
    "    m=MultinomialNB().fit(X_train,y_train)\n",
    "    m1=m.score(X_train,y_train)\n",
    "    m2=b.score(X_test,y_test)\n",
    "    \n",
    "    g=GaussianNB().fit(X_train,y_train)\n",
    "    g1=g.score(X_train,y_train)\n",
    "    g2=g.score(X_test,y_test)\n",
    "    \n",
    "    data={'Bernoulli Naive Bayes':{'Training Score':b1,'Testing Score':b2}, \n",
    "          'Multinomial Naive Bayes':{'Training Score':m1,'Testing Score':m2}, \n",
    "          'Gaussian Naive Bayes':{'Training Score':g1,'Testing Score':g2}}\n",
    "    df=pd.DataFrame(data)\n",
    "                    \n",
    "    return df"
   ]
  },
  {
   "cell_type": "code",
   "execution_count": 45,
   "metadata": {
    "deletable": false,
    "editable": false,
    "nbgrader": {
     "cell_type": "code",
     "checksum": "3654d2ab14224c999ec9dc7eb3e6b11d",
     "grade": true,
     "grade_id": "cell-e6ec5fa469276267",
     "locked": true,
     "points": 1,
     "schema_version": 3,
     "solution": false,
     "task": false
    }
   },
   "outputs": [
    {
     "data": {
      "text/html": [
       "<div>\n",
       "<style scoped>\n",
       "    .dataframe tbody tr th:only-of-type {\n",
       "        vertical-align: middle;\n",
       "    }\n",
       "\n",
       "    .dataframe tbody tr th {\n",
       "        vertical-align: top;\n",
       "    }\n",
       "\n",
       "    .dataframe thead th {\n",
       "        text-align: right;\n",
       "    }\n",
       "</style>\n",
       "<table border=\"1\" class=\"dataframe\">\n",
       "  <thead>\n",
       "    <tr style=\"text-align: right;\">\n",
       "      <th></th>\n",
       "      <th>Bernoulli Naive Bayes</th>\n",
       "      <th>Multinomial Naive Bayes</th>\n",
       "      <th>Gaussian Naive Bayes</th>\n",
       "    </tr>\n",
       "  </thead>\n",
       "  <tbody>\n",
       "    <tr>\n",
       "      <td>Training Score</td>\n",
       "      <td>0.865627</td>\n",
       "      <td>0.905716</td>\n",
       "      <td>0.847810</td>\n",
       "    </tr>\n",
       "    <tr>\n",
       "      <td>Testing Score</td>\n",
       "      <td>0.866667</td>\n",
       "      <td>0.866667</td>\n",
       "      <td>0.835556</td>\n",
       "    </tr>\n",
       "  </tbody>\n",
       "</table>\n",
       "</div>"
      ],
      "text/plain": [
       "                Bernoulli Naive Bayes  Multinomial Naive Bayes  \\\n",
       "Training Score               0.865627                 0.905716   \n",
       "Testing Score                0.866667                 0.866667   \n",
       "\n",
       "                Gaussian Naive Bayes  \n",
       "Training Score              0.847810  \n",
       "Testing Score               0.835556  "
      ]
     },
     "execution_count": 45,
     "metadata": {},
     "output_type": "execute_result"
    }
   ],
   "source": [
    "myfunction_1()"
   ]
  },
  {
   "cell_type": "markdown",
   "metadata": {
    "deletable": false,
    "editable": false,
    "nbgrader": {
     "cell_type": "markdown",
     "checksum": "824da0d5e33238c68b6cc7531e49508d",
     "grade": false,
     "grade_id": "cell-f183312b7f5be6bd",
     "locked": true,
     "schema_version": 3,
     "solution": false,
     "task": false
    }
   },
   "source": [
    "## Problem 1.2\n",
    "\n",
    "Plot the mean accuracy on the X_train and y_train, and X_test and y_test in the same figure for Multinomial assumption with different $\\alpha$.\n",
    "\n",
    "![](fig_1_2.jpg)"
   ]
  },
  {
   "cell_type": "code",
   "execution_count": 98,
   "metadata": {
    "deletable": false,
    "nbgrader": {
     "cell_type": "code",
     "checksum": "50569fcf40be3c5731ba9bd075045b5e",
     "grade": false,
     "grade_id": "cell-25fedfc9cbc5988b",
     "locked": false,
     "schema_version": 3,
     "solution": true,
     "task": false
    }
   },
   "outputs": [],
   "source": [
    "def myfunction_2():\n",
    "    X_train, X_test, y_train, y_test = load_data()\n",
    "    # YOUR CODE HERE\n",
    "    m3=[]\n",
    "    m4=[]\n",
    "    a=np.logspace(-2,5)\n",
    "    for i in np.logspace(-2,5):\n",
    "        m=MultinomialNB(alpha=i).fit(X_train,y_train)\n",
    "        m1=m.score(X_train,y_train)\n",
    "        m2=m.score(X_test,y_test)\n",
    "        m3.append(m1)\n",
    "        m4.append(m2)\n",
    "    \n",
    "    x1=np.array(m3)\n",
    "    x2=np.array(m4)\n",
    "    \n",
    "    plt.plot(a,x1,color='blue',alpha=0.6,label='Training Score')\n",
    "    plt.plot(a,x2,color='orange',alpha=0.6,label='Testing Score')\n",
    "    plt.ylim(0.0,1.0)\n",
    "    plt.hlines(0.9,0.01,100000,'g',alpha=0.6,label=\"Score=0.9\",linestyles='--')\n",
    "    plt.xscale('log')\n",
    "    plt.xlabel('a')\n",
    "    plt.ylabel('score')\n",
    "    plt.title('MultinomialNB')\n",
    "    plt.legend()\n",
    "    \n",
    "    plt.show()"
   ]
  },
  {
   "cell_type": "code",
   "execution_count": 99,
   "metadata": {
    "deletable": false,
    "editable": false,
    "nbgrader": {
     "cell_type": "code",
     "checksum": "7e5314fc7912e0437e07b5725737bd00",
     "grade": true,
     "grade_id": "cell-0a574bbee5b22978",
     "locked": true,
     "points": 0.5,
     "schema_version": 3,
     "solution": false,
     "task": false
    }
   },
   "outputs": [
    {
     "data": {
      "image/png": "[encoded data removed]",
      "text/plain": [
       "<Figure size 432x288 with 1 Axes>"
      ]
     },
     "metadata": {
      "needs_background": "light"
     },
     "output_type": "display_data"
    }
   ],
   "source": [
    "myfunction_2()"
   ]
  },
  {
   "cell_type": "markdown",
   "metadata": {},
   "source": [
    "## Problem 1.3\n",
    "\n",
    "Plot the mean accuracy on the X_train and y_train, and X_test and y_test in the same figure for Bernoulli assumption with different $\\alpha$.\n",
    "\n",
    "![](fig_1_3.jpg)"
   ]
  },
  {
   "cell_type": "code",
   "execution_count": 104,
   "metadata": {
    "deletable": false,
    "nbgrader": {
     "cell_type": "code",
     "checksum": "b3e80f2002fe9db13a4397538d9eaa35",
     "grade": false,
     "grade_id": "cell-d15d8d30f86cd8d6",
     "locked": false,
     "schema_version": 3,
     "solution": true,
     "task": false
    }
   },
   "outputs": [],
   "source": [
    "def myfunction_3():\n",
    "    X_train, X_test, y_train, y_test = load_data()\n",
    "    # YOUR CODE HERE\n",
    "    b3=[]\n",
    "    b4=[]\n",
    "    a=np.logspace(-2,5)\n",
    "    for i in np.logspace(-2,5):\n",
    "        b=BernoulliNB(alpha=i).fit(X_train,y_train)\n",
    "        b1=b.score(X_train,y_train)\n",
    "        b2=b.score(X_test,y_test)\n",
    "        b3.append(b1)\n",
    "        b4.append(b2)\n",
    "    \n",
    "    x1=np.array(b3)\n",
    "    x2=np.array(b4)\n",
    "    \n",
    "    plt.plot(a,x1,color='blue',alpha=0.6,label='Training Score')\n",
    "    plt.plot(a,x2,color='orange',alpha=0.6,label='Testing Score')\n",
    "    plt.ylim(0.0,1.0)\n",
    "    plt.hlines(0.9,0.01,100000,'g',alpha=0.6,label=\"Score=0.9\",linestyles='--')\n",
    "    plt.xscale('log')\n",
    "    plt.xlabel('a')\n",
    "    plt.ylabel('score')\n",
    "    plt.title('BernoulliNB')\n",
    "    plt.legend()\n",
    "    \n",
    "    plt.show()"
   ]
  },
  {
   "cell_type": "code",
   "execution_count": 105,
   "metadata": {
    "deletable": false,
    "editable": false,
    "nbgrader": {
     "cell_type": "code",
     "checksum": "0922e4de764d4c9079633085e49c052e",
     "grade": true,
     "grade_id": "cell-7821d630a4dff23e",
     "locked": true,
     "points": 0.5,
     "schema_version": 3,
     "solution": false,
     "task": false
    }
   },
   "outputs": [
    {
     "data": {
      "image/png": "[encoded data removed]",
      "text/plain": [
       "<Figure size 432x288 with 1 Axes>"
      ]
     },
     "metadata": {
      "needs_background": "light"
     },
     "output_type": "display_data"
    }
   ],
   "source": [
    "myfunction_3()"
   ]
  },
  {
   "cell_type": "markdown",
   "metadata": {
    "deletable": false,
    "editable": false,
    "nbgrader": {
     "cell_type": "markdown",
     "checksum": "b5b119d01f99929aa7ee894dfe74433f",
     "grade": false,
     "grade_id": "cell-dfe3a678f21cb486",
     "locked": true,
     "schema_version": 3,
     "solution": false,
     "task": false
    }
   },
   "source": [
    "Write your analysis and conclusions for this example:"
   ]
  },
  {
   "cell_type": "markdown",
   "metadata": {
    "deletable": false,
    "nbgrader": {
     "cell_type": "markdown",
     "checksum": "1524acd875075e439f779758e4e5fb24",
     "grade": true,
     "grade_id": "cell-1d5e5629a11f70cb",
     "locked": false,
     "points": 0,
     "schema_version": 3,
     "solution": true,
     "task": false
    }
   },
   "source": [
    "YOUR ANSWER HERE\n",
    "\n",
    "As the value of alpha varies, the fit produces different results; when alpha gets smaller, the mean accuracy generally gets higher; test data generally fits well with training data; multinomial naive bayes might be the most accurate way because it has the highest number of mean accuracy (in the data frame, compared to the rest) and the graph provides the same result as well."
   ]
  }
 ],
 "metadata": {
  "kernelspec": {
   "display_name": "Python 3",
   "language": "python",
   "name": "python3"
  },
  "language_info": {
   "codemirror_mode": {
    "name": "ipython",
    "version": 3
   },
   "file_extension": ".py",
   "mimetype": "text/x-python",
   "name": "python",
   "nbconvert_exporter": "python",
   "pygments_lexer": "ipython3",
   "version": "3.6.9"
  }
 },
 "nbformat": 4,
 "nbformat_minor": 1
}
