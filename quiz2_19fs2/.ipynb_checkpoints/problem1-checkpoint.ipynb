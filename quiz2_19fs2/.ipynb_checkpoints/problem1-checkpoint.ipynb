{
 "cells": [
  {
   "cell_type": "markdown",
   "metadata": {},
   "source": [
    "Before you turn this problem in, make sure everything runs as expected. First, **restart the kernel** (in the menubar, select Kernel$\\rightarrow$Restart) and then **run all cells** (in the menubar, select Cell$\\rightarrow$Run All).\n",
    "\n",
    "Make sure you fill in any place that says `YOUR CODE HERE` or \"YOUR ANSWER HERE\", as well as your name and collaborators below:"
   ]
  },
  {
   "cell_type": "code",
   "execution_count": null,
   "metadata": {},
   "outputs": [],
   "source": [
    "NAME = \"Haitong Lin\"\n",
    "COLLABORATORS = \"\""
   ]
  },
  {
   "cell_type": "markdown",
   "metadata": {},
   "source": [
    "---"
   ]
  },
  {
   "cell_type": "markdown",
   "metadata": {
    "deletable": false,
    "editable": false,
    "nbgrader": {
     "cell_type": "markdown",
     "checksum": "a47996c834da37a954fc19cf6527f3a5",
     "grade": false,
     "grade_id": "cell-9f1f9ac6cd7b8166",
     "locked": true,
     "schema_version": 3,
     "solution": false
    }
   },
   "source": [
    "Problem 1 of quiz 2, STATS102 Fall2019 Session 2, Duke Kunshan University, Oct 31th\n",
    "![](dku.jpg)\n",
    "For this problem set, we'll be using the Jupyter notebook:\n",
    "![](jupyter.png) "
   ]
  },
  {
   "cell_type": "code",
   "execution_count": 1,
   "metadata": {},
   "outputs": [],
   "source": [
    "def myfactorial(num):\n",
    "    fac = 1\n",
    "    for i in range(1,num+1):\n",
    "        fac = fac * i\n",
    "        return fac\n",
    "    print(fac)"
   ]
  },
  {
   "cell_type": "code",
   "execution_count": 9,
   "metadata": {
    "deletable": false,
    "nbgrader": {
     "cell_type": "code",
     "checksum": "0c4ac5a15006052511380571871f2a57",
     "grade": false,
     "grade_id": "calculate_myfactorial",
     "locked": false,
     "schema_version": 3,
     "solution": true
    }
   },
   "outputs": [],
   "source": [
    "def myfactorial(num):\n",
    "    '''Calculate the Factorial of the input num\n",
    "    the output is an int\n",
    "    '''\n",
    "    if(type(num)!=int):\n",
    "        raise VauleError('input is not an integer')\n",
    "    if(num<=0):\n",
    "        raise VauleError('input is not an integer')\n",
    "    '''start your code here, num is a positive integer here'''\n",
    "    \n",
    "    # YOUR CODE HERE\n",
    "    n=num\n",
    "    \n",
    "    #for num in (1,n+1):\n",
    "        #myfactorial=n*(n-1)*(n-2)*(n-3)*(n-4)*(n-5)*(n-6)\n",
    "        #return myfactorial\n",
    "    \n",
    "    myfactorial=1\n",
    "    for i in range(1,n+1):\n",
    "        myfactorial=myfactorial*i\n",
    "    return myfactorial\n",
    "    \n",
    "    print (myfactorial)\n",
    "    \n",
    "    '''end your code'''"
   ]
  },
  {
   "cell_type": "code",
   "execution_count": null,
   "metadata": {
    "deletable": false,
    "editable": false,
    "nbgrader": {
     "cell_type": "code",
     "checksum": "8ea24ad82aeb2edff84d077a66cbe692",
     "grade": true,
     "grade_id": "myfactorial_correct_input",
     "locked": true,
     "points": 0.5,
     "schema_version": 3,
     "solution": false
    }
   },
   "outputs": [],
   "source": [
    "\"\"\"Check that calculate_income function returns the correct output for several inputs\"\"\"\n",
    "assert myfactorial(7) == 5040\n"
   ]
  }
 ],
 "metadata": {
  "kernelspec": {
   "display_name": "Python 3",
   "language": "python",
   "name": "python3"
  },
  "language_info": {
   "codemirror_mode": {
    "name": "ipython",
    "version": 3
   },
   "file_extension": ".py",
   "mimetype": "text/x-python",
   "name": "python",
   "nbconvert_exporter": "python",
   "pygments_lexer": "ipython3",
   "version": "3.7.4"
  }
 },
 "nbformat": 4,
 "nbformat_minor": 2
}
