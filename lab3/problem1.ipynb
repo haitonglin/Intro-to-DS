{
 "cells": [
  {
   "cell_type": "markdown",
   "metadata": {},
   "source": [
    "Before you turn this problem in, make sure everything runs as expected. First, **restart the kernel** (in the menubar, select Kernel$\\rightarrow$Restart) and then **run all cells** (in the menubar, select Cell$\\rightarrow$Run All).\n",
    "\n",
    "Make sure you fill in any place that says `YOUR CODE HERE` or \"YOUR ANSWER HERE\", as well as your name and collaborators below:"
   ]
  },
  {
   "cell_type": "code",
   "execution_count": null,
   "metadata": {},
   "outputs": [],
   "source": [
    "NAME = \"Haitong Lin\"\n",
    "COLLABORATORS = \"\""
   ]
  },
  {
   "cell_type": "markdown",
   "metadata": {},
   "source": [
    "---"
   ]
  },
  {
   "cell_type": "markdown",
   "metadata": {
    "deletable": false,
    "editable": false,
    "nbgrader": {
     "cell_type": "markdown",
     "checksum": "fc4ffb80c9fc4968f3e9147b3966f7e0",
     "grade": false,
     "grade_id": "cell-9f1f9ac6cd7b8166",
     "locked": true,
     "schema_version": 3,
     "solution": false
    }
   },
   "source": [
    "Lab 3, STATS102 Fall2019 Session 2, Duke Kunshan University, Nov 14th\n",
    "![](dku.jpg)\n",
    "For this problem set, we'll be using the Jupyter notebook:\n",
    "![](jupyter.png) "
   ]
  },
  {
   "cell_type": "markdown",
   "metadata": {
    "deletable": false,
    "editable": false,
    "nbgrader": {
     "cell_type": "markdown",
     "checksum": "7f4fa182fd7fb7544da55ce8cd4adb0f",
     "grade": false,
     "grade_id": "cell-5449c5dd23252508",
     "locked": true,
     "schema_version": 3,
     "solution": false
    }
   },
   "source": [
    "# Problem 1\n",
    "\n",
    "Loading `'CAvideos.csv`, find the video with the most views and return its title.\n"
   ]
  },
  {
   "cell_type": "code",
   "execution_count": 74,
   "metadata": {
    "deletable": false,
    "nbgrader": {
     "cell_type": "code",
     "checksum": "b62f93de4e6483706faf6a773d623447",
     "grade": false,
     "grade_id": "strictly_ascending_list",
     "locked": false,
     "schema_version": 3,
     "solution": true
    }
   },
   "outputs": [],
   "source": [
    "import numpy as np\n",
    "import pandas as pd\n",
    "\n",
    "def most_views():\n",
    "    # YOUR CODE HERE\n",
    "    data=pd.read_csv('CAvideos.csv')\n",
    "    mv=data.sort_values(by='views',ascending=False)\n",
    "    return mv['title'].iloc[0]"
   ]
  },
  {
   "cell_type": "code",
   "execution_count": 75,
   "metadata": {
    "deletable": false,
    "editable": false,
    "nbgrader": {
     "cell_type": "code",
     "checksum": "3692e3bef754390deddd4b455defea38",
     "grade": true,
     "grade_id": "strictly_ascending_list1",
     "locked": true,
     "points": 0,
     "schema_version": 3,
     "solution": false,
     "task": false
    }
   },
   "outputs": [],
   "source": [
    "assert most_views() == 'Ed Sheeran - Perfect (Official Music Video)'"
   ]
  },
  {
   "cell_type": "markdown",
   "metadata": {
    "deletable": false,
    "editable": false,
    "nbgrader": {
     "cell_type": "markdown",
     "checksum": "ab0feebd5107277853e864d2ecb17653",
     "grade": false,
     "grade_id": "cell-56fc2811967417ab",
     "locked": true,
     "schema_version": 3,
     "solution": false,
     "task": false
    }
   },
   "source": [
    "# Problem 2\n",
    "\n",
    "Loading `'CAvideos.csv`, find the top 3 video with the most comments and return their titles in a list."
   ]
  },
  {
   "cell_type": "code",
   "execution_count": 76,
   "metadata": {
    "deletable": false,
    "nbgrader": {
     "cell_type": "code",
     "checksum": "4f636f53e0c30efc24a9f665e9a85f7b",
     "grade": false,
     "grade_id": "cell-e0009896e4596007",
     "locked": false,
     "schema_version": 3,
     "solution": true,
     "task": false
    }
   },
   "outputs": [],
   "source": [
    "import numpy as np\n",
    "import pandas as pd\n",
    "\n",
    "def top3_comments():\n",
    "    # YOUR CODE HERE\n",
    "    data=pd.read_csv('CAvideos.csv')\n",
    "    mv=data.sort_values(by='comment_count',ascending=False)\n",
    "    return list(mv['title'].iloc[0:3])\n",
    "    "
   ]
  },
  {
   "cell_type": "code",
   "execution_count": 77,
   "metadata": {
    "deletable": false,
    "editable": false,
    "nbgrader": {
     "cell_type": "code",
     "checksum": "a101ed79095317167b88937646a0a6ce",
     "grade": true,
     "grade_id": "cell-7debb17a223463d1",
     "locked": true,
     "points": 0,
     "schema_version": 3,
     "solution": false,
     "task": false
    }
   },
   "outputs": [],
   "source": [
    "assert top3_comments() == ['Eminem - Walk On Water (Audio) ft. Beyoncé',\n",
    "                             'Ed Sheeran - Perfect (Official Music Video)',\n",
    "                             'Jake Paul - Saturday Night (Song) feat. Nick Crompton & Chad Tepper (Official Music Video)']"
   ]
  },
  {
   "cell_type": "markdown",
   "metadata": {
    "deletable": false,
    "editable": false,
    "nbgrader": {
     "cell_type": "markdown",
     "checksum": "90c13e312ab08e94b75e64837b54fd2f",
     "grade": false,
     "grade_id": "cell-be58148f417cc60b",
     "locked": true,
     "schema_version": 3,
     "solution": false,
     "task": false
    }
   },
   "source": [
    "# Problem 3\n",
    "\n",
    "Loading `'CAvideos.csv`, find the tag with the highest frequency.\n",
    "\n",
    "All tags should be lowercase."
   ]
  },
  {
   "cell_type": "code",
   "execution_count": 97,
   "metadata": {
    "deletable": false,
    "nbgrader": {
     "cell_type": "code",
     "checksum": "de8138bf0b0cf19f3ecddca2d6706cfb",
     "grade": false,
     "grade_id": "cell-be2566487c305f77",
     "locked": false,
     "schema_version": 3,
     "solution": true,
     "task": false
    }
   },
   "outputs": [],
   "source": [
    "import numpy as np\n",
    "import pandas as pd\n",
    "\n",
    "def highest_freq_tag():\n",
    "    # YOUR CODE HERE\n",
    "    data=pd.read_csv('CAvideos.csv')\n",
    "    df=pd.DataFrame(data) \n",
    "    tag=df['tags'].str.lower().str.replace('\"','').str.split('|')    #a panda series of lists\n",
    "    a=pd.concat([pd.Series(t) for t in tag])                         #concating multiple series together\n",
    "    n=a.value_counts()\n",
    "    return n.index[0]"
   ]
  },
  {
   "cell_type": "code",
   "execution_count": 98,
   "metadata": {},
   "outputs": [
    {
     "data": {
      "text/plain": [
       "pandas.core.series.Series"
      ]
     },
     "execution_count": 98,
     "metadata": {},
     "output_type": "execute_result"
    }
   ],
   "source": [
    "highest_freq_tag()"
   ]
  },
  {
   "cell_type": "code",
   "execution_count": 96,
   "metadata": {
    "deletable": false,
    "editable": false,
    "nbgrader": {
     "cell_type": "code",
     "checksum": "f5b1740867cbea29ea1cc3a95873be3b",
     "grade": true,
     "grade_id": "cell-f8b6f3af9b05ae45",
     "locked": true,
     "points": 0,
     "schema_version": 3,
     "solution": false,
     "task": false
    }
   },
   "outputs": [],
   "source": [
    "assert highest_freq_tag() == 'comedy'"
   ]
  },
  {
   "cell_type": "markdown",
   "metadata": {
    "deletable": false,
    "editable": false,
    "nbgrader": {
     "cell_type": "markdown",
     "checksum": "ed2c6baedbba740c27adf31ac57bc6c3",
     "grade": false,
     "grade_id": "cell-66bb9183e069f9e0",
     "locked": true,
     "schema_version": 3,
     "solution": false,
     "task": false
    }
   },
   "source": [
    "# Problem 4\n",
    "\n",
    "Loading `'CAvideos.csv`, find there are how many videos of which the like ratio is more than $0.9$ and the number of likes is more than $8000$. (Ignore `Nan`) \n",
    "\n",
    "$$like\\_ratio =  \\frac{\\text{the number of likes}}{\\text{the number of likes + the number of dislikes}} $$"
   ]
  },
  {
   "cell_type": "code",
   "execution_count": 103,
   "metadata": {
    "deletable": false,
    "nbgrader": {
     "cell_type": "code",
     "checksum": "8183b6cd79ace1000a0f5278ef1e6a4b",
     "grade": false,
     "grade_id": "cell-2dd857483e104c7d",
     "locked": false,
     "schema_version": 3,
     "solution": true,
     "task": false
    }
   },
   "outputs": [],
   "source": [
    "import numpy as np\n",
    "import pandas as pd\n",
    "\n",
    "def analyze_likes():\n",
    "    # YOUR CODE HERE\n",
    "    data=pd.read_csv('CAvideos.csv')\n",
    "    data['like_ratio']=data['likes']/(data['likes']+data['dislikes'])\n",
    "    data=data.dropna()\n",
    "    a=data.sort_values(by='like_ratio',ascending=False)\n",
    "    higha=(data['like_ratio']>0.9)&(data['likes']>8000)\n",
    "    return higha.sum()"
   ]
  },
  {
   "cell_type": "code",
   "execution_count": 105,
   "metadata": {
    "deletable": false,
    "editable": false,
    "nbgrader": {
     "cell_type": "code",
     "checksum": "2a25c1c6f87cf2a92f36c5b3fd34b8e4",
     "grade": true,
     "grade_id": "cell-751309db16b03a89",
     "locked": true,
     "points": 0,
     "schema_version": 3,
     "solution": false,
     "task": false
    }
   },
   "outputs": [],
   "source": [
    "assert analyze_likes() == 96"
   ]
  }
 ],
 "metadata": {
  "kernelspec": {
   "display_name": "Python 3",
   "language": "python",
   "name": "python3"
  },
  "language_info": {
   "codemirror_mode": {
    "name": "ipython",
    "version": 3
   },
   "file_extension": ".py",
   "mimetype": "text/x-python",
   "name": "python",
   "nbconvert_exporter": "python",
   "pygments_lexer": "ipython3",
   "version": "3.6.9"
  }
 },
 "nbformat": 4,
 "nbformat_minor": 2
}
