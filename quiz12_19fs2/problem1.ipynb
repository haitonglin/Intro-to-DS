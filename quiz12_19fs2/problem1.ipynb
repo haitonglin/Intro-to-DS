{
 "cells": [
  {
   "cell_type": "markdown",
   "metadata": {},
   "source": [
    "Before you turn this problem in, make sure everything runs as expected. First, **restart the kernel** (in the menubar, select Kernel$\\rightarrow$Restart) and then **run all cells** (in the menubar, select Cell$\\rightarrow$Run All).\n",
    "\n",
    "Make sure you fill in any place that says `YOUR CODE HERE` or \"YOUR ANSWER HERE\", as well as your name and collaborators below:"
   ]
  },
  {
   "cell_type": "code",
   "execution_count": null,
   "metadata": {},
   "outputs": [],
   "source": [
    "NAME = \"Haitong Lin\"\n",
    "COLLABORATORS = \"\""
   ]
  },
  {
   "cell_type": "markdown",
   "metadata": {},
   "source": [
    "---"
   ]
  },
  {
   "cell_type": "markdown",
   "metadata": {
    "deletable": false,
    "editable": false,
    "nbgrader": {
     "cell_type": "markdown",
     "checksum": "8ca48902131837d83be422a8b61a2898",
     "grade": false,
     "grade_id": "cell-9f1f9ac6cd7b8166",
     "locked": true,
     "schema_version": 3,
     "solution": false
    }
   },
   "source": [
    "Quiz 12, STATS102 Fall2019 Session 2, Duke Kunshan University, Nov 19th\n",
    "![](dku.jpg)\n",
    "For this problem set, we'll be using the Jupyter notebook:\n",
    "![](jupyter.png) "
   ]
  },
  {
   "cell_type": "markdown",
   "metadata": {
    "deletable": false,
    "editable": false,
    "nbgrader": {
     "cell_type": "markdown",
     "checksum": "a6c0a6e8de75392b1c1928ea749099b3",
     "grade": false,
     "grade_id": "cell-5449c5dd23252508",
     "locked": true,
     "schema_version": 3,
     "solution": false
    }
   },
   "source": [
    "load the census data from http://census.ire.org/data/bulkdata.html (census.csv), calcualte and return a list of top 5 state names ordered in descending way by the average county population in that state. The populations for all counties in each state are listed in column CENSUS2010POP."
   ]
  },
  {
   "cell_type": "code",
   "execution_count": 32,
   "metadata": {
    "deletable": false,
    "nbgrader": {
     "cell_type": "code",
     "checksum": "6457dccd428c5891ae0bfd65ce53716d",
     "grade": false,
     "grade_id": "myfunction",
     "locked": false,
     "schema_version": 3,
     "solution": true
    }
   },
   "outputs": [],
   "source": [
    "import numpy as np\n",
    "import pandas as pd\n",
    "def myfunction():\n",
    "    # YOUR CODE HERE\n",
    "    data=pd.DataFrame(pd.read_csv('census.csv'))\n",
    "    data=data.groupby('STNAME').mean().sort_values(by='CENSUS2010POP',ascending=False) \n",
    "    l=[data.index[0],data.index[1],data.index[2],data.index[3],data.index[4]]\n",
    "    \n",
    "    #or: list(data.groupby('STNAME')['CENSUS2010POP'].mean().sort_values(ascending=False).index[:5])\n",
    "    \n",
    "    return l"
   ]
  },
  {
   "cell_type": "code",
   "execution_count": 28,
   "metadata": {
    "deletable": false,
    "editable": false,
    "nbgrader": {
     "cell_type": "code",
     "checksum": "9224ba284ce53d1f6119d19ca9e6133a",
     "grade": true,
     "grade_id": "myfunction_test1",
     "locked": true,
     "points": 0.5,
     "schema_version": 3,
     "solution": false
    }
   },
   "outputs": [],
   "source": [
    "import numpy as np\n",
    "import pandas as pd\n",
    "names=myfunction()\n",
    "assert names[0]=='California'\n",
    "assert names[1]=='District of Columbia'\n",
    "assert names[2]=='Massachusetts'\n",
    "assert names[3]=='Connecticut'\n",
    "assert names[4]=='Arizona'"
   ]
  }
 ],
 "metadata": {
  "kernelspec": {
   "display_name": "Python 3",
   "language": "python",
   "name": "python3"
  },
  "language_info": {
   "codemirror_mode": {
    "name": "ipython",
    "version": 3
   },
   "file_extension": ".py",
   "mimetype": "text/x-python",
   "name": "python",
   "nbconvert_exporter": "python",
   "pygments_lexer": "ipython3",
   "version": "3.6.9"
  }
 },
 "nbformat": 4,
 "nbformat_minor": 2
}
