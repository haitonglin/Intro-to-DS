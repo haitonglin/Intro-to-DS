{
 "cells": [
  {
   "cell_type": "markdown",
   "metadata": {},
   "source": [
    "Before you turn this problem in, make sure everything runs as expected. First, **restart the kernel** (in the menubar, select Kernel$\\rightarrow$Restart) and then **run all cells** (in the menubar, select Cell$\\rightarrow$Run All).\n",
    "\n",
    "Make sure you fill in any place that says `YOUR CODE HERE` or \"YOUR ANSWER HERE\", as well as your name and collaborators below:"
   ]
  },
  {
   "cell_type": "code",
   "execution_count": null,
   "metadata": {},
   "outputs": [],
   "source": [
    "NAME = \"Haitong Lin\"\n",
    "COLLABORATORS = \"\""
   ]
  },
  {
   "cell_type": "markdown",
   "metadata": {},
   "source": [
    "---"
   ]
  },
  {
   "cell_type": "markdown",
   "metadata": {
    "deletable": false,
    "editable": false,
    "nbgrader": {
     "cell_type": "markdown",
     "checksum": "388bf5352b10e7ff8cbf991559653504",
     "grade": false,
     "grade_id": "cell-9f1f9ac6cd7b8166",
     "locked": true,
     "schema_version": 3,
     "solution": false
    }
   },
   "source": [
    "Quiz 15, STATS102 Fall2019 Session 2, Duke Kunshan University, Nov 25th\n",
    "![](dku.jpg)\n",
    "For this problem set, we'll be using the Jupyter notebook:\n",
    "![](jupyter.png) "
   ]
  },
  {
   "cell_type": "markdown",
   "metadata": {
    "deletable": false,
    "editable": false,
    "nbgrader": {
     "cell_type": "markdown",
     "checksum": "85eede246fb03ad3815cc6f2560d1394",
     "grade": false,
     "grade_id": "cell-5449c5dd23252508",
     "locked": true,
     "schema_version": 3,
     "solution": false
    }
   },
   "source": [
    "Plot an exponential curve $exp(x)$ and a natural logarithm curve $ln(x)$ in a figure, and point out $(0,1)$ and $(1,0)$.\n",
    "\n",
    "![](quiz15.png) "
   ]
  },
  {
   "cell_type": "code",
   "execution_count": 87,
   "metadata": {
    "deletable": false,
    "nbgrader": {
     "cell_type": "code",
     "checksum": "216c2171ec0d8278983f22bbfbf3e8f9",
     "grade": false,
     "grade_id": "myfunction",
     "locked": false,
     "schema_version": 3,
     "solution": true
    }
   },
   "outputs": [],
   "source": [
    "%matplotlib inline\n",
    "import matplotlib.pyplot as plt\n",
    "import numpy as np\n",
    "\n",
    "def myplot():\n",
    "    # YOUR CODE HERE\n",
    "    plt.subplot(1,2,1)\n",
    "    x = np.linspace(-10, 10,10000)\n",
    "    plt.axis([-10, 10,-1000,25000]);\n",
    "    plt.plot(x, np.exp(x))\n",
    "    plt.xlabel(\"x1\")\n",
    "    plt.ylabel(\"exp(x1)\");\n",
    "    plt.title(\"A Exponential Curve\")\n",
    "    plt.annotate('(0,1)', xy=(0,1), xytext=(0,2500),\n",
    "                 arrowprops=dict(arrowstyle=\"->\", \n",
    "                                 connectionstyle=\"angle3,angleA=20,angleB=-90\"));\n",
    "\n",
    "    plt.subplot(1,2,2)\n",
    "    x = np.linspace(-13, 23,100000)\n",
    "    plt.axis([-2, 22, -10, 4]);\n",
    "    plt.plot(x, np.log(x))\n",
    "    plt.xlabel(\"x2\")\n",
    "    plt.ylabel(\"log(x2)\");\n",
    "    plt.title(\"A Logarithmic Curve\")\n",
    "    \n",
    "    plt.subplots_adjust(wspace=0.5)\n",
    "    \n",
    "    \n",
    "    return plt.show()"
   ]
  },
  {
   "cell_type": "code",
   "execution_count": 88,
   "metadata": {
    "deletable": false,
    "editable": false,
    "nbgrader": {
     "cell_type": "code",
     "checksum": "51836781fc5bca4ff0fc2a7003ccfd57",
     "grade": true,
     "grade_id": "myfunction_test1",
     "locked": true,
     "points": 0.5,
     "schema_version": 3,
     "solution": false,
     "task": false
    }
   },
   "outputs": [
    {
     "name": "stderr",
     "output_type": "stream",
     "text": [
      "/home/dku-dasc-01/anaconda3/lib/python3.6/site-packages/ipykernel_launcher.py:21: RuntimeWarning: invalid value encountered in log\n"
     ]
    },
    {
     "data": {
      "image/png": "[encoded data removed]",
      "text/plain": [
       "<Figure size 432x288 with 2 Axes>"
      ]
     },
     "metadata": {
      "needs_background": "light"
     },
     "output_type": "display_data"
    }
   ],
   "source": [
    "myplot()"
   ]
  },
  {
   "cell_type": "code",
   "execution_count": null,
   "metadata": {},
   "outputs": [],
   "source": []
  }
 ],
 "metadata": {
  "kernelspec": {
   "display_name": "Python 3",
   "language": "python",
   "name": "python3"
  },
  "language_info": {
   "codemirror_mode": {
    "name": "ipython",
    "version": 3
   },
   "file_extension": ".py",
   "mimetype": "text/x-python",
   "name": "python",
   "nbconvert_exporter": "python",
   "pygments_lexer": "ipython3",
   "version": "3.6.9"
  }
 },
 "nbformat": 4,
 "nbformat_minor": 2
}
