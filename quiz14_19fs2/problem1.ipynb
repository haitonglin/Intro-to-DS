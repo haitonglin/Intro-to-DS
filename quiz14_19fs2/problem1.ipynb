{
 "cells": [
  {
   "cell_type": "markdown",
   "metadata": {},
   "source": [
    "Before you turn this problem in, make sure everything runs as expected. First, **restart the kernel** (in the menubar, select Kernel$\\rightarrow$Restart) and then **run all cells** (in the menubar, select Cell$\\rightarrow$Run All).\n",
    "\n",
    "Make sure you fill in any place that says `YOUR CODE HERE` or \"YOUR ANSWER HERE\", as well as your name and collaborators below:"
   ]
  },
  {
   "cell_type": "code",
   "execution_count": null,
   "metadata": {},
   "outputs": [],
   "source": [
    "NAME = \"Haitong Lin\"\n",
    "COLLABORATORS = \"\""
   ]
  },
  {
   "cell_type": "markdown",
   "metadata": {},
   "source": [
    "---"
   ]
  },
  {
   "cell_type": "markdown",
   "metadata": {
    "deletable": false,
    "editable": false,
    "nbgrader": {
     "cell_type": "markdown",
     "checksum": "96525dbaeb4825cd28a0f6a85e26aaf7",
     "grade": false,
     "grade_id": "cell-9f1f9ac6cd7b8166",
     "locked": true,
     "schema_version": 3,
     "solution": false
    }
   },
   "source": [
    "Quiz 14, STATS102 Fall2019 Session 2, Duke Kunshan University, Nov 21th\n",
    "![](dku.jpg)\n",
    "For this problem set, we'll be using the Jupyter notebook:\n",
    "![](jupyter.png) "
   ]
  },
  {
   "cell_type": "markdown",
   "metadata": {
    "deletable": false,
    "editable": false,
    "nbgrader": {
     "cell_type": "markdown",
     "checksum": "db2d07853dbcc1033290f6df3489b1f5",
     "grade": false,
     "grade_id": "cell-5449c5dd23252508",
     "locked": true,
     "schema_version": 3,
     "solution": false
    }
   },
   "source": [
    "Load <b>london_merged.csv</b>, plot the figure for total counts of a new bike shares under different weather, and return the counts array in descending order.\n",
    "\n",
    "![](quiz14.jpg) \n",
    "\n",
    "Data Reference: https://www.kaggle.com/hmavrodiev/london-bike-sharing-dataset\n",
    "\n",
    "Weather Code Labels: {1: Clear, 2: Few clouds, 3: Broken clouds, 4: Cloudy, 7: Rain, 10: Rain with thunderstorm, 26: Snowfall}\n",
    "\n",
    "Markers: ['o', 'x', '+', 'v', '>', 's', 'd']"
   ]
  },
  {
   "cell_type": "code",
   "execution_count": 65,
   "metadata": {
    "deletable": false,
    "nbgrader": {
     "cell_type": "code",
     "checksum": "ebc03a89ba2b4eb673f6ebafe4326d73",
     "grade": false,
     "grade_id": "myfunction",
     "locked": false,
     "schema_version": 3,
     "solution": true
    }
   },
   "outputs": [],
   "source": [
    "%matplotlib inline\n",
    "import matplotlib.pyplot as plt\n",
    "import seaborn; seaborn.set()\n",
    "import pandas as pd\n",
    "import numpy as np\n",
    "\n",
    "def myfunction():\n",
    "    label = {1:'Clear', 2:'Few clouds', 3:'Broken clouds', 4:'Cloudy', 7:'Rain', 10:'Rain with thunderstorm', 26:'Snowfall'}\n",
    "    marker = ['o', 'x', '+', 'v', '>', 's', 'd']\n",
    "    # YOUR CODE HERE\n",
    "    df=pd.read_csv('london_merged.csv')\n",
    "    \n",
    "    weather_group=df.groupby('weather_code').sum()\n",
    "    \n",
    "    y=weather_group['cnt'].values\n",
    "    x=weather_group['cnt'].index.astype(int)\n",
    "    \n",
    "    for i in range(y.size):\n",
    "        plt.plot(x[i],y[i],marker[i],label=label[x[i]])\n",
    "    plt.legend()\n",
    "\n",
    "    plt.show\n",
    "        \n",
    "    return np.sort(y)[::-1]"
   ]
  },
  {
   "cell_type": "code",
   "execution_count": 67,
   "metadata": {
    "deletable": false,
    "editable": false,
    "nbgrader": {
     "cell_type": "code",
     "checksum": "be01b9a840550af7b09a8f7b11b81c75",
     "grade": true,
     "grade_id": "myfunction_test1",
     "locked": true,
     "points": 0.5,
     "schema_version": 3,
     "solution": false
    }
   },
   "outputs": [
    {
     "data": {
      "image/png": "[encoded data removed]",
      "text/plain": [
       "<Figure size 432x288 with 1 Axes>"
      ]
     },
     "metadata": {},
     "output_type": "display_data"
    }
   ],
   "source": [
    "assert (myfunction() == np.array([3651810, 3088392, 2083553, 773568, 522724, 6526, 2973])).all()"
   ]
  }
 ],
 "metadata": {
  "kernelspec": {
   "display_name": "Python 3",
   "language": "python",
   "name": "python3"
  },
  "language_info": {
   "codemirror_mode": {
    "name": "ipython",
    "version": 3
   },
   "file_extension": ".py",
   "mimetype": "text/x-python",
   "name": "python",
   "nbconvert_exporter": "python",
   "pygments_lexer": "ipython3",
   "version": "3.6.9"
  }
 },
 "nbformat": 4,
 "nbformat_minor": 2
}
