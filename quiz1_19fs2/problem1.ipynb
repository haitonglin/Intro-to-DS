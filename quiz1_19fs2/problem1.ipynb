{
 "cells": [
  {
   "cell_type": "markdown",
   "metadata": {},
   "source": [
    "Before you turn this problem in, make sure everything runs as expected. First, **restart the kernel** (in the menubar, select Kernel$\\rightarrow$Restart) and then **run all cells** (in the menubar, select Cell$\\rightarrow$Run All).\n",
    "\n",
    "Make sure you fill in any place that says `YOUR CODE HERE` or \"YOUR ANSWER HERE\", as well as your name and collaborators below:"
   ]
  },
  {
   "cell_type": "code",
   "execution_count": null,
   "metadata": {},
   "outputs": [],
   "source": [
    "NAME = \"Haitong Lin\"\n",
    "COLLABORATORS = \"\""
   ]
  },
  {
   "cell_type": "markdown",
   "metadata": {},
   "source": [
    "---"
   ]
  },
  {
   "cell_type": "markdown",
   "metadata": {
    "deletable": false,
    "editable": false,
    "nbgrader": {
     "cell_type": "markdown",
     "checksum": "04f8318f6019b2c7796d30fe5a6eedf1",
     "grade": false,
     "grade_id": "cell-9f1f9ac6cd7b8166",
     "locked": true,
     "schema_version": 3,
     "solution": false
    }
   },
   "source": [
    "Problem 1 of quiz 1, STATS102 Fall2019 Session 2, Duke Kunshan University, Oct 30th\n",
    "![](dku.jpg)\n",
    "For this problem set, we'll be using the Jupyter notebook:\n",
    "![](jupyter.png) "
   ]
  },
  {
   "cell_type": "markdown",
   "metadata": {},
   "source": [
    "write a function (myfunction) to test whether the input number is a negative even integer. Don't worry about the incorrect input, the n in testing is always an integer."
   ]
  },
  {
   "cell_type": "code",
   "execution_count": 20,
   "metadata": {
    "deletable": false,
    "nbgrader": {
     "cell_type": "code",
     "checksum": "f13db270308ca0cd1b7cc193e37244c3",
     "grade": false,
     "grade_id": "myfunction",
     "locked": false,
     "schema_version": 3,
     "solution": true
    }
   },
   "outputs": [],
   "source": [
    "def myfunction(n):\n",
    "    \"\"\"test whether the input number is a negative even integer. Don't worry about the incorrect input.\n",
    "    \"\"\"\n",
    "    # YOUR CODE HERE\n",
    "    #if n > 0 or n == 0:\n",
    "        #print ('False')\n",
    "        \n",
    "    #elif n%2 != 0:\n",
    "        #print ('False')\n",
    "        \n",
    "    #else: \n",
    "        #print ('True')\n",
    "        \n",
    "    return n < 0 and n%2 == 0\n",
    "\n",
    "#mistakes: not understanding differences between print and return\n"
   ]
  },
  {
   "cell_type": "code",
   "execution_count": 2,
   "metadata": {
    "deletable": false,
    "editable": false,
    "nbgrader": {
     "cell_type": "code",
     "checksum": "1a52556866f6abe75851340e539e0bc5",
     "grade": true,
     "grade_id": "income_correct_input",
     "locked": true,
     "points": 0.5,
     "schema_version": 3,
     "solution": false
    }
   },
   "outputs": [],
   "source": [
    "\"\"\"\n",
    "this is testing!\n",
    "Check that negative_even_int function returns the correct output for several inputs\"\"\"\n",
    "assert myfunction(0) == False\n",
    "assert myfunction(12) == False\n",
    "assert myfunction(-21) == False\n",
    "assert myfunction(-2) == True"
   ]
  }
 ],
 "metadata": {
  "kernelspec": {
   "display_name": "Python 3",
   "language": "python",
   "name": "python3"
  },
  "language_info": {
   "codemirror_mode": {
    "name": "ipython",
    "version": 3
   },
   "file_extension": ".py",
   "mimetype": "text/x-python",
   "name": "python",
   "nbconvert_exporter": "python",
   "pygments_lexer": "ipython3",
   "version": "3.7.4"
  }
 },
 "nbformat": 4,
 "nbformat_minor": 2
}
