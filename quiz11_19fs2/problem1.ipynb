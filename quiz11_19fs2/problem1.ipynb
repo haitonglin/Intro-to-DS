{
 "cells": [
  {
   "cell_type": "markdown",
   "metadata": {},
   "source": [
    "Before you turn this problem in, make sure everything runs as expected. First, **restart the kernel** (in the menubar, select Kernel$\\rightarrow$Restart) and then **run all cells** (in the menubar, select Cell$\\rightarrow$Run All).\n",
    "\n",
    "Make sure you fill in any place that says `YOUR CODE HERE` or \"YOUR ANSWER HERE\", as well as your name and collaborators below:"
   ]
  },
  {
   "cell_type": "code",
   "execution_count": null,
   "metadata": {},
   "outputs": [],
   "source": [
    "NAME = \"Haitong Lin\"\n",
    "COLLABORATORS = \"\""
   ]
  },
  {
   "cell_type": "markdown",
   "metadata": {},
   "source": [
    "---"
   ]
  },
  {
   "cell_type": "markdown",
   "metadata": {
    "deletable": false,
    "editable": false,
    "nbgrader": {
     "cell_type": "markdown",
     "checksum": "7600677939d948140f7755f46081e174",
     "grade": false,
     "grade_id": "cell-9f1f9ac6cd7b8166",
     "locked": true,
     "schema_version": 3,
     "solution": false
    }
   },
   "source": [
    "Problem 1 of quiz 11, STATS102 Fall2019 Session 2, Duke Kunshan University,Nov 18th\n",
    "![](dku.jpg)\n",
    "For this problem set, we'll be using the Jupyter notebook:\n",
    "![](jupyter.png) "
   ]
  },
  {
   "cell_type": "markdown",
   "metadata": {
    "deletable": false,
    "editable": false,
    "nbgrader": {
     "cell_type": "markdown",
     "checksum": "4c0a14036d08dff80727be39f39777b9",
     "grade": false,
     "grade_id": "cell-5449c5dd23252508",
     "locked": true,
     "schema_version": 3,
     "solution": false
    }
   },
   "source": [
    "Please create and return one DataFrame of name information for Puerto Rico shown as follows:\n",
    "\n",
    "![](Quiz11.png)\n",
    "\n",
    "Hint: pd.MultiIndex"
   ]
  },
  {
   "cell_type": "code",
   "execution_count": 22,
   "metadata": {
    "deletable": false,
    "nbgrader": {
     "cell_type": "code",
     "checksum": "4a4b9653477d9ae3055d74387a8cf81a",
     "grade": false,
     "grade_id": "myfunction",
     "locked": false,
     "schema_version": 3,
     "solution": true
    }
   },
   "outputs": [],
   "source": [
    "import numpy as np\n",
    "import pandas as pd\n",
    "\n",
    "def myfunction():\n",
    "    # YOUR CODE HERE\n",
    "    \n",
    "    data={(1998,'Paola'):724,(1998,'Genesis'):500,(2018,'Valentina'):241,(2018,'Victoria'):205}\n",
    "    df=pd.DataFrame(pd.Series(data))\n",
    "    df.columns=['Number of occurrences']\n",
    "    df.index.names=['Year','Name']\n",
    "    \n",
    "    return df"
   ]
  },
  {
   "cell_type": "code",
   "execution_count": 23,
   "metadata": {
    "deletable": false,
    "editable": false,
    "nbgrader": {
     "cell_type": "code",
     "checksum": "9b1c0d80d0645d6a073b12045235baca",
     "grade": true,
     "grade_id": "myfunction_test1",
     "locked": true,
     "points": 0.5,
     "schema_version": 3,
     "solution": false
    }
   },
   "outputs": [],
   "source": [
    "import numpy as np\n",
    "import pandas as pd\n",
    "\n",
    "name_cnt = myfunction()\n",
    "assert len(name_cnt.index.levels)==2\n",
    "assert len(name_cnt.index.names)==2\n",
    "assert len(name_cnt.columns)==1\n",
    "assert (name_cnt['Number of occurrences'] == [724,500,241,205]).all()"
   ]
  }
 ],
 "metadata": {
  "kernelspec": {
   "display_name": "Python 3",
   "language": "python",
   "name": "python3"
  },
  "language_info": {
   "codemirror_mode": {
    "name": "ipython",
    "version": 3
   },
   "file_extension": ".py",
   "mimetype": "text/x-python",
   "name": "python",
   "nbconvert_exporter": "python",
   "pygments_lexer": "ipython3",
   "version": "3.6.9"
  }
 },
 "nbformat": 4,
 "nbformat_minor": 2
}
