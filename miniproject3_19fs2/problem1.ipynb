{
 "cells": [
  {
   "cell_type": "markdown",
   "metadata": {},
   "source": [
    "Before you turn this problem in, make sure everything runs as expected. First, **restart the kernel** (in the menubar, select Kernel$\\rightarrow$Restart) and then **run all cells** (in the menubar, select Cell$\\rightarrow$Run All).\n",
    "\n",
    "Make sure you fill in any place that says `YOUR CODE HERE` or \"YOUR ANSWER HERE\", as well as your name and collaborators below:"
   ]
  },
  {
   "cell_type": "code",
   "execution_count": null,
   "metadata": {},
   "outputs": [],
   "source": [
    "NAME = \"Haitong Lin\"\n",
    "COLLABORATORS = \"\""
   ]
  },
  {
   "cell_type": "markdown",
   "metadata": {},
   "source": [
    "---"
   ]
  },
  {
   "cell_type": "markdown",
   "metadata": {
    "deletable": false,
    "editable": false,
    "nbgrader": {
     "cell_type": "markdown",
     "checksum": "c7d1ce4936d2d57da99ae3e679084ef9",
     "grade": false,
     "grade_id": "cell-9f1f9ac6cd7b8166",
     "locked": true,
     "schema_version": 3,
     "solution": false
    }
   },
   "source": [
    "Weekly mini-project 3, STATS102 Fall2019 Session 2, Duke Kunshan University, Due at Nov 18th 12:00pm Shanghai time\n",
    "![](dku.jpg)\n",
    "For this problem set, we'll be using the Jupyter notebook:\n",
    "![](jupyter.png) "
   ]
  },
  {
   "cell_type": "markdown",
   "metadata": {
    "deletable": false,
    "editable": false,
    "nbgrader": {
     "cell_type": "markdown",
     "checksum": "6cde6d09825fe3b80a7edbaa4025c383",
     "grade": false,
     "grade_id": "cell-08f6e1a2bef27fc9",
     "locked": true,
     "schema_version": 3,
     "solution": false,
     "task": false
    }
   },
   "source": [
    "The data used in this assignment is courtesy of the FIFA World Cup Archive website and Kaggle.\n",
    "\n",
    "Hint: pandas.DataFrame/Series.sort_values, pandas.Series.value_counts, pandas.DataFrame/Series.groupby\n",
    "\n",
    "(You may need to set parameters of functions for different conditions.)"
   ]
  },
  {
   "cell_type": "markdown",
   "metadata": {
    "deletable": false,
    "editable": false,
    "nbgrader": {
     "cell_type": "markdown",
     "checksum": "425f77543de1c81fa21b6018888f0d54",
     "grade": false,
     "grade_id": "cell-38c46d1897f33426",
     "locked": true,
     "schema_version": 3,
     "solution": false
    }
   },
   "source": [
    "# Problem 1 (0.5 point) \n",
    "\n",
    "Load `WorldCups.csv`, and return which country hosted the FIFA would cup with the highest attendance?  "
   ]
  },
  {
   "cell_type": "code",
   "execution_count": 63,
   "metadata": {
    "deletable": false,
    "nbgrader": {
     "cell_type": "code",
     "checksum": "d2a3e19b87a66c2b9338a30adb2a0f46",
     "grade": false,
     "grade_id": "cell-aa92e1fe55529a21",
     "locked": false,
     "schema_version": 3,
     "solution": true
    }
   },
   "outputs": [],
   "source": [
    "import numpy as np\n",
    "import pandas as pd\n",
    "\n",
    "def myfunction():\n",
    "    # YOUR CODE HERE\n",
    "    data=pd.read_csv('WorldCups.csv')\n",
    "    attend=data['Attendance'].str.replace('.','').astype(int)\n",
    "    attend1=attend.sort_values(ascending=False)\n",
    "    a=attend1.index[0]\n",
    "    return data['Country'].iloc[a]\n"
   ]
  },
  {
   "cell_type": "code",
   "execution_count": 65,
   "metadata": {
    "deletable": false,
    "editable": false,
    "nbgrader": {
     "cell_type": "code",
     "checksum": "6c622bda5c31cfb18bd1ca0b01bd49ce",
     "grade": true,
     "grade_id": "cell-151ed5ef3976c3f2",
     "locked": true,
     "points": 0.5,
     "schema_version": 3,
     "solution": false
    }
   },
   "outputs": [],
   "source": [
    "assert myfunction()=='USA'"
   ]
  },
  {
   "cell_type": "markdown",
   "metadata": {
    "deletable": false,
    "editable": false,
    "nbgrader": {
     "cell_type": "markdown",
     "checksum": "f2426617da79c6505688875eb7e262c5",
     "grade": false,
     "grade_id": "cell-4154cd60e37df870",
     "locked": true,
     "schema_version": 3,
     "solution": false
    }
   },
   "source": [
    "# Problem 2 (0.5 point) \n",
    "\n",
    "Load `WorldCupMatches.csv`, and return the ratio of home team win.\n",
    "\n",
    "You need to drop duplicate lines."
   ]
  },
  {
   "cell_type": "code",
   "execution_count": 263,
   "metadata": {
    "deletable": false,
    "nbgrader": {
     "cell_type": "code",
     "checksum": "0e025448ccb086735ba7d052a31a480c",
     "grade": false,
     "grade_id": "cell-f87e606e70b0434b",
     "locked": false,
     "schema_version": 3,
     "solution": true
    }
   },
   "outputs": [],
   "source": [
    "import numpy as np\n",
    "import pandas as pd\n",
    "\n",
    "def myfunction():\n",
    "    # YOUR CODE HERE\n",
    "    data=pd.read_csv('WorldCupMatches.csv')\n",
    "    data=data.dropna()\n",
    "    df=pd.DataFrame(data)\n",
    "    num1=np.sum(data['Home Team Goals']>data['Away Team Goals'])\n",
    "    num2=len(df.index)\n",
    "    return num1/num2"
   ]
  },
  {
   "cell_type": "code",
   "execution_count": 264,
   "metadata": {
    "deletable": false,
    "editable": false,
    "nbgrader": {
     "cell_type": "code",
     "checksum": "be3f1a630470e4e142851800b212da89",
     "grade": true,
     "grade_id": "cell-6c1d09ae5ed14ee6",
     "locked": true,
     "points": 0.5,
     "schema_version": 3,
     "solution": false
    }
   },
   "outputs": [],
   "source": [
    "assert abs(myfunction()-0.572)<0.01"
   ]
  },
  {
   "cell_type": "markdown",
   "metadata": {
    "deletable": false,
    "editable": false,
    "nbgrader": {
     "cell_type": "markdown",
     "checksum": "f4643149fad6a2bcd2ae283609759b2a",
     "grade": false,
     "grade_id": "cell-b937159b1ec4021a",
     "locked": true,
     "schema_version": 3,
     "solution": false,
     "task": false
    }
   },
   "source": [
    "# Problem 3 (0.5 point) \n",
    "\n",
    "Read `TerritoryReadMe.pdf` first to learn about the data in `PR.txt` and `TR.txt`.\n",
    "\n",
    "Calulate the total number of occurrences of name $Aaliyah$ in Puerto Rico from 1998 to 2010."
   ]
  },
  {
   "cell_type": "code",
   "execution_count": 265,
   "metadata": {
    "deletable": false,
    "nbgrader": {
     "cell_type": "code",
     "checksum": "960199d0cd25205a478eb823359b7785",
     "grade": false,
     "grade_id": "cell-5ffe97bd0fecf8d8",
     "locked": false,
     "schema_version": 3,
     "solution": true,
     "task": false
    }
   },
   "outputs": [],
   "source": [
    "import numpy as np\n",
    "import pandas as pd\n",
    "\n",
    "def cnt_Aaliyah():\n",
    "    # YOUR CODE HERE\n",
    "    data=pd.read_csv('PR.txt')\n",
    "    df=pd.DataFrame(data)\n",
    "    df=df.loc[df['Paola']=='Aaliyah']\n",
    "    a=df.loc[df['1998'].isin(['1998','2001','2002','2003','2004','2005','2006','2007','2008','2009','2010'])]\n",
    "    return np.sum(a['724'])"
   ]
  },
  {
   "cell_type": "code",
   "execution_count": 266,
   "metadata": {
    "deletable": false,
    "editable": false,
    "nbgrader": {
     "cell_type": "code",
     "checksum": "f98401b239dd67ddb7e40eda753ce114",
     "grade": true,
     "grade_id": "cell-7715966e4288b04c",
     "locked": true,
     "points": 0.5,
     "schema_version": 3,
     "solution": false,
     "task": false
    }
   },
   "outputs": [],
   "source": [
    "assert cnt_Aaliyah() == 165"
   ]
  },
  {
   "cell_type": "markdown",
   "metadata": {
    "deletable": false,
    "editable": false,
    "nbgrader": {
     "cell_type": "markdown",
     "checksum": "0f47f62ace039a40d5b02d6f6f787c09",
     "grade": false,
     "grade_id": "cell-524314f53486b181",
     "locked": true,
     "schema_version": 3,
     "solution": false,
     "task": false
    }
   },
   "source": [
    "# Problem 4 (0.5 point) \n",
    "\n",
    "Read `TerritoryReadMe.pdf` first to learn about the data in `PR.txt` and `TR.txt`.\n",
    "\n",
    "In Puerto Rico and all other territories, find there are how many different names."
   ]
  },
  {
   "cell_type": "code",
   "execution_count": 395,
   "metadata": {
    "deletable": false,
    "nbgrader": {
     "cell_type": "code",
     "checksum": "91473193a95da39fe9abdc2b37597bf9",
     "grade": false,
     "grade_id": "cell-a88656ebc53cd614",
     "locked": false,
     "schema_version": 3,
     "solution": true,
     "task": false
    }
   },
   "outputs": [],
   "source": [
    "import numpy as np\n",
    "import pandas as pd\n",
    "\n",
    "def cnt_names():\n",
    "    # YOUR CODE HERE\n",
    "    data1=pd.read_csv('PR.txt')\n",
    "    n=data1['Paola'].value_counts()\n",
    "    \n",
    "    data2=pd.read_csv('TR.txt')\n",
    "    m=data2['Gabrielle'].value_counts()\n",
    "    \n",
    "    return len(m+n)"
   ]
  },
  {
   "cell_type": "code",
   "execution_count": 396,
   "metadata": {
    "deletable": false,
    "editable": false,
    "nbgrader": {
     "cell_type": "code",
     "checksum": "8835a0a66d1467d89f854cb2d30e3a53",
     "grade": true,
     "grade_id": "cell-2ef987bb4ebc53bf",
     "locked": true,
     "points": 0.5,
     "schema_version": 3,
     "solution": false,
     "task": false
    }
   },
   "outputs": [],
   "source": [
    "assert cnt_names() == 3179"
   ]
  },
  {
   "cell_type": "markdown",
   "metadata": {
    "deletable": false,
    "editable": false,
    "nbgrader": {
     "cell_type": "markdown",
     "checksum": "84ffd93345f36cf16ae7a23830fcb053",
     "grade": false,
     "grade_id": "cell-d3dbd52144cc2386",
     "locked": true,
     "schema_version": 3,
     "solution": false,
     "task": false
    }
   },
   "source": [
    "# Problem 5 (0.5 point) \n",
    "\n",
    "Read `TerritoryReadMe.pdf` first to learn about the data in `PR.txt` and `TR.txt`.\n",
    "\n",
    "In Puerto Rico and all other territories, calculate the number of occurrences of the start letter of the name, return the top 3 letters in a list."
   ]
  },
  {
   "cell_type": "code",
   "execution_count": 417,
   "metadata": {
    "deletable": false,
    "nbgrader": {
     "cell_type": "code",
     "checksum": "aa9605a252660a925dea33288059f720",
     "grade": false,
     "grade_id": "cell-a08eb62f029129ba",
     "locked": false,
     "schema_version": 3,
     "solution": true,
     "task": false
    }
   },
   "outputs": [],
   "source": [
    "import numpy as np\n",
    "import pandas as pd\n",
    "import re\n",
    "\n",
    "def find_letters():\n",
    "    # YOUR CODE HERE\n",
    "    pr=pd.DataFrame(pd.read_csv('PR.txt'))\n",
    "    tr=pd.DataFrame(pd.read_csv('TR.txt'))\n",
    "    tr.columns=['region','sex','year','name','times']\n",
    "    a=np.sum(pr.iloc[:,3])\n",
    "    b=np.sum(tr.iloc[:,3])\n",
    "    i=re.findall('[A-Z]',a+b)\n",
    "    num=pd.value_counts(i)\n",
    "    out=[num.index[0],num.index[1],num.index[2]]\n",
    "    \n",
    "    return out"
   ]
  },
  {
   "cell_type": "code",
   "execution_count": 418,
   "metadata": {
    "deletable": false,
    "editable": false,
    "nbgrader": {
     "cell_type": "code",
     "checksum": "2fc294f9111c9989b47878cee911fa74",
     "grade": true,
     "grade_id": "cell-f325580aaca09688",
     "locked": true,
     "points": 0.5,
     "schema_version": 3,
     "solution": false,
     "task": false
    }
   },
   "outputs": [],
   "source": [
    "assert find_letters() == ['J', 'A', 'K']"
   ]
  },
  {
   "cell_type": "markdown",
   "metadata": {
    "deletable": false,
    "editable": false,
    "nbgrader": {
     "cell_type": "markdown",
     "checksum": "9395d9d18a1694e7cb9a0505246fd38e",
     "grade": false,
     "grade_id": "cell-df5bfe8e3026ac7e",
     "locked": true,
     "schema_version": 3,
     "solution": false,
     "task": false
    }
   },
   "source": [
    "# Problem 6 (0.5 point) \n",
    "\n",
    "Given the data of Chipotle Restaurant in `chipotle.tsv`, find the most-ordered item."
   ]
  },
  {
   "cell_type": "code",
   "execution_count": 285,
   "metadata": {
    "deletable": false,
    "nbgrader": {
     "cell_type": "code",
     "checksum": "34d93410b16bf84f4643aa6a658a5628",
     "grade": false,
     "grade_id": "cell-540b4be0ff74bcac",
     "locked": false,
     "schema_version": 3,
     "solution": true,
     "task": false
    }
   },
   "outputs": [],
   "source": [
    "import numpy as np\n",
    "import pandas as pd\n",
    "\n",
    "def find_item():\n",
    "    # YOUR CODE HERE\n",
    "    data=pd.read_csv('chipotle.tsv',sep='\\t')\n",
    "    n=data['item_name'].value_counts()\n",
    "    return n.index[0]"
   ]
  },
  {
   "cell_type": "code",
   "execution_count": 286,
   "metadata": {
    "deletable": false,
    "editable": false,
    "nbgrader": {
     "cell_type": "code",
     "checksum": "089975439cfd22e34abf193fd35fc3de",
     "grade": true,
     "grade_id": "cell-f8e3093630f197a9",
     "locked": true,
     "points": 0.5,
     "schema_version": 3,
     "solution": false,
     "task": false
    }
   },
   "outputs": [],
   "source": [
    "assert find_item() == 'Chicken Bowl'"
   ]
  }
 ],
 "metadata": {
  "kernelspec": {
   "display_name": "Python 3",
   "language": "python",
   "name": "python3"
  },
  "language_info": {
   "codemirror_mode": {
    "name": "ipython",
    "version": 3
   },
   "file_extension": ".py",
   "mimetype": "text/x-python",
   "name": "python",
   "nbconvert_exporter": "python",
   "pygments_lexer": "ipython3",
   "version": "3.6.9"
  }
 },
 "nbformat": 4,
 "nbformat_minor": 2
}
