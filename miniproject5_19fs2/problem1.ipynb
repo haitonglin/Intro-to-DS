{
 "cells": [
  {
   "cell_type": "markdown",
   "metadata": {},
   "source": [
    "Before you turn this problem in, make sure everything runs as expected. First, **restart the kernel** (in the menubar, select Kernel$\\rightarrow$Restart) and then **run all cells** (in the menubar, select Cell$\\rightarrow$Run All).\n",
    "\n",
    "Make sure you fill in any place that says `YOUR CODE HERE` or \"YOUR ANSWER HERE\", as well as your name and collaborators below:"
   ]
  },
  {
   "cell_type": "code",
   "execution_count": null,
   "metadata": {},
   "outputs": [],
   "source": [
    "NAME = \"Haitong Lin\"\n",
    "COLLABORATORS = \"\""
   ]
  },
  {
   "cell_type": "markdown",
   "metadata": {},
   "source": [
    "---"
   ]
  },
  {
   "cell_type": "markdown",
   "metadata": {
    "deletable": false,
    "editable": false,
    "nbgrader": {
     "cell_type": "markdown",
     "checksum": "44e10da94f016b3cbc440499a58760d6",
     "grade": false,
     "grade_id": "cell-2f91abd82cd4ee26",
     "locked": true,
     "schema_version": 3,
     "solution": false
    }
   },
   "source": [
    "Weekly mini-project 5, STATS102 Fall2019 Session 2, Duke Kunshan University, Due at Dec 2th 12:00pm Shanghai time\n",
    "![](dku.jpg)\n",
    "For this problem set, we'll be using the Jupyter notebook:\n",
    "![](jupyter.png) "
   ]
  },
  {
   "cell_type": "markdown",
   "metadata": {
    "deletable": false,
    "editable": false,
    "nbgrader": {
     "cell_type": "markdown",
     "checksum": "4fb83276d7b544a1868bac6078cd4848",
     "grade": false,
     "grade_id": "cell-9fb6e3d35df09687",
     "locked": true,
     "schema_version": 3,
     "solution": false
    }
   },
   "source": [
    "# Problem 1\n",
    "\n",
    "Consider n people who are attending a class and n is smaller than 200. We assume that every person has an equal probability of being born on any day during the year, independently of everyone else, and ignore the additional complication presented by leap years (i.e., nobody is born on February 29, we have 365 days for one year). \n",
    "\n",
    "What is the probability that for all n people each person has a distinct birthday? Please calcuate the P(n) and plot the P(n) against n to visualize the trend."
   ]
  },
  {
   "cell_type": "code",
   "execution_count": 1,
   "metadata": {
    "deletable": false,
    "nbgrader": {
     "cell_type": "code",
     "checksum": "8efd8eeae8fad29e6232f6f85a586076",
     "grade": false,
     "grade_id": "cell-3f9c4eba7afdf985",
     "locked": false,
     "schema_version": 3,
     "solution": true,
     "task": false
    }
   },
   "outputs": [],
   "source": [
    "%matplotlib inline\n",
    "import numpy as np\n",
    "from math import factorial\n",
    "import matplotlib.pyplot as plt\n",
    "\n",
    "def myfunction1():\n",
    "    # YOUR CODE HERE\n",
    "    n=np.random.randint(1,200)\n",
    "    p=1\n",
    "    nlist=[]\n",
    "    plist=[]\n",
    "    for n in range(2,200):\n",
    "        p=((366-n)/365)*p       \n",
    "        nlist.append(n)\n",
    "        plist.append(p)\n",
    "        \n",
    "    plt.plot(nlist,plist)\n",
    "    plt.xlim(1,200)\n",
    "    plt.xlabel('n')\n",
    "    plt.ylim(-0.1,1.1)\n",
    "    plt.ylabel('P(n)')\n",
    "    plt.title('probability that for all n people each person has a distinct birthday')\n",
    "    plt.show()\n",
    "    return p"
   ]
  },
  {
   "cell_type": "code",
   "execution_count": 2,
   "metadata": {
    "deletable": false,
    "editable": false,
    "nbgrader": {
     "cell_type": "code",
     "checksum": "36e4c91b0298e09f01bd81ee0ec738a9",
     "grade": false,
     "grade_id": "cell-7027136f9cf25ce6",
     "locked": true,
     "schema_version": 3,
     "solution": false,
     "task": false
    }
   },
   "outputs": [
    {
     "data": {
      "image/png": "[encoded data removed]",
      "text/plain": [
       "<Figure size 432x288 with 1 Axes>"
      ]
     },
     "metadata": {
      "needs_background": "light"
     },
     "output_type": "display_data"
    },
    {
     "data": {
      "text/plain": [
       "3.540336230356526e-30"
      ]
     },
     "execution_count": 2,
     "metadata": {},
     "output_type": "execute_result"
    }
   ],
   "source": [
    "myfunction1()"
   ]
  },
  {
   "cell_type": "markdown",
   "metadata": {
    "deletable": false,
    "editable": false,
    "nbgrader": {
     "cell_type": "markdown",
     "checksum": "91d7458765cdc4fcc9c2c23a29dedef8",
     "grade": false,
     "grade_id": "cell-6ebc9944f993ba3d",
     "locked": true,
     "schema_version": 3,
     "solution": false,
     "task": false
    }
   },
   "source": [
    "You can write your explanation below:"
   ]
  },
  {
   "cell_type": "markdown",
   "metadata": {
    "deletable": false,
    "nbgrader": {
     "cell_type": "markdown",
     "checksum": "ee52dd8481efc220eeba2380b0fab821",
     "grade": true,
     "grade_id": "cell-6a4cb5ea23b5141d",
     "locked": false,
     "points": 0.2,
     "schema_version": 3,
     "solution": true,
     "task": false
    }
   },
   "source": [
    "YOUR ANSWER HERE\n",
    "\n",
    "The probability of an event is given by\n",
    "\n",
    "P=num of restricted combinations/num of unrestricted combinations\n",
    "\n",
    "In this problem, \n",
    "\n",
    "num of restricted combinations=P(365,n)\n",
    "\n",
    "num of unrestricted combinations=365^n\n",
    "\n",
    "Therefore,\n",
    "\n",
    "P(n)=P(365,n)/365^n\n",
    "\n",
    "Or as the method used in the code above:\n",
    "\n",
    "when n=1, p=1; when n=2,p=p*(364/365).......so when n=n, p=p=((366-n)/365)*p\n",
    "\n",
    "The calculation result is in above"
   ]
  },
  {
   "cell_type": "markdown",
   "metadata": {
    "deletable": false,
    "editable": false,
    "nbgrader": {
     "cell_type": "markdown",
     "checksum": "537bfae3f88dcbfc0f24d0fdbce37052",
     "grade": false,
     "grade_id": "cell-20019d91c5602fbc",
     "locked": true,
     "schema_version": 3,
     "solution": false
    }
   },
   "source": [
    "# Problem 2\n",
    "\n",
    "Draw the top 7 cards from a well-shuffled standard 52-card deck. Find the probability that the 7 cards include exactly 3 Kings.\n",
    "\n",
    "Pleaes solve it mathmatically and also use comptuer simulation to prove your solution."
   ]
  },
  {
   "cell_type": "code",
   "execution_count": 58,
   "metadata": {
    "deletable": false,
    "nbgrader": {
     "cell_type": "code",
     "checksum": "81e2a715293c52b6bc812d199d7e03d4",
     "grade": false,
     "grade_id": "cell-19afa7f41b81faac",
     "locked": false,
     "schema_version": 3,
     "solution": true,
     "task": false
    }
   },
   "outputs": [
    {
     "data": {
      "text/plain": [
       "0.005817711700064641"
      ]
     },
     "execution_count": 58,
     "metadata": {},
     "output_type": "execute_result"
    }
   ],
   "source": [
    "from math import factorial\n",
    "from scipy.special import comb\n",
    "\n",
    "def myfunction2_1():\n",
    "    '''theoretical answer, please illustrate how you calculate the answer'''\n",
    "    # YOUR CODE HERE\n",
    "    return (comb(48,4)*comb(4,3))/comb(52,7)\n",
    "\n",
    "myfunction2_1()"
   ]
  },
  {
   "cell_type": "markdown",
   "metadata": {
    "deletable": false,
    "editable": false,
    "nbgrader": {
     "cell_type": "markdown",
     "checksum": "3f485076e0c778b2734ea3f591e2df51",
     "grade": false,
     "grade_id": "cell-65c40f0825db7609",
     "locked": true,
     "schema_version": 3,
     "solution": false,
     "task": false
    }
   },
   "source": [
    "You can write your explanation below:"
   ]
  },
  {
   "cell_type": "markdown",
   "metadata": {
    "deletable": false,
    "nbgrader": {
     "cell_type": "markdown",
     "checksum": "64759313763fbd79a25cf44d0c1b0131",
     "grade": true,
     "grade_id": "cell-6db7e43d925d4f51",
     "locked": false,
     "points": 0.2,
     "schema_version": 3,
     "solution": true,
     "task": false
    }
   },
   "source": [
    "YOUR ANSWER HERE\n",
    "\n",
    "The probability of an event is given by\n",
    "\n",
    "P=num of restricted combinations/num of unrestricted combinations\n",
    "\n",
    "In this problem, \n",
    "\n",
    "num of restricted combinations=C(4,3)*C(48,4)=778320 (indicating that 3 cards are from the kings and the 4 others are from the rest)\n",
    "\n",
    "num of unrestricted combinations=C(52,7)=133784560\n",
    "\n",
    "Therefore,\n",
    "\n",
    "P=(C(4,3)*C(48,4))/C(52,7)=0.0058"
   ]
  },
  {
   "cell_type": "code",
   "execution_count": 3,
   "metadata": {
    "deletable": false,
    "nbgrader": {
     "cell_type": "code",
     "checksum": "36c8d93279ec1aba4c6db632f0371812",
     "grade": false,
     "grade_id": "cell-b1ebe6f96cfe8dfa",
     "locked": false,
     "schema_version": 3,
     "solution": true,
     "task": false
    }
   },
   "outputs": [],
   "source": [
    "import numpy as np\n",
    "\n",
    "def myfunction2_2():\n",
    "    '''simulation answer, please write codes to simulate the random experiments and calculate the answer'''\n",
    "    # YOUR CODE HERE\n",
    "    count=0\n",
    "    N=100000\n",
    "    kings=[1,2,3,4]\n",
    "    \n",
    "    for t in range(N):\n",
    "        k=0\n",
    "        cards=np.arange(1,53)\n",
    "        np.random.shuffle(cards)\n",
    "        cards=cards[:7]\n",
    "        for i in range(7):\n",
    "            if cards[i] in kings:\n",
    "                k+=1\n",
    "        if k==3:\n",
    "            count+=1\n",
    "    return count/N"
   ]
  },
  {
   "cell_type": "code",
   "execution_count": 4,
   "metadata": {
    "deletable": false,
    "editable": false,
    "nbgrader": {
     "cell_type": "code",
     "checksum": "b54582955c83a8fca848d5e02fbd4dfa",
     "grade": false,
     "grade_id": "cell-fe203844d01ef8c0",
     "locked": true,
     "schema_version": 3,
     "solution": false,
     "task": false
    }
   },
   "outputs": [
    {
     "data": {
      "text/plain": [
       "0.00593"
      ]
     },
     "execution_count": 4,
     "metadata": {},
     "output_type": "execute_result"
    }
   ],
   "source": [
    "myfunction2_2()"
   ]
  },
  {
   "cell_type": "code",
   "execution_count": null,
   "metadata": {
    "deletable": false,
    "editable": false,
    "nbgrader": {
     "cell_type": "code",
     "checksum": "fa863c45679567f735fa674a9e644aef",
     "grade": true,
     "grade_id": "cell-a2cdb2dc97a04658",
     "locked": true,
     "points": 0.2,
     "schema_version": 3,
     "solution": false,
     "task": false
    }
   },
   "outputs": [],
   "source": [
    "\"\"\"Check functions return the correct answer.\"\"\""
   ]
  },
  {
   "cell_type": "markdown",
   "metadata": {
    "deletable": false,
    "editable": false,
    "nbgrader": {
     "cell_type": "markdown",
     "checksum": "1e232313a777d467fadee167da834366",
     "grade": false,
     "grade_id": "cell-630a4fd85a6f2005",
     "locked": true,
     "schema_version": 3,
     "solution": false
    }
   },
   "source": [
    "# Problem 3\n",
    "\n",
    "Using simulation to estimate the area under the graph of $y = 1/(x + 1)$ in the unit square ($x \\in [0,1],y \\in [0,1]$) in the same way as in Fig 2.3 (textbook page 44). \n",
    "\n",
    "Calculate the true value of this area and use your simulation results to estimate the value of log 2. How accurate is your estimate?"
   ]
  },
  {
   "cell_type": "code",
   "execution_count": 251,
   "metadata": {
    "deletable": false,
    "nbgrader": {
     "cell_type": "code",
     "checksum": "ca0a81898f4627ebaeae604445b9736b",
     "grade": false,
     "grade_id": "cell-f37ca709e4028dd7",
     "locked": false,
     "schema_version": 3,
     "solution": true,
     "task": false
    }
   },
   "outputs": [],
   "source": [
    "%matplotlib inline\n",
    "import numpy as np\n",
    "import matplotlib.pyplot as plt\n",
    "\n",
    "def myfunction3():\n",
    "    '''simulation answer, please write codes to simulate the random experiments, plot the figure and return the estimate of the area'''\n",
    "    # YOUR CODE HERE\n",
    "    n=2000\n",
    "    count=0\n",
    "    area=1\n",
    "    N=np.arange(0,1.5,0.1)\n",
    "    plt.plot(N,1/(N+1))\n",
    "    plt.plot([0,1,1,0,0],[1,1,0,0,1])\n",
    "    a=np.arange(0,1.1,0.1)\n",
    "    plt.fill_between(a,1/(a+1))\n",
    "    for i in range(n):\n",
    "        x=np.random.uniform(0,1)\n",
    "        y=np.random.uniform(0,1)\n",
    "        plt.scatter(x,y,s=3,c='black',alpha=0.3)\n",
    "        if y<=1/(x+1):\n",
    "            count+=1\n",
    "    \n",
    "    plt.show()\n",
    "    return area*(count/n)"
   ]
  },
  {
   "cell_type": "code",
   "execution_count": 252,
   "metadata": {
    "deletable": false,
    "editable": false,
    "nbgrader": {
     "cell_type": "code",
     "checksum": "8883a5feaef472b72d688358fba29587",
     "grade": false,
     "grade_id": "cell-d9b9036b623cc593",
     "locked": true,
     "schema_version": 3,
     "solution": false,
     "task": false
    }
   },
   "outputs": [
    {
     "data": {
      "image/png": "[encoded data removed]",
      "text/plain": [
       "<Figure size 432x288 with 1 Axes>"
      ]
     },
     "metadata": {
      "needs_background": "light"
     },
     "output_type": "display_data"
    },
    {
     "data": {
      "text/plain": [
       "0.697"
      ]
     },
     "execution_count": 252,
     "metadata": {},
     "output_type": "execute_result"
    }
   ],
   "source": [
    "myfunction3()"
   ]
  },
  {
   "cell_type": "markdown",
   "metadata": {
    "deletable": false,
    "editable": false,
    "nbgrader": {
     "cell_type": "markdown",
     "checksum": "e24992eaff2d31089d1c9516e068088d",
     "grade": false,
     "grade_id": "cell-4c6f3fbd2fa09bfd",
     "locked": true,
     "schema_version": 3,
     "solution": false,
     "task": false
    }
   },
   "source": [
    "The true value of this area:"
   ]
  },
  {
   "cell_type": "markdown",
   "metadata": {
    "deletable": false,
    "nbgrader": {
     "cell_type": "markdown",
     "checksum": "dd815296e589b5d343d41b598c720ef8",
     "grade": true,
     "grade_id": "cell-e223c6c3fbe7a94b",
     "locked": false,
     "points": 0.2,
     "schema_version": 3,
     "solution": true,
     "task": false
    }
   },
   "source": [
    "YOUR ANSWER HERE\n",
    "\n",
    "The true value of this area is the integration of y=1/(1+x) from 0 to 1, which is ln2-ln1=ln2=0.69"
   ]
  },
  {
   "cell_type": "code",
   "execution_count": 112,
   "metadata": {},
   "outputs": [
    {
     "data": {
      "text/plain": [
       "0.6931471805599453"
      ]
     },
     "execution_count": 112,
     "metadata": {},
     "output_type": "execute_result"
    }
   ],
   "source": [
    "np.log(2)"
   ]
  },
  {
   "cell_type": "markdown",
   "metadata": {
    "deletable": false,
    "editable": false,
    "nbgrader": {
     "cell_type": "markdown",
     "checksum": "407e5dabc333e870915744c9978d729f",
     "grade": false,
     "grade_id": "cell-a524573ac97ca8f8",
     "locked": true,
     "schema_version": 3,
     "solution": false,
     "task": false
    }
   },
   "source": [
    "How accurate is your estimate?"
   ]
  },
  {
   "cell_type": "markdown",
   "metadata": {
    "deletable": false,
    "nbgrader": {
     "cell_type": "markdown",
     "checksum": "2f089a8357cc6aab22b7f49f1ae7580b",
     "grade": true,
     "grade_id": "cell-86054e1071e6ab59",
     "locked": false,
     "points": 0.1,
     "schema_version": 3,
     "solution": true,
     "task": false
    }
   },
   "source": [
    "YOUR ANSWER HERE\n",
    "\n",
    "i think my esitmation is fairly accurate because the error is smaller than 0.01. I believe that my estimation will be even more accurate if we scale up the number of trials (but I didn't do it because it would take took much time to load the graph)."
   ]
  },
  {
   "cell_type": "markdown",
   "metadata": {
    "deletable": false,
    "editable": false,
    "nbgrader": {
     "cell_type": "markdown",
     "checksum": "55f97250025759dfe413545b4312ffac",
     "grade": false,
     "grade_id": "cell-7aa46e9fcb29e21d",
     "locked": true,
     "schema_version": 3,
     "solution": false
    }
   },
   "source": [
    "# Problem 4\n",
    "\n",
    "Simulate the Monty Hall problem (textbook page 136 example 4.6). Carefully state any assumptions that you have made when writing the program, and use annotation to explain each line of your code."
   ]
  },
  {
   "cell_type": "code",
   "execution_count": 15,
   "metadata": {
    "deletable": false,
    "nbgrader": {
     "cell_type": "code",
     "checksum": "15f4e1987ae5a2daff49b32e7d02f458",
     "grade": false,
     "grade_id": "cell-6ae614828fab328c",
     "locked": false,
     "schema_version": 3,
     "solution": true,
     "task": false
    },
    "scrolled": true
   },
   "outputs": [
    {
     "data": {
      "text/plain": [
       "[0.6646, 0.3354]"
      ]
     },
     "execution_count": 15,
     "metadata": {},
     "output_type": "execute_result"
    }
   ],
   "source": [
    "import numpy as np\n",
    "def myfunction4():\n",
    "    # YOUR CODE HERE\n",
    "    N=10000                  #set the number of trials to be 10000\n",
    "    n=0                      #set n to be the number of times the contestant wins if switched\n",
    "    c=0                      #set c to be the number of times the contestant wins if not switched\n",
    "    for i in range(N):\n",
    "        l=[0,0,1]            #0 means goal and 1 means the care\n",
    "        np.random.shuffle(l) #randomly get a result, and the position of the list represents the order of doors\n",
    "        a=l[0]               #a means the result that the contestant got (before switching)\n",
    "        rest=l[1:]           #rest means the results left\n",
    "        rest.remove(0)       #because monty opens a door with goat, so we remove a 0 from rest\n",
    "        if 1 in rest:        #now the rest only contains one element, which will be the result if switched\n",
    "            n+=1             #count the times if the car is the result\n",
    "        else:\n",
    "            c+=1             #count the times if it's not the car (means that winning when not switching)\n",
    "    return [n/N,c/N]         #the first result is the probability of winning when switching,\n",
    "                             #the second one is the probability of winning when not switching\n",
    "myfunction4() "
   ]
  },
  {
   "cell_type": "markdown",
   "metadata": {
    "deletable": false,
    "editable": false,
    "nbgrader": {
     "cell_type": "markdown",
     "checksum": "d3f69ac17818bc0460d436ebe3c59d1b",
     "grade": false,
     "grade_id": "cell-bca9cc6d39a4b8a0",
     "locked": true,
     "schema_version": 3,
     "solution": false,
     "task": false
    }
   },
   "source": [
    "You can write your explanation below:"
   ]
  },
  {
   "cell_type": "markdown",
   "metadata": {},
   "source": [
    "![](P4.jpg)"
   ]
  },
  {
   "cell_type": "markdown",
   "metadata": {
    "deletable": false,
    "nbgrader": {
     "cell_type": "markdown",
     "checksum": "0fc55b3c2ebda7d126d83e080c326e0e",
     "grade": true,
     "grade_id": "cell-b93ca84dfb2918fc",
     "locked": false,
     "points": 0.5,
     "schema_version": 3,
     "solution": true,
     "task": false
    }
   },
   "source": [
    "YOUR ANSWER HERE\n",
    "\n",
    "The monty hall problem is a conditional probability problem, and according to the figure above\n",
    "\n",
    "If the contestant don't switch his/her option for doors, the path possibility is:\n",
    "\n",
    "P1=(1/3)* (1/3) * (1/2)=1/18\n",
    "\n",
    "If the contestant change his/her opition, the path possibility is:\n",
    "\n",
    "P2=(1/3)* (1/3)* 1=1/9\n",
    "\n",
    "Since in our situation we only have these two paths, which means P1+P2=1\n",
    "\n",
    "So P1=1/3, P2=2/3\n",
    "\n",
    "The simulation results is above and the explanation of my code is in the annotation above"
   ]
  },
  {
   "cell_type": "markdown",
   "metadata": {
    "deletable": false,
    "editable": false,
    "nbgrader": {
     "cell_type": "markdown",
     "checksum": "875a72687677cdcc9a5f5121d30c10c7",
     "grade": false,
     "grade_id": "cell-1a15311140d64eb1",
     "locked": true,
     "schema_version": 3,
     "solution": false
    }
   },
   "source": [
    "# Problem 5\n",
    "\n",
    "A train bridge is constructed across a wide river. Trains arrive at the bridge according to a Poisson process of rate λ =3 per day."
   ]
  },
  {
   "cell_type": "markdown",
   "metadata": {
    "deletable": false,
    "editable": false,
    "nbgrader": {
     "cell_type": "markdown",
     "checksum": "8a61ba164c8e7fe000c83bf27dc9b74a",
     "grade": false,
     "grade_id": "cell-80d372fd7c01acfa",
     "locked": true,
     "schema_version": 3,
     "solution": false,
     "task": false
    }
   },
   "source": [
    "### Problem 5.1\n",
    "\n",
    "If a train arrives on day 0, find the probability that there will be no trains on days 1, 2 and 3."
   ]
  },
  {
   "cell_type": "code",
   "execution_count": 285,
   "metadata": {
    "deletable": false,
    "nbgrader": {
     "cell_type": "code",
     "checksum": "a78c604e6ef51916baac0b9d6155bff7",
     "grade": false,
     "grade_id": "cell-c8ba60a1731ee2d5",
     "locked": false,
     "schema_version": 3,
     "solution": true,
     "task": false
    }
   },
   "outputs": [
    {
     "data": {
      "text/plain": [
       "0.00012340980408667956"
      ]
     },
     "execution_count": 285,
     "metadata": {},
     "output_type": "execute_result"
    }
   ],
   "source": [
    "import numpy as np\n",
    "from math import factorial\n",
    "\n",
    "def myfunction5_1():\n",
    "    '''theoretical answer, please illustrate how you calculate the answer'''\n",
    "    # YOUR CODE HERE\n",
    "    k=0\n",
    "    P_day0=(3**k/factorial(k))*np.exp(-3)\n",
    "    P1=(P_day)**3\n",
    "    return P1\n",
    "myfunction5_1()"
   ]
  },
  {
   "cell_type": "code",
   "execution_count": null,
   "metadata": {
    "deletable": false,
    "editable": false,
    "nbgrader": {
     "cell_type": "code",
     "checksum": "46d9b7dab490e69f8c24453709e6c0ca",
     "grade": true,
     "grade_id": "cell-12467c0eed064a4e",
     "locked": true,
     "points": 0.25,
     "schema_version": 3,
     "solution": false,
     "task": false
    }
   },
   "outputs": [],
   "source": [
    "\"\"\"Check that myfunction5_1 returns the correct answer.\"\"\""
   ]
  },
  {
   "cell_type": "markdown",
   "metadata": {
    "deletable": false,
    "editable": false,
    "nbgrader": {
     "cell_type": "markdown",
     "checksum": "1793c0c96714f6451642305751d2b2ee",
     "grade": false,
     "grade_id": "cell-a2ed79da4cfac51a",
     "locked": true,
     "schema_version": 3,
     "solution": false
    }
   },
   "source": [
    "### Problem 5.2\n",
    "\n",
    "Find the probability that no trains arrive in the first 2 days, but 4 trains arrive on the 4th day."
   ]
  },
  {
   "cell_type": "code",
   "execution_count": 287,
   "metadata": {
    "deletable": false,
    "nbgrader": {
     "cell_type": "code",
     "checksum": "dc832cff25c3695e8898fcf1d3bc29cc",
     "grade": false,
     "grade_id": "cell-0bd05e328e852844",
     "locked": false,
     "schema_version": 3,
     "solution": true,
     "task": false
    }
   },
   "outputs": [
    {
     "data": {
      "text/plain": [
       "0.0004165080887925435"
      ]
     },
     "execution_count": 287,
     "metadata": {},
     "output_type": "execute_result"
    }
   ],
   "source": [
    "import numpy as np\n",
    "from math import factorial\n",
    "\n",
    "def myfunction5_2():\n",
    "    '''theoretical answer, please illustrate how you calculate the answer'''\n",
    "    # YOUR CODE HERE\n",
    "    k1=0\n",
    "    P_day0=(3**k1/factorial(k1))*np.exp(-3)\n",
    "    k2=4\n",
    "    P_day4=(3**k2/factorial(k2))*np.exp(-3)\n",
    "    \n",
    "    P2=P_day0**2*P_day4\n",
    "    return P2\n",
    "myfunction5_2()"
   ]
  },
  {
   "cell_type": "code",
   "execution_count": null,
   "metadata": {
    "deletable": false,
    "editable": false,
    "nbgrader": {
     "cell_type": "code",
     "checksum": "1c2246800f5a569deeaaaba6add58a97",
     "grade": true,
     "grade_id": "cell-24ded1de6f78b71e",
     "locked": true,
     "points": 0.25,
     "schema_version": 3,
     "solution": false,
     "task": false
    }
   },
   "outputs": [],
   "source": [
    "\"\"\"Check that myfunction5_2 returns the correct answer.\"\"\""
   ]
  }
 ],
 "metadata": {
  "kernelspec": {
   "display_name": "Python 3",
   "language": "python",
   "name": "python3"
  },
  "language_info": {
   "codemirror_mode": {
    "name": "ipython",
    "version": 3
   },
   "file_extension": ".py",
   "mimetype": "text/x-python",
   "name": "python",
   "nbconvert_exporter": "python",
   "pygments_lexer": "ipython3",
   "version": "3.6.9"
  }
 },
 "nbformat": 4,
 "nbformat_minor": 2
}
