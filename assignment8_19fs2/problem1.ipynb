{
 "cells": [
  {
   "cell_type": "markdown",
   "metadata": {},
   "source": [
    "Before you turn this problem in, make sure everything runs as expected. First, **restart the kernel** (in the menubar, select Kernel$\\rightarrow$Restart) and then **run all cells** (in the menubar, select Cell$\\rightarrow$Run All).\n",
    "\n",
    "Make sure you fill in any place that says `YOUR CODE HERE` or \"YOUR ANSWER HERE\", as well as your name and collaborators below:"
   ]
  },
  {
   "cell_type": "code",
   "execution_count": null,
   "metadata": {},
   "outputs": [],
   "source": [
    "NAME = \"Haitong Lin\"\n",
    "COLLABORATORS = \"\""
   ]
  },
  {
   "cell_type": "markdown",
   "metadata": {},
   "source": [
    "---"
   ]
  },
  {
   "cell_type": "markdown",
   "metadata": {
    "deletable": false,
    "editable": false,
    "nbgrader": {
     "cell_type": "markdown",
     "checksum": "1bde47c7d29b5e1b45407e6087ec8ad2",
     "grade": false,
     "grade_id": "jupyter",
     "locked": true,
     "schema_version": 3,
     "solution": false
    }
   },
   "source": [
    "Assignment 8, STATS102 Fall2019 Session 2, Duke Kunshan University, Due at Nov 12th 12：00pm beijing time\n",
    "![](dku.jpg)\n",
    "For this problem set, we'll be using the Jupyter notebook and nbgrader:\n",
    "\n",
    "![](jupyter.png)"
   ]
  },
  {
   "cell_type": "markdown",
   "metadata": {
    "deletable": false,
    "editable": false,
    "nbgrader": {
     "cell_type": "markdown",
     "checksum": "376c741421d4e255abcfb098f992970c",
     "grade": false,
     "grade_id": "cell-542b022beb07b3ef",
     "locked": true,
     "schema_version": 3,
     "solution": false
    }
   },
   "source": [
    "## Problem1\n",
    "\n",
    "Given an input numpy array (2D matrix), perform mean substraction for each column and return the resulted one using broadcasting"
   ]
  },
  {
   "cell_type": "code",
   "execution_count": 15,
   "metadata": {
    "deletable": false,
    "nbgrader": {
     "cell_type": "code",
     "checksum": "4c1cc9664e3f53f23ee702bc0ac09752",
     "grade": false,
     "grade_id": "111",
     "locked": false,
     "schema_version": 3,
     "solution": true
    }
   },
   "outputs": [],
   "source": [
    "import numpy as np\n",
    "def mean_sub_col(A):\n",
    "    # YOUR CODE HERE\n",
    "    Amean=A.mean(axis=0)\n",
    "    B=A-Amean\n",
    "    return B"
   ]
  },
  {
   "cell_type": "code",
   "execution_count": 16,
   "metadata": {
    "deletable": false,
    "editable": false,
    "nbgrader": {
     "cell_type": "code",
     "checksum": "42d67bbb022a9172745357c2af235e14",
     "grade": true,
     "grade_id": "cell-414a358ab53a56e9",
     "locked": true,
     "points": 0.5,
     "schema_version": 3,
     "solution": false
    }
   },
   "outputs": [],
   "source": [
    "import numpy as np\n",
    "x=np.arange(12).reshape(3,4)\n",
    "assert (mean_sub_col(x)==np.array([[-4., -4., -4., -4.],\n",
    "       [ 0.,  0.,  0.,  0.],\n",
    "       [ 4.,  4.,  4.,  4.]])).all()"
   ]
  },
  {
   "cell_type": "markdown",
   "metadata": {
    "deletable": false,
    "editable": false,
    "nbgrader": {
     "cell_type": "markdown",
     "checksum": "94f9981edc5fb5fd612429a402c8b557",
     "grade": false,
     "grade_id": "cell-a48bfcc9fff8c6d5",
     "locked": true,
     "schema_version": 3,
     "solution": false
    }
   },
   "source": [
    "# Problem2\n",
    "\n",
    "Given an input numpy array (2D matrix), perform mean substraction for each row and return the resulted one using broadcasting"
   ]
  },
  {
   "cell_type": "code",
   "execution_count": 26,
   "metadata": {
    "deletable": false,
    "nbgrader": {
     "cell_type": "code",
     "checksum": "01aab8888a205ae2acb5323774677561",
     "grade": false,
     "grade_id": "cell-03520fd89d5077af",
     "locked": false,
     "schema_version": 3,
     "solution": true
    }
   },
   "outputs": [],
   "source": [
    "import numpy as np\n",
    "def mean_sub_row(A):\n",
    "    # YOUR CODE HERE\n",
    "    Amean=A.mean(axis=1).reshape(3,1)\n",
    "    B=A-Amean\n",
    "    return B"
   ]
  },
  {
   "cell_type": "code",
   "execution_count": 27,
   "metadata": {
    "deletable": false,
    "editable": false,
    "nbgrader": {
     "cell_type": "code",
     "checksum": "f9f525f4bcb4b46fdc3be1a00612ef05",
     "grade": true,
     "grade_id": "cell-dd8bb702a91bf23f",
     "locked": true,
     "points": 0.5,
     "schema_version": 3,
     "solution": false
    }
   },
   "outputs": [],
   "source": [
    "import numpy as np\n",
    "x=np.arange(12).reshape(3,4)\n",
    "assert (mean_sub_row(x)==np.array([[-1.5, -0.5,  0.5,  1.5],\n",
    "       [-1.5, -0.5,  0.5,  1.5],\n",
    "       [-1.5, -0.5,  0.5,  1.5]])).all()"
   ]
  },
  {
   "cell_type": "markdown",
   "metadata": {
    "deletable": false,
    "editable": false,
    "nbgrader": {
     "cell_type": "markdown",
     "checksum": "d34429c3a954cc4ddda16df2807d4abf",
     "grade": false,
     "grade_id": "cell-2ca97c58b0ae73d4",
     "locked": true,
     "schema_version": 3,
     "solution": false
    }
   },
   "source": [
    "## Problem3\n",
    "for an input scalar variable x (\\\\( x \\in (0,2\\pi)\\\\)) and positive integer N, calculate and return \\\\( \\Sigma_{k=1}^{N} \\frac{(-1)^{k-1}x^{2k-1}}{(2k-1)!}\\\\), we will compare the results with \\\\( sin(x) \\\\) according to different N. Hint: np.arange np.sum np.multiply.accumulate"
   ]
  },
  {
   "cell_type": "code",
   "execution_count": 81,
   "metadata": {
    "deletable": false,
    "nbgrader": {
     "cell_type": "code",
     "checksum": "2a63eb9a37feb07e75aaccf24b21c7d1",
     "grade": false,
     "grade_id": "cell-165f4c3c5309d68b",
     "locked": false,
     "schema_version": 3,
     "solution": true
    }
   },
   "outputs": [],
   "source": [
    "import numpy as np\n",
    "def mysin(x,N):\n",
    "    # YOUR CODE HERE\n",
    "    k=np.arange(1,N+1)\n",
    "    K=np.multiply.accumulate(np.arange(1,2*N))\n",
    "    K=K[::2]\n",
    "    data=(((-1)**(k-1))*(x**(2*k-1)))/K\n",
    "    output=np.sum(data)\n",
    "    \n",
    "    return output"
   ]
  },
  {
   "cell_type": "code",
   "execution_count": 83,
   "metadata": {
    "deletable": false,
    "editable": false,
    "nbgrader": {
     "cell_type": "code",
     "checksum": "790960055bec7393c22e70fa8bf6f97f",
     "grade": true,
     "grade_id": "cell-f8edd21d15182d29",
     "locked": true,
     "points": 1,
     "schema_version": 3,
     "solution": false
    }
   },
   "outputs": [],
   "source": [
    "assert(abs(mysin(np.pi/2,10)-1)<1e-5)\n",
    "assert(abs(mysin(np.pi/4,10)-np.sqrt(2)/2)<1e-5)\n",
    "assert(abs(mysin(np.pi*3/2,10)-(-1))<1e-5)"
   ]
  }
 ],
 "metadata": {
  "kernelspec": {
   "display_name": "Python 3",
   "language": "python",
   "name": "python3"
  },
  "language_info": {
   "codemirror_mode": {
    "name": "ipython",
    "version": 3
   },
   "file_extension": ".py",
   "mimetype": "text/x-python",
   "name": "python",
   "nbconvert_exporter": "python",
   "pygments_lexer": "ipython3",
   "version": "3.7.6"
  }
 },
 "nbformat": 4,
 "nbformat_minor": 1
}
