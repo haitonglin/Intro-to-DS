{
 "cells": [
  {
   "cell_type": "markdown",
   "metadata": {},
   "source": [
    "Before you turn this problem in, make sure everything runs as expected. First, **restart the kernel** (in the menubar, select Kernel$\\rightarrow$Restart) and then **run all cells** (in the menubar, select Cell$\\rightarrow$Run All).\n",
    "\n",
    "Make sure you fill in any place that says `YOUR CODE HERE` or \"YOUR ANSWER HERE\", as well as your name and collaborators below:"
   ]
  },
  {
   "cell_type": "code",
   "execution_count": null,
   "metadata": {},
   "outputs": [],
   "source": [
    "NAME = \"Haitong Lin\"\n",
    "COLLABORATORS = \"\""
   ]
  },
  {
   "cell_type": "markdown",
   "metadata": {},
   "source": [
    "---"
   ]
  },
  {
   "cell_type": "markdown",
   "metadata": {
    "deletable": false,
    "editable": false,
    "nbgrader": {
     "cell_type": "markdown",
     "checksum": "788736c8eb79b49c54e438c581e37543",
     "grade": false,
     "grade_id": "cell-9f1f9ac6cd7b8166",
     "locked": true,
     "schema_version": 3,
     "solution": false
    }
   },
   "source": [
    "Problem 1 of quiz 3, STATS102 Fall2019 Session 2, Duke Kunshan University,  Nov 4th\n",
    "![](dku.jpg)\n",
    "For this problem set, we'll be using the Jupyter notebook:\n",
    "![](jupyter.png) "
   ]
  },
  {
   "cell_type": "markdown",
   "metadata": {
    "deletable": false,
    "editable": false,
    "nbgrader": {
     "cell_type": "markdown",
     "checksum": "b9b37faebdcb9b5668201488ec5265b4",
     "grade": false,
     "grade_id": "cell-5449c5dd23252508",
     "locked": true,
     "schema_version": 3,
     "solution": false
    }
   },
   "source": [
    "Test whether the elements in input the list are in a strictly ascending order, return bool type decision."
   ]
  },
  {
   "cell_type": "code",
   "execution_count": 1,
   "metadata": {},
   "outputs": [],
   "source": [
    "def strictly_ascending_list(mylist):\n",
    "    if(len(mylist)==1):\n",
    "        return True\n",
    "    for i in range(0,len(mylist)):\n",
    "        return mylist[i]<mylist[i+1]"
   ]
  },
  {
   "cell_type": "code",
   "execution_count": null,
   "metadata": {
    "deletable": false,
    "nbgrader": {
     "cell_type": "code",
     "checksum": "e42faa657478833383e2a20fd3a76b31",
     "grade": false,
     "grade_id": "strictly_ascending_list",
     "locked": false,
     "schema_version": 3,
     "solution": true
    }
   },
   "outputs": [],
   "source": [
    "def strictly_ascending_list(mylist):\n",
    "    # YOUR CODE HERE\n",
    "    for i in range(0,len(mylist)):\n",
    "        return mylist[i]<mylist[i+1]\n",
    "    \n",
    "    \n",
    "    #parts I missed (not used in this problem so no need to include):\n",
    "    #if len(mylist)==1\n",
    "    #return True  (or I can return False in last step and others return True)     "
   ]
  },
  {
   "cell_type": "code",
   "execution_count": 2,
   "metadata": {
    "deletable": false,
    "editable": false,
    "nbgrader": {
     "cell_type": "code",
     "checksum": "5f2e3bfd35c9146faadaabbc588b5576",
     "grade": true,
     "grade_id": "strictly_ascending_list1",
     "locked": true,
     "points": 0.5,
     "schema_version": 3,
     "solution": false
    }
   },
   "outputs": [],
   "source": [
    "assert strictly_ascending_list([3, 6, 8, 9])==True\n",
    "assert strictly_ascending_list([-1, 3, 11, 17, 19])==True\n",
    "assert strictly_ascending_list([-1, 0, 1, 2])==True\n",
    "assert strictly_ascending_list([9, 8, 7, 6])==False\n",
    "assert strictly_ascending_list([-1, -2, -3, -4])==False\n",
    "assert strictly_ascending_list([1, 1, 4, 5])==False\n"
   ]
  }
 ],
 "metadata": {
  "kernelspec": {
   "display_name": "Python 3",
   "language": "python",
   "name": "python3"
  },
  "language_info": {
   "codemirror_mode": {
    "name": "ipython",
    "version": 3
   },
   "file_extension": ".py",
   "mimetype": "text/x-python",
   "name": "python",
   "nbconvert_exporter": "python",
   "pygments_lexer": "ipython3",
   "version": "3.7.4"
  }
 },
 "nbformat": 4,
 "nbformat_minor": 2
}
