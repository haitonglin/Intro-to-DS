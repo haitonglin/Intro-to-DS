{
 "cells": [
  {
   "cell_type": "markdown",
   "metadata": {},
   "source": [
    "Before you turn this problem in, make sure everything runs as expected. First, **restart the kernel** (in the menubar, select Kernel$\\rightarrow$Restart) and then **run all cells** (in the menubar, select Cell$\\rightarrow$Run All).\n",
    "\n",
    "Make sure you fill in any place that says `YOUR CODE HERE` or \"YOUR ANSWER HERE\", as well as your name and collaborators below:"
   ]
  },
  {
   "cell_type": "code",
   "execution_count": null,
   "metadata": {},
   "outputs": [],
   "source": [
    "NAME = \"Haitong Lin\"\n",
    "COLLABORATORS = \"\""
   ]
  },
  {
   "cell_type": "markdown",
   "metadata": {},
   "source": [
    "---"
   ]
  },
  {
   "cell_type": "markdown",
   "metadata": {
    "deletable": false,
    "editable": false,
    "nbgrader": {
     "cell_type": "markdown",
     "checksum": "90bc98d569de4444c2ee9ac37b0aa279",
     "grade": false,
     "grade_id": "jupyter",
     "locked": true,
     "schema_version": 3,
     "solution": false
    }
   },
   "source": [
    "Problem 1 of Assignment 18, STATS102 Fall2019 Session 2, Duke Kunshan University, Due at Nov 29th 12：00pm beijing time\n",
    "![](dku.jpg)\n",
    "For this problem set, we'll be using the Jupyter notebook and nbgrader:\n",
    "\n",
    "![](jupyter.png)"
   ]
  },
  {
   "cell_type": "markdown",
   "metadata": {
    "deletable": false,
    "editable": false,
    "nbgrader": {
     "cell_type": "markdown",
     "checksum": "af9b4c99bd21c097ddd2e1afdcc3ce8c",
     "grade": false,
     "grade_id": "cell-542b022beb07b3ef",
     "locked": true,
     "schema_version": 3,
     "solution": false
    }
   },
   "source": [
    "# Problem 1\n",
    "\n",
    "A rod of unit length is broken into three parts. What is the probability that the three parts can be arranged to form a triangle? \n",
    "\n",
    "You can upload photos, draw a figure, or write some words to illustrate your answer."
   ]
  },
  {
   "cell_type": "code",
   "execution_count": 3,
   "metadata": {
    "deletable": false,
    "nbgrader": {
     "cell_type": "code",
     "checksum": "f0a99dfaed368df9ebfb70ff83d64b26",
     "grade": false,
     "grade_id": "p1",
     "locked": false,
     "schema_version": 3,
     "solution": true,
     "task": false
    }
   },
   "outputs": [
    {
     "data": {
      "text/plain": [
       "0.24864430608555935"
      ]
     },
     "execution_count": 3,
     "metadata": {},
     "output_type": "execute_result"
    }
   ],
   "source": [
    "import numpy as np\n",
    "\n",
    "def myfunction1():\n",
    "    '''theoretical answer, please illustrate how you calculate the answer'''\n",
    "    # YOUR CODE HERE\n",
    "    count=0\n",
    "    times=0\n",
    "    n=10000\n",
    "    for i in range(n):\n",
    "        a=np.random.uniform(0,1)\n",
    "        b=np.random.uniform(0,1)\n",
    "        if a+b<1:\n",
    "            times+=1\n",
    "        if a+b>1/2 and a<1/2 and b<1/2:\n",
    "            count+=1\n",
    "    return count/times\n",
    "myfunction1()"
   ]
  },
  {
   "cell_type": "markdown",
   "metadata": {
    "deletable": false,
    "nbgrader": {
     "cell_type": "markdown",
     "checksum": "a8079337d17ef7fb4a3327891a576ba7",
     "grade": true,
     "grade_id": "cell-8ba543eee56e8ca1",
     "locked": false,
     "points": 0.5,
     "schema_version": 3,
     "solution": true,
     "task": false
    }
   },
   "source": [
    "YOUR ANSWER HERE\n",
    "\n",
    "$Assume\\ that\\ a,b,c\\ are\\ the\\ three\\ parts,\\ we\\ will\\ know\\ that:$ \n",
    "$$a+b+c=1$$  \n",
    "$$a+b<1$$  \n",
    "$If\\ a,b,c\\ can\\ be\\ arranged\\ to\\ form\\ a\\ triangle,$  \n",
    "$$a+b>c=1-a-b\\$$ \n",
    "\n",
    "$$a<\\frac{1}{2},\\ b<\\frac{1}{2},\\ c<\\frac{1}{2}$$  \n",
    "$$\\Longrightarrow\\ a+b>\\frac{1}{2}$$\n",
    " \n",
    "$With\\ linear\\ programming,\\ we\\ know\\ that\\$\n",
    "\n",
    "![](LP.jpg) \n",
    "\n",
    "$The\\ probability\\ of\\ a,b,c\\ being\\ parts\\ of\\ a\\ unit\\ length\\ is:$ \n",
    "\n",
    "$$P1=1*1*\\frac{1}{2}=\\frac{1}{2}$$  \n",
    "$And\\ the\\ probability\\ of\\ forming\\ a\\ triangle\\ is:$  \n",
    "$$P2=\\frac{1}{2}*\\frac{1}{2}*\\frac{1}{2}=\\frac{1}{8}$$  \n",
    "\n",
    "$Therefore,$  \n",
    "$$ P=\\frac{P2}{P1}=\\frac{1}{4}$$  "
   ]
  },
  {
   "cell_type": "code",
   "execution_count": 4,
   "metadata": {
    "deletable": false,
    "editable": false,
    "nbgrader": {
     "cell_type": "code",
     "checksum": "928e463bf93244017a7bbd0386cc5a9c",
     "grade": true,
     "grade_id": "cell-c1e840c534c6e45a",
     "locked": true,
     "points": 0.5,
     "schema_version": 3,
     "solution": false,
     "task": false
    }
   },
   "outputs": [
    {
     "data": {
      "text/plain": [
       "'Hidden tests: Check that myfunction1 returns the correct answer.'"
      ]
     },
     "execution_count": 4,
     "metadata": {},
     "output_type": "execute_result"
    }
   ],
   "source": [
    "\"\"\"Hidden tests: Check that myfunction1 returns the correct answer.\"\"\""
   ]
  },
  {
   "cell_type": "markdown",
   "metadata": {
    "deletable": false,
    "editable": false,
    "nbgrader": {
     "cell_type": "markdown",
     "checksum": "5501c35aa109313ea5bd26b699731919",
     "grade": false,
     "grade_id": "cell-abb42f9f1d5faf3a",
     "locked": true,
     "schema_version": 3,
     "solution": false,
     "task": false
    }
   },
   "source": [
    "# Problem 2\n",
    "\n",
    "Assume a new light bulb will burn out after $t$ hours, where $t$ is chosen from $[0, \\infty )$ with exponential density\n",
    "\n",
    "$$f(t) = \\lambda e^{-\\lambda t}$$\n",
    "\n",
    "In this context, $\\lambda$ is often called the failure rate of the bulb.\n",
    "\n",
    "(a) Assume that $\\lambda = \\frac{1}{100}$, find and plot the probability that the bulb will <b>not</b> burn out before $T$ hours ($T \\in [0,720)$). This probability is often called the reliability of the bulb.\n",
    "\n",
    "(b) Assume that $\\lambda = \\frac{1}{1000}$, for what value of $T$ does the reliability of the bulb equal 1/2?"
   ]
  },
  {
   "cell_type": "code",
   "execution_count": 7,
   "metadata": {
    "deletable": false,
    "nbgrader": {
     "cell_type": "code",
     "checksum": "91a1a8222888fd6a7fac926713150710",
     "grade": false,
     "grade_id": "p2a1",
     "locked": false,
     "schema_version": 3,
     "solution": true,
     "task": false
    }
   },
   "outputs": [
    {
     "data": {
      "image/png": "[encoded data removed]",
      "text/plain": [
       "<Figure size 432x288 with 1 Axes>"
      ]
     },
     "metadata": {
      "needs_background": "light"
     },
     "output_type": "display_data"
    }
   ],
   "source": [
    "%matplotlib inline\n",
    "import numpy as np\n",
    "import matplotlib.pyplot as plt\n",
    "\n",
    "def myfunction2_a():\n",
    "    # YOUR CODE HERE\n",
    "    x = np.linspace(0, 720, 10000)\n",
    "    plt.plot(x,(1-np.exp(-1/100*x)))\n",
    "    plt.title('The reliability of the bulb')\n",
    "    return plt.show()\n",
    "\n",
    "myfunction2_a()"
   ]
  },
  {
   "cell_type": "markdown",
   "metadata": {
    "deletable": false,
    "nbgrader": {
     "cell_type": "markdown",
     "checksum": "9e82b28a5cb8573c4c737b2bf5f519d5",
     "grade": true,
     "grade_id": "cell-84398f5c1f76bd0e",
     "locked": false,
     "points": 0.5,
     "schema_version": 3,
     "solution": true,
     "task": false
    }
   },
   "source": [
    "YOUR ANSWER HERE\n",
    "\n",
    "$The\\ probability\\ mass\\ function\\ is\\ given\\ by\\ intergrating\\ the\\ function\\ we\\ have\\$  \n",
    "\n",
    "$$ F(t)=-e^{-\\lambda t}$$  \n",
    "\n",
    "$Then\\ we\\ plot\\ the\\ probability.$ "
   ]
  },
  {
   "cell_type": "code",
   "execution_count": 12,
   "metadata": {
    "deletable": false,
    "nbgrader": {
     "cell_type": "code",
     "checksum": "27e1cc86f01d51179dc6379a9399b749",
     "grade": false,
     "grade_id": "p2a2",
     "locked": false,
     "schema_version": 3,
     "solution": true,
     "task": false
    }
   },
   "outputs": [
    {
     "data": {
      "text/plain": [
       "694"
      ]
     },
     "execution_count": 12,
     "metadata": {},
     "output_type": "execute_result"
    }
   ],
   "source": [
    "import numpy as np\n",
    "\n",
    "def myfunction2_b():\n",
    "    # YOUR CODE HERE\n",
    "    n=100000\n",
    "    for i in range(n):\n",
    "        if (1/2)-(1-np.exp(-1/1000*i))<0.000001:\n",
    "            return i\n",
    "    \n",
    "myfunction2_b()"
   ]
  },
  {
   "cell_type": "markdown",
   "metadata": {
    "deletable": false,
    "nbgrader": {
     "cell_type": "markdown",
     "checksum": "3c3dfd6b29dfa0bfdb4309572e262b95",
     "grade": true,
     "grade_id": "cell-3b5ffc47e15f5b60",
     "locked": false,
     "points": 0.25,
     "schema_version": 3,
     "solution": true,
     "task": false
    }
   },
   "source": [
    "YOUR ANSWER HERE\n",
    "\n",
    "$Accroding\\ to\\ problem\\ (a),\\ the\\ probability\\ mass\\ function:\\$\n",
    "\n",
    "$$ F(t)=1-e^{-\\lambda t}\\ \\ \\  (\\lambda=\\frac{1}{1000})$$ \n",
    "\n",
    "$When\\ the\\ reliability\\ of\\ the\\ bulb\\ equals\\ to\\ 1/2:$ \n",
    "$$ 1-e^{-\\frac{1}{1000}t}=\\frac{1}{2} $$  \n",
    "$$e^{-\\frac{1}{1000}t}=\\frac{1}{2} $$  \n",
    "$$ -\\frac{1}{1000}t=ln\\frac{1}{2} $$  \n",
    "$$ t=-1000\\ ln\\frac{1}{2}$$"
   ]
  },
  {
   "cell_type": "code",
   "execution_count": 11,
   "metadata": {},
   "outputs": [
    {
     "data": {
      "text/plain": [
       "693.1471805599452"
      ]
     },
     "execution_count": 11,
     "metadata": {},
     "output_type": "execute_result"
    }
   ],
   "source": [
    "t=-1000*np.log(1/2)\n",
    "t"
   ]
  },
  {
   "cell_type": "code",
   "execution_count": 10,
   "metadata": {
    "deletable": false,
    "editable": false,
    "nbgrader": {
     "cell_type": "code",
     "checksum": "eb6d2b334d9f747ea4c7c1f2e5848c41",
     "grade": true,
     "grade_id": "cell-1cfc977147842732",
     "locked": true,
     "points": 0.25,
     "schema_version": 3,
     "solution": false,
     "task": false
    }
   },
   "outputs": [
    {
     "data": {
      "text/plain": [
       "'Hidden tests: Check that myfunction2_b returns the correct answer.'"
      ]
     },
     "execution_count": 10,
     "metadata": {},
     "output_type": "execute_result"
    }
   ],
   "source": [
    "\"\"\"Hidden tests: Check that myfunction2_b returns the correct answer.\"\"\""
   ]
  }
 ],
 "metadata": {
  "kernelspec": {
   "display_name": "Python 3",
   "language": "python",
   "name": "python3"
  },
  "language_info": {
   "codemirror_mode": {
    "name": "ipython",
    "version": 3
   },
   "file_extension": ".py",
   "mimetype": "text/x-python",
   "name": "python",
   "nbconvert_exporter": "python",
   "pygments_lexer": "ipython3",
   "version": "3.6.9"
  }
 },
 "nbformat": 4,
 "nbformat_minor": 1
}
