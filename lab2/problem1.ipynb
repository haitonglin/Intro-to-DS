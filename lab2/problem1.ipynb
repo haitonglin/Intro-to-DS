{
 "cells": [
  {
   "cell_type": "markdown",
   "metadata": {},
   "source": [
    "Before you turn this problem in, make sure everything runs as expected. First, **restart the kernel** (in the menubar, select Kernel$\\rightarrow$Restart) and then **run all cells** (in the menubar, select Cell$\\rightarrow$Run All).\n",
    "\n",
    "Make sure you fill in any place that says `YOUR CODE HERE` or \"YOUR ANSWER HERE\", as well as your name and collaborators below:"
   ]
  },
  {
   "cell_type": "code",
   "execution_count": null,
   "metadata": {},
   "outputs": [],
   "source": [
    "NAME = \"Haitong Lin\"\n",
    "COLLABORATORS = \"\""
   ]
  },
  {
   "cell_type": "markdown",
   "metadata": {},
   "source": [
    "---"
   ]
  },
  {
   "cell_type": "markdown",
   "metadata": {
    "deletable": false,
    "editable": false,
    "nbgrader": {
     "cell_type": "markdown",
     "checksum": "a393de72263683d18d6831829298190e",
     "grade": false,
     "grade_id": "cell-9f1f9ac6cd7b8166",
     "locked": true,
     "schema_version": 3,
     "solution": false
    }
   },
   "source": [
    "Lab 2, STATS102 Fall2019 Session 2, Duke Kunshan University, Nov 7th\n",
    "![](dku.jpg)\n",
    "For this problem set, we'll be using the Jupyter notebook:\n",
    "![](jupyter.png) "
   ]
  },
  {
   "cell_type": "markdown",
   "metadata": {
    "deletable": false,
    "editable": false,
    "nbgrader": {
     "cell_type": "markdown",
     "checksum": "d5ef10ae575f8fe156a5a68bbc3b3747",
     "grade": false,
     "grade_id": "cell-5449c5dd23252508",
     "locked": true,
     "schema_version": 3,
     "solution": false
    }
   },
   "source": [
    "In this project, we will use modular programming to print a calendar.\n",
    "\n",
    "Modular programming is a software design technique that emphasizes separating the functionality of a program into independent, interchangeable modules, such that each contains everything necessary to execute only one aspect of the desired functionality.\n",
    "\n"
   ]
  },
  {
   "cell_type": "markdown",
   "metadata": {},
   "source": [
    "![image.png](image.png)"
   ]
  },
  {
   "cell_type": "markdown",
   "metadata": {},
   "source": [
    "Calculate the total days in a given month.\n",
    "\n",
    "Determining whether the year is a leap year will be helpful. You can refer to https://en.wikipedia.org/wiki/Leap_year#Algorithm."
   ]
  },
  {
   "cell_type": "code",
   "execution_count": 1,
   "metadata": {
    "deletable": false,
    "nbgrader": {
     "cell_type": "code",
     "checksum": "867fd03e339f4843d08d613ab44f18f8",
     "grade": false,
     "grade_id": "strictly_ascending_list",
     "locked": false,
     "schema_version": 3,
     "solution": true
    }
   },
   "outputs": [],
   "source": [
    "def isLeapYear(year):\n",
    "    # determine whether a given year is a leap year\n",
    "    # return True or False\n",
    "    \n",
    "    # YOUR CODE HERE\n",
    "    if year%4!=0:\n",
    "        return False\n",
    "    elif year%100!=0:\n",
    "        return True\n",
    "    elif year%400!=0:\n",
    "        return False\n",
    "    else:\n",
    "        return True"
   ]
  },
  {
   "cell_type": "markdown",
   "metadata": {},
   "source": [
    "Given **the day of week** of the **first day of the month** and the **total days in the month**, format the calendar output of the corresponding month."
   ]
  },
  {
   "cell_type": "code",
   "execution_count": 8,
   "metadata": {
    "deletable": false,
    "nbgrader": {
     "cell_type": "code",
     "checksum": "38654e66d2ae54844724dd382529b1ee",
     "grade": false,
     "grade_id": "strictly_ascending_list1",
     "locked": false,
     "schema_version": 3,
     "solution": true,
     "task": false
    }
   },
   "outputs": [],
   "source": [
    "def getAmountOfDays(month, year):\n",
    "    # calculate and return the total days in a given month\n",
    "    # use isLeapYear() function\n",
    "    \n",
    "    # YOUR CODE HERE\n",
    "    if month==2 and isLeapYear(year)==True:\n",
    "        return 29\n",
    "    if month==2 and isLeapYear(year)==False:\n",
    "        return 28\n",
    "    \n",
    "    big=[1,3,5,7,8,10,12]\n",
    "    small=[4,6,9,11]\n",
    "    \n",
    "    if month in big:\n",
    "        return 31\n",
    "    if month in small:\n",
    "        return 30\n",
    "    "
   ]
  },
  {
   "cell_type": "code",
   "execution_count": 18,
   "metadata": {
    "deletable": false,
    "nbgrader": {
     "cell_type": "code",
     "checksum": "801d0b557ffbca4b470cfefaace9c9b3",
     "grade": false,
     "grade_id": "cell-e0009896e4596007",
     "locked": false,
     "schema_version": 3,
     "solution": true,
     "task": false
    }
   },
   "outputs": [],
   "source": [
    "def getYearMonth():\n",
    "    # input\n",
    "    # year =\n",
    "    # month =\n",
    "    # check input\n",
    "    # return (int(month), int(year))\n",
    "    \n",
    "   # YOUR CODE HERE\n",
    "    year=input('what is the year you want?')\n",
    "    month=input('what is the month you want?')\n",
    "    return (int(month),int(year))"
   ]
  },
  {
   "cell_type": "markdown",
   "metadata": {},
   "source": [
    "Another useful function is `getMonthStartDay(month, year)`, it return the **the day of week** of the **first day of the month**. The returned number and its corresponding weekday are:\n",
    "\n",
    "| Sunday | Monday | Tuesday | Wednesday | Thursday | Friday | Saturday |\n",
    "| ------ | ------ | ------- | --------- | -------- | ------ | -------- |\n",
    "| 0      | 1      | 2       | 3         | 4        | 5      | 6        |\n",
    "\n",
    "\n",
    "Calculate the Month's start day. Use the algorithm in https://en.wikipedia.org/wiki/Determination_of_the_day_of_the_week#Disparate_variation. The returned number and its corresponding weekday are:\n",
    "\n",
    "| Sunday | Monday | Tuesday | Wednesday | Thursday | Friday | Saturday |\n",
    "| ------ | ------ | ------- | --------- | -------- | ------ | -------- |\n",
    "| 0      | 1      | 2       | 3         | 4        | 5      | 6        |"
   ]
  },
  {
   "cell_type": "code",
   "execution_count": 34,
   "metadata": {
    "deletable": false,
    "nbgrader": {
     "cell_type": "code",
     "checksum": "a09526e6c29fceee3cfb64742dbc5141",
     "grade": false,
     "grade_id": "cell-be2566487c305f77",
     "locked": false,
     "schema_version": 3,
     "solution": true,
     "task": false
    }
   },
   "outputs": [],
   "source": [
    "def getMonthStartDay(month, year):\n",
    "    # calculate and return the Month's start day\n",
    "\n",
    "    # YOUR CODE HERE\n",
    "    if month in [1,2]:\n",
    "        Y=int(year)-1\n",
    "    if month not in [1,2]:\n",
    "        Y=int(year)\n",
    "        \n",
    "    y=str(Y)[2:]\n",
    "    c=str(Y)[0:2]\n",
    "    d=1\n",
    "    \n",
    "    shiftmonth=[11,12,1,2,3,4,5,6,7,8,9,10]\n",
    "    m=shiftmonth[int(month)-1]\n",
    "    \n",
    "    w=(d+(2.6*m-0.2)//1+int(y)+(int(y)//4)+(int(c)//4)-2*int(c))%7\n",
    "    \n",
    "    return int(w)"
   ]
  },
  {
   "cell_type": "code",
   "execution_count": 35,
   "metadata": {
    "deletable": false,
    "nbgrader": {
     "cell_type": "code",
     "checksum": "cf628107ce10724dea41240e785941f3",
     "grade": false,
     "grade_id": "cell-f8b6f3af9b05ae45",
     "locked": false,
     "schema_version": 3,
     "solution": true,
     "task": false
    }
   },
   "outputs": [],
   "source": [
    "def printMonthTable(month, year):\n",
    "    # print title here\n",
    "    mon={1:'January',2:'Feburary',3:'March',4:'April',5:'May',6:'June',7:'July',8:'August',9:'September',10:'October',11:'November',12:'December'}\n",
    "    print(mon.get(month),year)\n",
    "    print('Sun\\tMon\\tTus\\tWed\\tThus\\tFri\\tSat')\n",
    "    # printLeadingEmptyColumnsToStartDay(startDay)\n",
    "    day=getMonthStartDay(month, year)\n",
    "    print('\\t'*(getMonthStartDay(month, year)), end='')\n",
    "    for i in range(getAmountOfDays(month, year)):\n",
    "        if (i+day)%7==0:\n",
    "            print('\\n')\n",
    "        print(str(i+1)+'\\t', end='')\n",
    "    \n",
    "    # YOUR CODE HERE\n",
    "    "
   ]
  },
  {
   "cell_type": "code",
   "execution_count": 36,
   "metadata": {
    "deletable": false,
    "nbgrader": {
     "cell_type": "code",
     "checksum": "deb024ec171c57f0f91ef3c47dd2d66b",
     "grade": false,
     "grade_id": "cell-2dd857483e104c7d",
     "locked": false,
     "schema_version": 3,
     "solution": true,
     "task": false
    }
   },
   "outputs": [],
   "source": [
    "def main():\n",
    "    (month, year) =  getYearMonth()\n",
    "    printMonthTable(month, year)\n",
    "    # YOUR CODE HERE\n",
    "    "
   ]
  },
  {
   "cell_type": "code",
   "execution_count": 37,
   "metadata": {
    "deletable": false,
    "editable": false,
    "nbgrader": {
     "cell_type": "code",
     "checksum": "ed1a8a62b12c5722a11abeebd2adc212",
     "grade": true,
     "grade_id": "cell-751309db16b03a89",
     "locked": true,
     "points": 0,
     "schema_version": 3,
     "solution": false,
     "task": false
    }
   },
   "outputs": [
    {
     "name": "stdout",
     "output_type": "stream",
     "text": [
      "what is the year you want?2019\n",
      "what is the month you want?11\n",
      "November 2019\n",
      "Sun\tMon\tTus\tWed\tThus\tFri\tSat\n",
      "\t\t\t\t\t1\t2\t\n",
      "\n",
      "3\t4\t5\t6\t7\t8\t9\t\n",
      "\n",
      "10\t11\t12\t13\t14\t15\t16\t\n",
      "\n",
      "17\t18\t19\t20\t21\t22\t23\t\n",
      "\n",
      "24\t25\t26\t27\t28\t29\t30\t"
     ]
    }
   ],
   "source": [
    "main()"
   ]
  }
 ],
 "metadata": {
  "kernelspec": {
   "display_name": "Python 3",
   "language": "python",
   "name": "python3"
  },
  "language_info": {
   "codemirror_mode": {
    "name": "ipython",
    "version": 3
   },
   "file_extension": ".py",
   "mimetype": "text/x-python",
   "name": "python",
   "nbconvert_exporter": "python",
   "pygments_lexer": "ipython3",
   "version": "3.6.9"
  }
 },
 "nbformat": 4,
 "nbformat_minor": 2
}
